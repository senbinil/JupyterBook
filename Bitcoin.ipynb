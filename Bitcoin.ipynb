{
 "cells": [
  {
   "cell_type": "code",
   "execution_count": 76,
   "id": "4439bf1a",
   "metadata": {},
   "outputs": [],
   "source": [
    "import pandas as pd\n",
    "import numpy as np\n",
    "from matplotlib import pyplot as plt\n",
    "import warnings\n",
    "warnings.filterwarnings('ignore')"
   ]
  },
  {
   "cell_type": "code",
   "execution_count": 77,
   "id": "404637a3",
   "metadata": {},
   "outputs": [],
   "source": [
    "bitCoin=pd.read_csv('BitcoinPrice.csv')"
   ]
  },
  {
   "cell_type": "code",
   "execution_count": 78,
   "id": "21ede475",
   "metadata": {},
   "outputs": [
    {
     "data": {
      "text/html": [
       "<div>\n",
       "<style scoped>\n",
       "    .dataframe tbody tr th:only-of-type {\n",
       "        vertical-align: middle;\n",
       "    }\n",
       "\n",
       "    .dataframe tbody tr th {\n",
       "        vertical-align: top;\n",
       "    }\n",
       "\n",
       "    .dataframe thead th {\n",
       "        text-align: right;\n",
       "    }\n",
       "</style>\n",
       "<table border=\"1\" class=\"dataframe\">\n",
       "  <thead>\n",
       "    <tr style=\"text-align: right;\">\n",
       "      <th></th>\n",
       "      <th>Date</th>\n",
       "      <th>Price</th>\n",
       "    </tr>\n",
       "  </thead>\n",
       "  <tbody>\n",
       "    <tr>\n",
       "      <th>0</th>\n",
       "      <td>2018-08-25 00:00:00</td>\n",
       "      <td>6719.429231</td>\n",
       "    </tr>\n",
       "    <tr>\n",
       "      <th>1</th>\n",
       "      <td>2018-08-26 00:00:00</td>\n",
       "      <td>6673.274167</td>\n",
       "    </tr>\n",
       "    <tr>\n",
       "      <th>2</th>\n",
       "      <td>2018-08-27 00:00:00</td>\n",
       "      <td>6719.266154</td>\n",
       "    </tr>\n",
       "    <tr>\n",
       "      <th>3</th>\n",
       "      <td>2018-08-28 00:00:00</td>\n",
       "      <td>7000.040000</td>\n",
       "    </tr>\n",
       "    <tr>\n",
       "      <th>4</th>\n",
       "      <td>2018-08-29 00:00:00</td>\n",
       "      <td>7054.276429</td>\n",
       "    </tr>\n",
       "  </tbody>\n",
       "</table>\n",
       "</div>"
      ],
      "text/plain": [
       "                  Date        Price\n",
       "0  2018-08-25 00:00:00  6719.429231\n",
       "1  2018-08-26 00:00:00  6673.274167\n",
       "2  2018-08-27 00:00:00  6719.266154\n",
       "3  2018-08-28 00:00:00  7000.040000\n",
       "4  2018-08-29 00:00:00  7054.276429"
      ]
     },
     "execution_count": 78,
     "metadata": {},
     "output_type": "execute_result"
    }
   ],
   "source": [
    "bitCoin.head()"
   ]
  },
  {
   "cell_type": "code",
   "execution_count": 79,
   "id": "6bbe3e12",
   "metadata": {},
   "outputs": [
    {
     "data": {
      "text/html": [
       "<div>\n",
       "<style scoped>\n",
       "    .dataframe tbody tr th:only-of-type {\n",
       "        vertical-align: middle;\n",
       "    }\n",
       "\n",
       "    .dataframe tbody tr th {\n",
       "        vertical-align: top;\n",
       "    }\n",
       "\n",
       "    .dataframe thead th {\n",
       "        text-align: right;\n",
       "    }\n",
       "</style>\n",
       "<table border=\"1\" class=\"dataframe\">\n",
       "  <thead>\n",
       "    <tr style=\"text-align: right;\">\n",
       "      <th></th>\n",
       "      <th>Date</th>\n",
       "      <th>Price</th>\n",
       "    </tr>\n",
       "  </thead>\n",
       "  <tbody>\n",
       "    <tr>\n",
       "      <th>360</th>\n",
       "      <td>2019-08-20 00:00:00</td>\n",
       "      <td>10746.507692</td>\n",
       "    </tr>\n",
       "    <tr>\n",
       "      <th>361</th>\n",
       "      <td>2019-08-21 00:00:00</td>\n",
       "      <td>10169.094167</td>\n",
       "    </tr>\n",
       "    <tr>\n",
       "      <th>362</th>\n",
       "      <td>2019-08-22 00:00:00</td>\n",
       "      <td>10030.746667</td>\n",
       "    </tr>\n",
       "    <tr>\n",
       "      <th>363</th>\n",
       "      <td>2019-08-23 00:00:00</td>\n",
       "      <td>10255.977500</td>\n",
       "    </tr>\n",
       "    <tr>\n",
       "      <th>364</th>\n",
       "      <td>2019-08-24 00:00:00</td>\n",
       "      <td>10158.540833</td>\n",
       "    </tr>\n",
       "  </tbody>\n",
       "</table>\n",
       "</div>"
      ],
      "text/plain": [
       "                    Date         Price\n",
       "360  2019-08-20 00:00:00  10746.507692\n",
       "361  2019-08-21 00:00:00  10169.094167\n",
       "362  2019-08-22 00:00:00  10030.746667\n",
       "363  2019-08-23 00:00:00  10255.977500\n",
       "364  2019-08-24 00:00:00  10158.540833"
      ]
     },
     "execution_count": 79,
     "metadata": {},
     "output_type": "execute_result"
    }
   ],
   "source": [
    "bitCoin.tail()"
   ]
  },
  {
   "cell_type": "code",
   "execution_count": 80,
   "id": "a405df69",
   "metadata": {},
   "outputs": [
    {
     "name": "stdout",
     "output_type": "stream",
     "text": [
      "<class 'pandas.core.frame.DataFrame'>\n",
      "RangeIndex: 365 entries, 0 to 364\n",
      "Data columns (total 2 columns):\n",
      " #   Column  Non-Null Count  Dtype  \n",
      "---  ------  --------------  -----  \n",
      " 0   Date    365 non-null    object \n",
      " 1   Price   365 non-null    float64\n",
      "dtypes: float64(1), object(1)\n",
      "memory usage: 5.8+ KB\n"
     ]
    }
   ],
   "source": [
    "bitCoin.info()"
   ]
  },
  {
   "cell_type": "code",
   "execution_count": 81,
   "id": "ae224b51",
   "metadata": {},
   "outputs": [],
   "source": [
    "bitCoin.drop(['Date'],1,inplace=True)"
   ]
  },
  {
   "cell_type": "code",
   "execution_count": 82,
   "id": "d7859010",
   "metadata": {},
   "outputs": [
    {
     "data": {
      "text/html": [
       "<div>\n",
       "<style scoped>\n",
       "    .dataframe tbody tr th:only-of-type {\n",
       "        vertical-align: middle;\n",
       "    }\n",
       "\n",
       "    .dataframe tbody tr th {\n",
       "        vertical-align: top;\n",
       "    }\n",
       "\n",
       "    .dataframe thead th {\n",
       "        text-align: right;\n",
       "    }\n",
       "</style>\n",
       "<table border=\"1\" class=\"dataframe\">\n",
       "  <thead>\n",
       "    <tr style=\"text-align: right;\">\n",
       "      <th></th>\n",
       "      <th>Price</th>\n",
       "    </tr>\n",
       "  </thead>\n",
       "  <tbody>\n",
       "    <tr>\n",
       "      <th>0</th>\n",
       "      <td>6719.429231</td>\n",
       "    </tr>\n",
       "    <tr>\n",
       "      <th>1</th>\n",
       "      <td>6673.274167</td>\n",
       "    </tr>\n",
       "    <tr>\n",
       "      <th>2</th>\n",
       "      <td>6719.266154</td>\n",
       "    </tr>\n",
       "    <tr>\n",
       "      <th>3</th>\n",
       "      <td>7000.040000</td>\n",
       "    </tr>\n",
       "    <tr>\n",
       "      <th>4</th>\n",
       "      <td>7054.276429</td>\n",
       "    </tr>\n",
       "  </tbody>\n",
       "</table>\n",
       "</div>"
      ],
      "text/plain": [
       "         Price\n",
       "0  6719.429231\n",
       "1  6673.274167\n",
       "2  6719.266154\n",
       "3  7000.040000\n",
       "4  7054.276429"
      ]
     },
     "execution_count": 82,
     "metadata": {},
     "output_type": "execute_result"
    }
   ],
   "source": [
    "bitCoin.head()"
   ]
  },
  {
   "cell_type": "markdown",
   "id": "0a3315e4",
   "metadata": {},
   "source": [
    "# Predicting Bitcoin Price "
   ]
  },
  {
   "cell_type": "code",
   "execution_count": 83,
   "id": "239cc69a",
   "metadata": {},
   "outputs": [],
   "source": [
    "Predict_day=30\n",
    "bitCoin['Predicted']=bitCoin[['Price']].shift(-Predict_day)"
   ]
  },
  {
   "cell_type": "code",
   "execution_count": 84,
   "id": "7ac3c250",
   "metadata": {},
   "outputs": [
    {
     "data": {
      "text/html": [
       "<div>\n",
       "<style scoped>\n",
       "    .dataframe tbody tr th:only-of-type {\n",
       "        vertical-align: middle;\n",
       "    }\n",
       "\n",
       "    .dataframe tbody tr th {\n",
       "        vertical-align: top;\n",
       "    }\n",
       "\n",
       "    .dataframe thead th {\n",
       "        text-align: right;\n",
       "    }\n",
       "</style>\n",
       "<table border=\"1\" class=\"dataframe\">\n",
       "  <thead>\n",
       "    <tr style=\"text-align: right;\">\n",
       "      <th></th>\n",
       "      <th>Price</th>\n",
       "      <th>Predicted</th>\n",
       "    </tr>\n",
       "  </thead>\n",
       "  <tbody>\n",
       "    <tr>\n",
       "      <th>0</th>\n",
       "      <td>6719.429231</td>\n",
       "      <td>6639.304167</td>\n",
       "    </tr>\n",
       "    <tr>\n",
       "      <th>1</th>\n",
       "      <td>6673.274167</td>\n",
       "      <td>6412.459167</td>\n",
       "    </tr>\n",
       "    <tr>\n",
       "      <th>2</th>\n",
       "      <td>6719.266154</td>\n",
       "      <td>6468.631667</td>\n",
       "    </tr>\n",
       "    <tr>\n",
       "      <th>3</th>\n",
       "      <td>7000.040000</td>\n",
       "      <td>6535.476667</td>\n",
       "    </tr>\n",
       "    <tr>\n",
       "      <th>4</th>\n",
       "      <td>7054.276429</td>\n",
       "      <td>6677.342500</td>\n",
       "    </tr>\n",
       "  </tbody>\n",
       "</table>\n",
       "</div>"
      ],
      "text/plain": [
       "         Price    Predicted\n",
       "0  6719.429231  6639.304167\n",
       "1  6673.274167  6412.459167\n",
       "2  6719.266154  6468.631667\n",
       "3  7000.040000  6535.476667\n",
       "4  7054.276429  6677.342500"
      ]
     },
     "execution_count": 84,
     "metadata": {},
     "output_type": "execute_result"
    }
   ],
   "source": [
    "bitCoin.head()"
   ]
  },
  {
   "cell_type": "code",
   "execution_count": 85,
   "id": "78d0ca35",
   "metadata": {},
   "outputs": [
    {
     "data": {
      "text/html": [
       "<div>\n",
       "<style scoped>\n",
       "    .dataframe tbody tr th:only-of-type {\n",
       "        vertical-align: middle;\n",
       "    }\n",
       "\n",
       "    .dataframe tbody tr th {\n",
       "        vertical-align: top;\n",
       "    }\n",
       "\n",
       "    .dataframe thead th {\n",
       "        text-align: right;\n",
       "    }\n",
       "</style>\n",
       "<table border=\"1\" class=\"dataframe\">\n",
       "  <thead>\n",
       "    <tr style=\"text-align: right;\">\n",
       "      <th></th>\n",
       "      <th>Price</th>\n",
       "      <th>Predicted</th>\n",
       "    </tr>\n",
       "  </thead>\n",
       "  <tbody>\n",
       "    <tr>\n",
       "      <th>360</th>\n",
       "      <td>10746.507692</td>\n",
       "      <td>NaN</td>\n",
       "    </tr>\n",
       "    <tr>\n",
       "      <th>361</th>\n",
       "      <td>10169.094167</td>\n",
       "      <td>NaN</td>\n",
       "    </tr>\n",
       "    <tr>\n",
       "      <th>362</th>\n",
       "      <td>10030.746667</td>\n",
       "      <td>NaN</td>\n",
       "    </tr>\n",
       "    <tr>\n",
       "      <th>363</th>\n",
       "      <td>10255.977500</td>\n",
       "      <td>NaN</td>\n",
       "    </tr>\n",
       "    <tr>\n",
       "      <th>364</th>\n",
       "      <td>10158.540833</td>\n",
       "      <td>NaN</td>\n",
       "    </tr>\n",
       "  </tbody>\n",
       "</table>\n",
       "</div>"
      ],
      "text/plain": [
       "            Price  Predicted\n",
       "360  10746.507692        NaN\n",
       "361  10169.094167        NaN\n",
       "362  10030.746667        NaN\n",
       "363  10255.977500        NaN\n",
       "364  10158.540833        NaN"
      ]
     },
     "execution_count": 85,
     "metadata": {},
     "output_type": "execute_result"
    }
   ],
   "source": [
    "bitCoin.tail()"
   ]
  },
  {
   "cell_type": "markdown",
   "id": "2398af8f",
   "metadata": {},
   "source": [
    "# Test Train Data Split"
   ]
  },
  {
   "cell_type": "code",
   "execution_count": 86,
   "id": "53436126",
   "metadata": {},
   "outputs": [],
   "source": [
    "X=np.array(bitCoin.drop(['Predicted'],1))"
   ]
  },
  {
   "cell_type": "code",
   "execution_count": 87,
   "id": "8fe9e25f",
   "metadata": {
    "scrolled": true
   },
   "outputs": [
    {
     "data": {
      "text/plain": [
       "array([[ 6719.42923077],\n",
       "       [ 6673.27416667],\n",
       "       [ 6719.26615385],\n",
       "       [ 7000.04      ],\n",
       "       [ 7054.27642857],\n",
       "       [ 6932.6625    ],\n",
       "       [ 6981.94615385],\n",
       "       [ 7100.94666667],\n",
       "       [ 7247.93538462],\n",
       "       [ 7260.94923077],\n",
       "       [ 7326.8525    ],\n",
       "       [ 7113.06923077],\n",
       "       [ 6433.27166667],\n",
       "       [ 6444.80416667],\n",
       "       [ 6366.1075    ],\n",
       "       [ 6286.42583333],\n",
       "       [ 6297.87769231],\n",
       "       [ 6296.32083333],\n",
       "       [ 6273.1375    ],\n",
       "       [ 6450.17923077],\n",
       "       [ 6499.0625    ],\n",
       "       [ 6518.655     ],\n",
       "       [ 6480.64416667],\n",
       "       [ 6400.60083333],\n",
       "       [ 6296.63166667],\n",
       "       [ 6335.82666667],\n",
       "       [ 6418.56266667],\n",
       "       [ 6669.99083333],\n",
       "       [ 6709.3125    ],\n",
       "       [ 6710.445     ],\n",
       "       [ 6639.30416667],\n",
       "       [ 6412.45916667],\n",
       "       [ 6468.63166667],\n",
       "       [ 6535.47666667],\n",
       "       [ 6677.3425    ],\n",
       "       [ 6550.47416667],\n",
       "       [ 6593.135     ],\n",
       "       [ 6590.96833333],\n",
       "       [ 6562.64166667],\n",
       "       [ 6470.4025    ],\n",
       "       [ 6563.62833333],\n",
       "       [ 6568.54916667],\n",
       "       [ 6581.48666667],\n",
       "       [ 6558.5375    ],\n",
       "       [ 6618.56769231],\n",
       "       [ 6621.71166667],\n",
       "       [ 6563.00916667],\n",
       "       [ 6248.63583333],\n",
       "       [ 6260.53083333],\n",
       "       [ 6260.64583333],\n",
       "       [ 6299.39916667],\n",
       "       [ 6452.57166667],\n",
       "       [ 6596.61833333],\n",
       "       [ 6596.27615385],\n",
       "       [ 6568.04076923],\n",
       "       [ 6487.44416667],\n",
       "       [ 6488.82583333],\n",
       "       [ 6531.60166667],\n",
       "       [ 6498.48583333],\n",
       "       [ 6481.426     ],\n",
       "       [ 6508.31      ],\n",
       "       [ 6478.0825    ],\n",
       "       [ 6473.75333333],\n",
       "       [ 6465.9175    ],\n",
       "       [ 6448.22166667],\n",
       "       [ 6382.66833333],\n",
       "       [ 6309.45285714],\n",
       "       [ 6310.28416667],\n",
       "       [ 6342.28083333],\n",
       "       [ 6387.67416667],\n",
       "       [ 6363.79583333],\n",
       "       [ 6391.87333333],\n",
       "       [ 6436.965     ],\n",
       "       [ 6445.35416667],\n",
       "       [ 6538.79      ],\n",
       "       [ 6486.25166667],\n",
       "       [ 6411.28083333],\n",
       "       [ 6399.03333333],\n",
       "       [ 6378.26833333],\n",
       "       [ 6401.93666667],\n",
       "       [ 6372.06333333],\n",
       "       [ 6176.155     ],\n",
       "       [ 5615.18      ],\n",
       "       [ 5596.1925    ],\n",
       "       [ 5558.24333333],\n",
       "       [ 5606.04416667],\n",
       "       [ 5303.9425    ],\n",
       "       [ 4671.97      ],\n",
       "       [ 4533.68083333],\n",
       "       [ 4548.7975    ],\n",
       "       [ 4309.3375    ],\n",
       "       [ 4293.84083333],\n",
       "       [ 3823.51166667],\n",
       "       [ 3920.53666667],\n",
       "       [ 3751.66833333],\n",
       "       [ 4103.45384615],\n",
       "       [ 4263.78333333],\n",
       "       [ 4106.87166667],\n",
       "       [ 4116.7775    ],\n",
       "       [ 4167.54666667],\n",
       "       [ 3967.52416667],\n",
       "       [ 3961.49333333],\n",
       "       [ 3858.34916667],\n",
       "       [ 3742.94333333],\n",
       "       [ 3405.64333333],\n",
       "       [ 3435.34      ],\n",
       "       [ 3528.80333333],\n",
       "       [ 3523.96      ],\n",
       "       [ 3426.19      ],\n",
       "       [ 3462.04      ],\n",
       "       [ 3406.7625    ],\n",
       "       [ 3278.37416667],\n",
       "       [ 3225.29916667],\n",
       "       [ 3271.23833333],\n",
       "       [ 3392.405     ],\n",
       "       [ 3567.47      ],\n",
       "       [ 3808.0425    ],\n",
       "       [ 3982.85083333],\n",
       "       [ 4015.60916667],\n",
       "       [ 3910.97333333],\n",
       "       [ 4027.47833333],\n",
       "       [ 4178.59083333],\n",
       "       [ 3813.88      ],\n",
       "       [ 3825.37916667],\n",
       "       [ 3747.83916667],\n",
       "       [ 3743.905     ],\n",
       "       [ 3912.28583333],\n",
       "       [ 3832.92166667],\n",
       "       [ 3791.54583333],\n",
       "       [ 3752.27166667],\n",
       "       [ 3867.13833333],\n",
       "       [ 3865.7975    ],\n",
       "       [ 3822.62666667],\n",
       "       [ 3868.4875    ],\n",
       "       [ 3920.45666667],\n",
       "       [ 4036.09333333],\n",
       "       [ 4035.855     ],\n",
       "       [ 4034.13833333],\n",
       "       [ 3812.58583333],\n",
       "       [ 3656.73583333],\n",
       "       [ 3646.34583333],\n",
       "       [ 3599.84166667],\n",
       "       [ 3604.1175    ],\n",
       "       [ 3656.785     ],\n",
       "       [ 3621.27083333],\n",
       "       [ 3619.96416667],\n",
       "       [ 3632.395     ],\n",
       "       [ 3690.52333333],\n",
       "       [ 3620.1275    ],\n",
       "       [ 3548.4275    ],\n",
       "       [ 3558.92416667],\n",
       "       [ 3579.89666667],\n",
       "       [ 3567.29916667],\n",
       "       [ 3572.735     ],\n",
       "       [ 3589.26083333],\n",
       "       [ 3567.76333333],\n",
       "       [ 3458.06666667],\n",
       "       [ 3417.1675    ],\n",
       "       [ 3452.22333333],\n",
       "       [ 3454.00882353],\n",
       "       [ 3454.19461538],\n",
       "       [ 3470.07916667],\n",
       "       [ 3468.305     ],\n",
       "       [ 3452.32833333],\n",
       "       [ 3458.70333333],\n",
       "       [ 3406.82083333],\n",
       "       [ 3403.96416667],\n",
       "       [ 3498.86833333],\n",
       "       [ 3652.21166667],\n",
       "       [ 3645.27666667],\n",
       "       [ 3634.77      ],\n",
       "       [ 3624.15583333],\n",
       "       [ 3623.07166667],\n",
       "       [ 3609.86916667],\n",
       "       [ 3610.74833333],\n",
       "       [ 3630.39666667],\n",
       "       [ 3631.55333333],\n",
       "       [ 3810.78153846],\n",
       "       [ 3933.14333333],\n",
       "       [ 3951.565     ],\n",
       "       [ 3948.41166667],\n",
       "       [ 3968.65666667],\n",
       "       [ 4018.04416667],\n",
       "       [ 4020.12583333],\n",
       "       [ 3829.56833333],\n",
       "       [ 3833.31083333],\n",
       "       [ 3832.61307692],\n",
       "       [ 3843.58333333],\n",
       "       [ 3842.13916667],\n",
       "       [ 3827.4875    ],\n",
       "       [ 3827.69083333],\n",
       "       [ 3749.56833333],\n",
       "       [ 3793.26083333],\n",
       "       [ 3863.33333333],\n",
       "       [ 3888.70166667],\n",
       "       [ 3905.05833333],\n",
       "       [ 3919.56583333],\n",
       "       [ 3922.615     ],\n",
       "       [ 3896.71833333],\n",
       "       [ 3880.7675    ],\n",
       "       [ 3881.37923077],\n",
       "       [ 3883.98928571],\n",
       "       [ 3918.08666667],\n",
       "       [ 4011.0925    ],\n",
       "       [ 3994.34833333],\n",
       "       [ 3998.4975    ],\n",
       "       [ 4008.65833333],\n",
       "       [ 4025.02583333],\n",
       "       [ 4026.63583333],\n",
       "       [ 4000.335     ],\n",
       "       [ 4006.11583333],\n",
       "       [ 3995.32333333],\n",
       "       [ 3977.45416667],\n",
       "       [ 3933.95416667],\n",
       "       [ 4011.36583333],\n",
       "       [ 4034.05666667],\n",
       "       [ 4075.52642857],\n",
       "       [ 4107.34083333],\n",
       "       [ 4109.31666667],\n",
       "       [ 4145.10846154],\n",
       "       [ 4675.1125    ],\n",
       "       [ 5018.49833333],\n",
       "       [ 4970.84916667],\n",
       "       [ 4980.89833333],\n",
       "       [ 5042.51769231],\n",
       "       [ 5126.83416667],\n",
       "       [ 5214.27666667],\n",
       "       [ 5197.75076923],\n",
       "       [ 5251.19      ],\n",
       "       [ 5111.77076923],\n",
       "       [ 5031.475     ],\n",
       "       [ 5076.3       ],\n",
       "       [ 5077.805     ],\n",
       "       [ 5114.85416667],\n",
       "       [ 5109.94666667],\n",
       "       [ 5214.57416667],\n",
       "       [ 5263.3975    ],\n",
       "       [ 5255.61416667],\n",
       "       [ 5302.9575    ],\n",
       "       [ 5274.14583333],\n",
       "       [ 5305.275     ],\n",
       "       [ 5527.80166667],\n",
       "       [ 5465.515     ],\n",
       "       [ 5421.52666667],\n",
       "       [ 5280.61666667],\n",
       "       [ 5281.80916667],\n",
       "       [ 5306.695     ],\n",
       "       [ 5277.88333333],\n",
       "       [ 5262.36333333],\n",
       "       [ 5310.17333333],\n",
       "       [ 5364.99166667],\n",
       "       [ 5633.7475    ],\n",
       "       [ 5697.92333333],\n",
       "       [ 5718.22916667],\n",
       "       [ 5654.35333333],\n",
       "       [ 5863.52333333],\n",
       "       [ 5851.67076923],\n",
       "       [ 6056.4175    ],\n",
       "       [ 6302.6125    ],\n",
       "       [ 6833.35083333],\n",
       "       [ 7152.48416667],\n",
       "       [ 7447.11416667],\n",
       "       [ 8005.25083333],\n",
       "       [ 8063.89583333],\n",
       "       [ 7979.575     ],\n",
       "       [ 7265.96333333],\n",
       "       [ 7338.52083333],\n",
       "       [ 7894.92666667],\n",
       "       [ 7926.705     ],\n",
       "       [ 7954.80833333],\n",
       "       [ 7896.51083333],\n",
       "       [ 7688.52583333],\n",
       "       [ 7972.71916667],\n",
       "       [ 8046.10769231],\n",
       "       [ 8114.9325    ],\n",
       "       [ 8779.97083333],\n",
       "       [ 8727.90083333],\n",
       "       [ 8646.195     ],\n",
       "       [ 8641.89166667],\n",
       "       [ 8342.77      ],\n",
       "       [ 8543.03      ],\n",
       "       [ 8663.6425    ],\n",
       "       [ 8546.17166667],\n",
       "       [ 7848.41583333],\n",
       "       [ 7765.68833333],\n",
       "       [ 7756.9575    ],\n",
       "       [ 7920.945     ],\n",
       "       [ 7941.22166667],\n",
       "       [ 7817.76833333],\n",
       "       [ 7815.13583333],\n",
       "       [ 7914.53916667],\n",
       "       [ 8033.30666667],\n",
       "       [ 8163.66333333],\n",
       "       [ 8342.24076923],\n",
       "       [ 8721.645     ],\n",
       "       [ 9096.28583333],\n",
       "       [ 9227.125     ],\n",
       "       [ 9160.0675    ],\n",
       "       [ 9147.005     ],\n",
       "       [ 9346.0725    ],\n",
       "       [ 9791.0175    ],\n",
       "       [10730.39166667],\n",
       "       [10748.01166667],\n",
       "       [10851.84833333],\n",
       "       [11314.76153846],\n",
       "       [12686.38833333],\n",
       "       [11834.12416667],\n",
       "       [11665.57583333],\n",
       "       [11886.88615385],\n",
       "       [11545.63333333],\n",
       "       [10690.83333333],\n",
       "       [10300.4875    ],\n",
       "       [11342.3175    ],\n",
       "       [11779.45083333],\n",
       "       [11118.8875    ],\n",
       "       [11411.61666667],\n",
       "       [11310.50666667],\n",
       "       [11788.06916667],\n",
       "       [12567.70384615],\n",
       "       [12668.62916667],\n",
       "       [11560.6025    ],\n",
       "       [11577.69538462],\n",
       "       [11412.12416667],\n",
       "       [10852.92666667],\n",
       "       [10438.55416667],\n",
       "       [10300.41166667],\n",
       "       [ 9584.47583333],\n",
       "       [10092.75166667],\n",
       "       [10455.73      ],\n",
       "       [10685.415     ],\n",
       "       [10569.305     ],\n",
       "       [10449.62666667],\n",
       "       [10044.11333333],\n",
       "       [ 9708.43583333],\n",
       "       [10021.325     ],\n",
       "       [ 9774.2575    ],\n",
       "       [ 9725.4025    ],\n",
       "       [ 9500.32416667],\n",
       "       [ 9533.97933333],\n",
       "       [ 9539.7125    ],\n",
       "       [ 9873.81166667],\n",
       "       [10088.8       ],\n",
       "       [10478.90166667],\n",
       "       [10790.63      ],\n",
       "       [10826.275     ],\n",
       "       [11713.16166667],\n",
       "       [11759.01916667],\n",
       "       [11703.73833333],\n",
       "       [11803.88833333],\n",
       "       [11816.9125    ],\n",
       "       [11586.1725    ],\n",
       "       [11377.80416667],\n",
       "       [11397.80166667],\n",
       "       [11144.38916667],\n",
       "       [10450.81333333],\n",
       "       [ 9988.9475    ],\n",
       "       [10230.73333333],\n",
       "       [10292.38333333],\n",
       "       [10295.1175    ],\n",
       "       [10605.82583333],\n",
       "       [10746.50769231],\n",
       "       [10169.09416667],\n",
       "       [10030.74666667],\n",
       "       [10255.9775    ],\n",
       "       [10158.54083333]])"
      ]
     },
     "execution_count": 87,
     "metadata": {},
     "output_type": "execute_result"
    }
   ],
   "source": [
    "X"
   ]
  },
  {
   "cell_type": "markdown",
   "id": "527c5189",
   "metadata": {},
   "source": [
    "Removing last 30 day Price Value"
   ]
  },
  {
   "cell_type": "code",
   "execution_count": 88,
   "id": "8a553be8",
   "metadata": {},
   "outputs": [],
   "source": [
    "X=X[:len(bitCoin)-Predict_day]"
   ]
  },
  {
   "cell_type": "code",
   "execution_count": 89,
   "id": "93e76cf9",
   "metadata": {
    "scrolled": true
   },
   "outputs": [
    {
     "data": {
      "text/plain": [
       "(335, 1)"
      ]
     },
     "execution_count": 89,
     "metadata": {},
     "output_type": "execute_result"
    }
   ],
   "source": [
    "X.shape"
   ]
  },
  {
   "cell_type": "code",
   "execution_count": 90,
   "id": "19cbeeaf",
   "metadata": {},
   "outputs": [],
   "source": [
    "y=np.array(bitCoin['Predicted'])"
   ]
  },
  {
   "cell_type": "markdown",
   "id": "f5fdf3ff",
   "metadata": {},
   "source": [
    "Removing last 30 NaN values"
   ]
  },
  {
   "cell_type": "code",
   "execution_count": 91,
   "id": "6ebd9258",
   "metadata": {},
   "outputs": [],
   "source": [
    "y=y[:-Predict_day]"
   ]
  },
  {
   "cell_type": "code",
   "execution_count": 92,
   "id": "3b734b61",
   "metadata": {},
   "outputs": [
    {
     "data": {
      "text/plain": [
       "(335,)"
      ]
     },
     "execution_count": 92,
     "metadata": {},
     "output_type": "execute_result"
    }
   ],
   "source": [
    "y.shape"
   ]
  },
  {
   "cell_type": "code",
   "execution_count": 93,
   "id": "eb76c14d",
   "metadata": {},
   "outputs": [],
   "source": [
    "from sklearn.model_selection import train_test_split"
   ]
  },
  {
   "cell_type": "code",
   "execution_count": 94,
   "id": "351cec3c",
   "metadata": {},
   "outputs": [],
   "source": [
    "X_train,X_test,y_train,y_test=train_test_split(X,y,test_size=0.2,)"
   ]
  },
  {
   "cell_type": "code",
   "execution_count": 95,
   "id": "bc2fe226",
   "metadata": {},
   "outputs": [],
   "source": [
    "Predict_days_arr=np.array(bitCoin[['Price']])[-Predict_day:]"
   ]
  },
  {
   "cell_type": "code",
   "execution_count": 96,
   "id": "a209015b",
   "metadata": {},
   "outputs": [
    {
     "data": {
      "text/plain": [
       "(30, 1)"
      ]
     },
     "execution_count": 96,
     "metadata": {},
     "output_type": "execute_result"
    }
   ],
   "source": [
    "Predict_days_arr.shape"
   ]
  },
  {
   "cell_type": "code",
   "execution_count": 97,
   "id": "d43eeb74",
   "metadata": {},
   "outputs": [],
   "source": [
    "from sklearn.ensemble import RandomForestRegressor"
   ]
  },
  {
   "cell_type": "code",
   "execution_count": 98,
   "id": "2c237603",
   "metadata": {},
   "outputs": [],
   "source": [
    "Random=RandomForestRegressor(n_estimators=1000,random_state=1)"
   ]
  },
  {
   "cell_type": "code",
   "execution_count": 99,
   "id": "9fbfe815",
   "metadata": {},
   "outputs": [
    {
     "data": {
      "text/plain": [
       "RandomForestRegressor(n_estimators=1000, random_state=1)"
      ]
     },
     "execution_count": 99,
     "metadata": {},
     "output_type": "execute_result"
    }
   ],
   "source": [
    "Random.fit(X_train,y_train)"
   ]
  },
  {
   "cell_type": "code",
   "execution_count": 100,
   "id": "99078d8b",
   "metadata": {},
   "outputs": [
    {
     "name": "stdout",
     "output_type": "stream",
     "text": [
      "Random Forest Accuracy:85.640303%\n"
     ]
    }
   ],
   "source": [
    "print('Random Forest Accuracy:{:2f}%'.format(Random.score(X_test,y_test)*100))"
   ]
  },
  {
   "cell_type": "markdown",
   "id": "1c176ad8",
   "metadata": {},
   "source": [
    "# Prediction"
   ]
  },
  {
   "cell_type": "code",
   "execution_count": 101,
   "id": "c69f6528",
   "metadata": {},
   "outputs": [],
   "source": [
    "Random_Predict=Random.predict(X_test)"
   ]
  },
  {
   "cell_type": "code",
   "execution_count": 102,
   "id": "5eb91296",
   "metadata": {},
   "outputs": [
    {
     "data": {
      "text/plain": [
       "array([ 6326.60075488,  5016.62961974,  4491.4091345 ,  3785.4775425 ,\n",
       "        3753.19744976,  3683.34840667,  6949.72812   ,  6577.85390533,\n",
       "        6509.26117133,  3980.77381012,  5257.10223   ,  6579.67292   ,\n",
       "       10544.44880692,  3635.033345  ,  4377.08587012, 10224.64160917,\n",
       "        3791.58511417,  7160.41974   ,  3831.8830126 ,  7198.80980667,\n",
       "        6378.53638981,  9454.31420564,  3822.54153038, 10558.52894   ,\n",
       "        5512.30396167, 11583.37609096,  7152.66918833,  3737.15186917,\n",
       "        5353.58692833,  7068.3047125 ,  3696.47669774,  3812.58939976,\n",
       "        9933.62805417,  8192.6648475 ,  4029.66240583,  3875.8192284 ,\n",
       "        6449.138565  ,  3900.043605  ,  3778.3586525 ,  3754.89259167,\n",
       "        5727.996595  ,  8185.1811375 , 11230.24547917,  7309.38508083,\n",
       "        3875.579625  ,  7855.42207   ,  3832.09848455,  4272.76764917,\n",
       "        6385.70912141, 10587.77393917,  9150.53426872,  3995.23839737,\n",
       "        3727.42132167,  4742.45812417,  5866.45663857,  3922.38243417,\n",
       "        5744.85301077,  4116.27197   ,  7641.1901525 ,  4448.97813333,\n",
       "        6408.9370975 ,  3683.34840667,  4170.4785366 , 10121.87915436,\n",
       "        3737.15186917, 10247.30717167,  3755.1880456 ])"
      ]
     },
     "execution_count": 102,
     "metadata": {},
     "output_type": "execute_result"
    }
   ],
   "source": [
    "Random_Predict"
   ]
  },
  {
   "cell_type": "code",
   "execution_count": 103,
   "id": "e541f046",
   "metadata": {},
   "outputs": [],
   "source": [
    "Prediction_30=Random.predict(Predict_days_arr)"
   ]
  },
  {
   "cell_type": "code",
   "execution_count": 104,
   "id": "c6a0f4ff",
   "metadata": {},
   "outputs": [
    {
     "data": {
      "text/plain": [
       "array([10455.46825167, 10328.88394167, 10351.0132775 , 10284.8799025 ,\n",
       "       10284.8799025 , 10436.45575083, 10240.856435  , 10288.53416551,\n",
       "       10141.19919269, 10106.82030186, 10028.40217267, 10871.16639833,\n",
       "       10051.535796  , 11209.35303333, 10261.7352825 , 11204.15180583,\n",
       "       11417.430865  , 11417.430865  , 10714.76842833, 10233.20992218,\n",
       "       10230.56321917, 10103.32053353, 10121.87915436, 10121.87915436,\n",
       "       10615.82427109, 10142.43093936, 10211.45470833, 10224.64160917,\n",
       "       10104.22989769, 10235.53696167])"
      ]
     },
     "execution_count": 104,
     "metadata": {},
     "output_type": "execute_result"
    }
   ],
   "source": [
    "Prediction_30"
   ]
  },
  {
   "cell_type": "code",
   "execution_count": 105,
   "id": "bf5ed654",
   "metadata": {
    "scrolled": true
   },
   "outputs": [
    {
     "data": {
      "text/html": [
       "<div>\n",
       "<style scoped>\n",
       "    .dataframe tbody tr th:only-of-type {\n",
       "        vertical-align: middle;\n",
       "    }\n",
       "\n",
       "    .dataframe tbody tr th {\n",
       "        vertical-align: top;\n",
       "    }\n",
       "\n",
       "    .dataframe thead th {\n",
       "        text-align: right;\n",
       "    }\n",
       "</style>\n",
       "<table border=\"1\" class=\"dataframe\">\n",
       "  <thead>\n",
       "    <tr style=\"text-align: right;\">\n",
       "      <th></th>\n",
       "      <th>Price</th>\n",
       "      <th>Predicted</th>\n",
       "    </tr>\n",
       "  </thead>\n",
       "  <tbody>\n",
       "    <tr>\n",
       "      <th>360</th>\n",
       "      <td>10746.507692</td>\n",
       "      <td>NaN</td>\n",
       "    </tr>\n",
       "    <tr>\n",
       "      <th>361</th>\n",
       "      <td>10169.094167</td>\n",
       "      <td>NaN</td>\n",
       "    </tr>\n",
       "    <tr>\n",
       "      <th>362</th>\n",
       "      <td>10030.746667</td>\n",
       "      <td>NaN</td>\n",
       "    </tr>\n",
       "    <tr>\n",
       "      <th>363</th>\n",
       "      <td>10255.977500</td>\n",
       "      <td>NaN</td>\n",
       "    </tr>\n",
       "    <tr>\n",
       "      <th>364</th>\n",
       "      <td>10158.540833</td>\n",
       "      <td>NaN</td>\n",
       "    </tr>\n",
       "  </tbody>\n",
       "</table>\n",
       "</div>"
      ],
      "text/plain": [
       "            Price  Predicted\n",
       "360  10746.507692        NaN\n",
       "361  10169.094167        NaN\n",
       "362  10030.746667        NaN\n",
       "363  10255.977500        NaN\n",
       "364  10158.540833        NaN"
      ]
     },
     "execution_count": 105,
     "metadata": {},
     "output_type": "execute_result"
    }
   ],
   "source": [
    "bitCoin.tail()"
   ]
  },
  {
   "cell_type": "markdown",
   "id": "d2889d7b",
   "metadata": {},
   "source": [
    "# Appending Predicted Last 30 Days Value , removing NaN"
   ]
  },
  {
   "cell_type": "code",
   "execution_count": 106,
   "id": "e6155fcd",
   "metadata": {},
   "outputs": [],
   "source": [
    "bitCoin['Predicted'][-30:]=Prediction_30"
   ]
  },
  {
   "cell_type": "code",
   "execution_count": 107,
   "id": "67439dfc",
   "metadata": {},
   "outputs": [
    {
     "data": {
      "text/html": [
       "<div>\n",
       "<style scoped>\n",
       "    .dataframe tbody tr th:only-of-type {\n",
       "        vertical-align: middle;\n",
       "    }\n",
       "\n",
       "    .dataframe tbody tr th {\n",
       "        vertical-align: top;\n",
       "    }\n",
       "\n",
       "    .dataframe thead th {\n",
       "        text-align: right;\n",
       "    }\n",
       "</style>\n",
       "<table border=\"1\" class=\"dataframe\">\n",
       "  <thead>\n",
       "    <tr style=\"text-align: right;\">\n",
       "      <th></th>\n",
       "      <th>Price</th>\n",
       "      <th>Predicted</th>\n",
       "    </tr>\n",
       "  </thead>\n",
       "  <tbody>\n",
       "    <tr>\n",
       "      <th>334</th>\n",
       "      <td>10021.325000</td>\n",
       "      <td>10158.540833</td>\n",
       "    </tr>\n",
       "    <tr>\n",
       "      <th>335</th>\n",
       "      <td>9774.257500</td>\n",
       "      <td>10455.468252</td>\n",
       "    </tr>\n",
       "    <tr>\n",
       "      <th>336</th>\n",
       "      <td>9725.402500</td>\n",
       "      <td>10328.883942</td>\n",
       "    </tr>\n",
       "    <tr>\n",
       "      <th>337</th>\n",
       "      <td>9500.324167</td>\n",
       "      <td>10351.013277</td>\n",
       "    </tr>\n",
       "    <tr>\n",
       "      <th>338</th>\n",
       "      <td>9533.979333</td>\n",
       "      <td>10284.879902</td>\n",
       "    </tr>\n",
       "    <tr>\n",
       "      <th>339</th>\n",
       "      <td>9539.712500</td>\n",
       "      <td>10284.879902</td>\n",
       "    </tr>\n",
       "    <tr>\n",
       "      <th>340</th>\n",
       "      <td>9873.811667</td>\n",
       "      <td>10436.455751</td>\n",
       "    </tr>\n",
       "    <tr>\n",
       "      <th>341</th>\n",
       "      <td>10088.800000</td>\n",
       "      <td>10240.856435</td>\n",
       "    </tr>\n",
       "    <tr>\n",
       "      <th>342</th>\n",
       "      <td>10478.901667</td>\n",
       "      <td>10288.534166</td>\n",
       "    </tr>\n",
       "    <tr>\n",
       "      <th>343</th>\n",
       "      <td>10790.630000</td>\n",
       "      <td>10141.199193</td>\n",
       "    </tr>\n",
       "    <tr>\n",
       "      <th>344</th>\n",
       "      <td>10826.275000</td>\n",
       "      <td>10106.820302</td>\n",
       "    </tr>\n",
       "    <tr>\n",
       "      <th>345</th>\n",
       "      <td>11713.161667</td>\n",
       "      <td>10028.402173</td>\n",
       "    </tr>\n",
       "    <tr>\n",
       "      <th>346</th>\n",
       "      <td>11759.019167</td>\n",
       "      <td>10871.166398</td>\n",
       "    </tr>\n",
       "    <tr>\n",
       "      <th>347</th>\n",
       "      <td>11703.738333</td>\n",
       "      <td>10051.535796</td>\n",
       "    </tr>\n",
       "    <tr>\n",
       "      <th>348</th>\n",
       "      <td>11803.888333</td>\n",
       "      <td>11209.353033</td>\n",
       "    </tr>\n",
       "    <tr>\n",
       "      <th>349</th>\n",
       "      <td>11816.912500</td>\n",
       "      <td>10261.735282</td>\n",
       "    </tr>\n",
       "    <tr>\n",
       "      <th>350</th>\n",
       "      <td>11586.172500</td>\n",
       "      <td>11204.151806</td>\n",
       "    </tr>\n",
       "    <tr>\n",
       "      <th>351</th>\n",
       "      <td>11377.804167</td>\n",
       "      <td>11417.430865</td>\n",
       "    </tr>\n",
       "    <tr>\n",
       "      <th>352</th>\n",
       "      <td>11397.801667</td>\n",
       "      <td>11417.430865</td>\n",
       "    </tr>\n",
       "    <tr>\n",
       "      <th>353</th>\n",
       "      <td>11144.389167</td>\n",
       "      <td>10714.768428</td>\n",
       "    </tr>\n",
       "    <tr>\n",
       "      <th>354</th>\n",
       "      <td>10450.813333</td>\n",
       "      <td>10233.209922</td>\n",
       "    </tr>\n",
       "    <tr>\n",
       "      <th>355</th>\n",
       "      <td>9988.947500</td>\n",
       "      <td>10230.563219</td>\n",
       "    </tr>\n",
       "    <tr>\n",
       "      <th>356</th>\n",
       "      <td>10230.733333</td>\n",
       "      <td>10103.320534</td>\n",
       "    </tr>\n",
       "    <tr>\n",
       "      <th>357</th>\n",
       "      <td>10292.383333</td>\n",
       "      <td>10121.879154</td>\n",
       "    </tr>\n",
       "    <tr>\n",
       "      <th>358</th>\n",
       "      <td>10295.117500</td>\n",
       "      <td>10121.879154</td>\n",
       "    </tr>\n",
       "    <tr>\n",
       "      <th>359</th>\n",
       "      <td>10605.825833</td>\n",
       "      <td>10615.824271</td>\n",
       "    </tr>\n",
       "    <tr>\n",
       "      <th>360</th>\n",
       "      <td>10746.507692</td>\n",
       "      <td>10142.430939</td>\n",
       "    </tr>\n",
       "    <tr>\n",
       "      <th>361</th>\n",
       "      <td>10169.094167</td>\n",
       "      <td>10211.454708</td>\n",
       "    </tr>\n",
       "    <tr>\n",
       "      <th>362</th>\n",
       "      <td>10030.746667</td>\n",
       "      <td>10224.641609</td>\n",
       "    </tr>\n",
       "    <tr>\n",
       "      <th>363</th>\n",
       "      <td>10255.977500</td>\n",
       "      <td>10104.229898</td>\n",
       "    </tr>\n",
       "    <tr>\n",
       "      <th>364</th>\n",
       "      <td>10158.540833</td>\n",
       "      <td>10235.536962</td>\n",
       "    </tr>\n",
       "  </tbody>\n",
       "</table>\n",
       "</div>"
      ],
      "text/plain": [
       "            Price     Predicted\n",
       "334  10021.325000  10158.540833\n",
       "335   9774.257500  10455.468252\n",
       "336   9725.402500  10328.883942\n",
       "337   9500.324167  10351.013277\n",
       "338   9533.979333  10284.879902\n",
       "339   9539.712500  10284.879902\n",
       "340   9873.811667  10436.455751\n",
       "341  10088.800000  10240.856435\n",
       "342  10478.901667  10288.534166\n",
       "343  10790.630000  10141.199193\n",
       "344  10826.275000  10106.820302\n",
       "345  11713.161667  10028.402173\n",
       "346  11759.019167  10871.166398\n",
       "347  11703.738333  10051.535796\n",
       "348  11803.888333  11209.353033\n",
       "349  11816.912500  10261.735282\n",
       "350  11586.172500  11204.151806\n",
       "351  11377.804167  11417.430865\n",
       "352  11397.801667  11417.430865\n",
       "353  11144.389167  10714.768428\n",
       "354  10450.813333  10233.209922\n",
       "355   9988.947500  10230.563219\n",
       "356  10230.733333  10103.320534\n",
       "357  10292.383333  10121.879154\n",
       "358  10295.117500  10121.879154\n",
       "359  10605.825833  10615.824271\n",
       "360  10746.507692  10142.430939\n",
       "361  10169.094167  10211.454708\n",
       "362  10030.746667  10224.641609\n",
       "363  10255.977500  10104.229898\n",
       "364  10158.540833  10235.536962"
      ]
     },
     "execution_count": 107,
     "metadata": {},
     "output_type": "execute_result"
    }
   ],
   "source": [
    "bitCoin.tail(31)"
   ]
  },
  {
   "cell_type": "code",
   "execution_count": null,
   "id": "2e71c1da",
   "metadata": {},
   "outputs": [],
   "source": []
  }
 ],
 "metadata": {
  "kernelspec": {
   "display_name": "Python 3",
   "language": "python",
   "name": "python3"
  },
  "language_info": {
   "codemirror_mode": {
    "name": "ipython",
    "version": 3
   },
   "file_extension": ".py",
   "mimetype": "text/x-python",
   "name": "python",
   "nbconvert_exporter": "python",
   "pygments_lexer": "ipython3",
   "version": "3.8.8"
  }
 },
 "nbformat": 4,
 "nbformat_minor": 5
}
