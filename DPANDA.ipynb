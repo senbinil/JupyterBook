{
 "cells": [
  {
   "cell_type": "code",
   "execution_count": 4,
   "id": "d3b74374",
   "metadata": {},
   "outputs": [
    {
     "name": "stdout",
     "output_type": "stream",
     "text": [
      "The Series Values are: [10 20 30 40 50]\n",
      "The Series Index are: [0 1 2 3 4]\n"
     ]
    }
   ],
   "source": [
    "import pandas as pd\n",
    "test_series=pd.Series([10,20,30,40,50])\n",
    "print('The Series Values are:',test_series.values)\n",
    "print('The Series Index are:',test_series.index.values)"
   ]
  },
  {
   "cell_type": "code",
   "execution_count": 7,
   "id": "9582923e",
   "metadata": {},
   "outputs": [
    {
     "name": "stdout",
     "output_type": "stream",
     "text": [
      "The marks obtained by students:\n",
      " English      80\n",
      "Maths        70\n",
      "Malayalam    78\n",
      "Science      99\n",
      "Social       97\n",
      "dtype: int64\n"
     ]
    }
   ],
   "source": [
    "s2=pd.Series([80,70,78,99,97],index=['English','Maths','Malayalam','Science','Social'])\n",
    "print('The marks obtained by students:',s2)"
   ]
  },
  {
   "cell_type": "code",
   "execution_count": 8,
   "id": "f46a61d6",
   "metadata": {},
   "outputs": [
    {
     "name": "stdout",
     "output_type": "stream",
     "text": [
      "The Marks obtained by student are English    80\n",
      "Science    93\n",
      "Social     78\n",
      "Tamil      85\n",
      "Maths      97\n",
      "dtype: int64\n"
     ]
    }
   ],
   "source": [
    "s2 = pd.Series([80,93,78,85,97], index=['English','Science','Social','Tamil','Maths'])\n",
    "print(\"The Marks obtained by student are\", s2)"
   ]
  },
  {
   "cell_type": "code",
   "execution_count": 9,
   "id": "d526b79e",
   "metadata": {},
   "outputs": [
    {
     "data": {
      "text/plain": [
       "1    20\n",
       "2    30\n",
       "dtype: int64"
      ]
     },
     "execution_count": 9,
     "metadata": {},
     "output_type": "execute_result"
    }
   ],
   "source": [
    "test_series[1:3]"
   ]
  },
  {
   "cell_type": "code",
   "execution_count": 10,
   "id": "da35a1ae",
   "metadata": {},
   "outputs": [
    {
     "name": "stdout",
     "output_type": "stream",
     "text": [
      "Orange        80\n",
      "Grapes        40\n",
      "Bananas       50\n",
      "Watermelon    70\n",
      "dtype: int64\n"
     ]
    }
   ],
   "source": [
    "dict_fruits={'Orange':80,'Grapes':40,'Bananas':50,'Watermelon':70}\n",
    "fruits=pd.Series(dict_fruits)\n",
    "print(fruits)"
   ]
  },
  {
   "cell_type": "code",
   "execution_count": 11,
   "id": "c5213bfb",
   "metadata": {},
   "outputs": [
    {
     "data": {
      "text/plain": [
       "pandas.core.series.Series"
      ]
     },
     "execution_count": 11,
     "metadata": {},
     "output_type": "execute_result"
    }
   ],
   "source": [
    "type(fruits)"
   ]
  },
  {
   "cell_type": "code",
   "execution_count": 13,
   "id": "5bae2624",
   "metadata": {},
   "outputs": [
    {
     "data": {
      "text/plain": [
       "80"
      ]
     },
     "execution_count": 13,
     "metadata": {},
     "output_type": "execute_result"
    }
   ],
   "source": [
    "fruits['Orange']"
   ]
  },
  {
   "cell_type": "code",
   "execution_count": 15,
   "id": "3635cc94",
   "metadata": {},
   "outputs": [
    {
     "name": "stdout",
     "output_type": "stream",
     "text": [
      "         Student1\n",
      "English        80\n",
      "Science        93\n",
      "Social         78\n",
      "Tamil          85\n",
      "Maths          97\n"
     ]
    }
   ],
   "source": [
    "# DataFrame in Panda\n",
    "df_marks=pd.DataFrame (s2,columns=['Student1'])\n",
    "print(df_marks)"
   ]
  },
  {
   "cell_type": "code",
   "execution_count": 18,
   "id": "94f63304",
   "metadata": {},
   "outputs": [
    {
     "name": "stdout",
     "output_type": "stream",
     "text": [
      "         Height  Weight\n",
      "Person1     5.3      66\n",
      "Person2     6.2      89\n",
      "Person3     8.5      75\n",
      "Person4     5.8      60\n",
      "Person5     5.5      59\n"
     ]
    }
   ],
   "source": [
    "height=pd.Series([5.3,6.2,8.5,5.8,5.5],index=['Person1','Person2','Person3','Person4','Person5'])\n",
    "weight=pd.Series([66,89,75,60,59],index=['Person1','Person2','Person3','Person4','Person5'])\n",
    "# create dataframe\n",
    "df_person=pd.DataFrame({'Height':height,'Weight':weight})\n",
    "print(df_person)"
   ]
  },
  {
   "cell_type": "code",
   "execution_count": null,
   "id": "f88b5541",
   "metadata": {},
   "outputs": [],
   "source": []
  }
 ],
 "metadata": {
  "kernelspec": {
   "display_name": "Python 3",
   "language": "python",
   "name": "python3"
  },
  "language_info": {
   "codemirror_mode": {
    "name": "ipython",
    "version": 3
   },
   "file_extension": ".py",
   "mimetype": "text/x-python",
   "name": "python",
   "nbconvert_exporter": "python",
   "pygments_lexer": "ipython3",
   "version": "3.8.8"
  }
 },
 "nbformat": 4,
 "nbformat_minor": 5
}
