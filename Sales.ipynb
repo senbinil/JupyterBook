{
 "cells": [
  {
   "cell_type": "code",
   "execution_count": 1,
   "id": "5dea08d1",
   "metadata": {
    "scrolled": true
   },
   "outputs": [
    {
     "data": {
      "text/html": [
       "<div>\n",
       "<style scoped>\n",
       "    .dataframe tbody tr th:only-of-type {\n",
       "        vertical-align: middle;\n",
       "    }\n",
       "\n",
       "    .dataframe tbody tr th {\n",
       "        vertical-align: top;\n",
       "    }\n",
       "\n",
       "    .dataframe thead th {\n",
       "        text-align: right;\n",
       "    }\n",
       "</style>\n",
       "<table border=\"1\" class=\"dataframe\">\n",
       "  <thead>\n",
       "    <tr style=\"text-align: right;\">\n",
       "      <th></th>\n",
       "      <th>Invoice ID</th>\n",
       "      <th>Date</th>\n",
       "      <th>Time</th>\n",
       "      <th>Gender</th>\n",
       "      <th>Location</th>\n",
       "      <th>City</th>\n",
       "      <th>Member</th>\n",
       "      <th>Category</th>\n",
       "      <th>Price</th>\n",
       "      <th>Quantity</th>\n",
       "      <th>Total</th>\n",
       "      <th>Payment</th>\n",
       "      <th>Rating</th>\n",
       "    </tr>\n",
       "  </thead>\n",
       "  <tbody>\n",
       "    <tr>\n",
       "      <th>0</th>\n",
       "      <td>460489604</td>\n",
       "      <td>1/25/2018</td>\n",
       "      <td>16:46</td>\n",
       "      <td>Male</td>\n",
       "      <td>Brookfield</td>\n",
       "      <td>NewYork</td>\n",
       "      <td>Yes</td>\n",
       "      <td>Groceries</td>\n",
       "      <td>30</td>\n",
       "      <td>1</td>\n",
       "      <td>30</td>\n",
       "      <td>Cash</td>\n",
       "      <td>2</td>\n",
       "    </tr>\n",
       "    <tr>\n",
       "      <th>1</th>\n",
       "      <td>471006167</td>\n",
       "      <td>3/19/2018</td>\n",
       "      <td>16:48</td>\n",
       "      <td>Female</td>\n",
       "      <td>Water tower</td>\n",
       "      <td>Chicago</td>\n",
       "      <td>Yes</td>\n",
       "      <td>Fashion</td>\n",
       "      <td>35</td>\n",
       "      <td>5</td>\n",
       "      <td>175</td>\n",
       "      <td>Card</td>\n",
       "      <td>3</td>\n",
       "    </tr>\n",
       "    <tr>\n",
       "      <th>2</th>\n",
       "      <td>411909258</td>\n",
       "      <td>2/25/2018</td>\n",
       "      <td>13:33</td>\n",
       "      <td>Male</td>\n",
       "      <td>Water tower</td>\n",
       "      <td>Chicago</td>\n",
       "      <td>No</td>\n",
       "      <td>Clothing</td>\n",
       "      <td>57</td>\n",
       "      <td>2</td>\n",
       "      <td>114</td>\n",
       "      <td>Cash</td>\n",
       "      <td>5</td>\n",
       "    </tr>\n",
       "    <tr>\n",
       "      <th>3</th>\n",
       "      <td>487313402</td>\n",
       "      <td>1/22/2018</td>\n",
       "      <td>13:38</td>\n",
       "      <td>Female</td>\n",
       "      <td>Park lane</td>\n",
       "      <td>Dallas</td>\n",
       "      <td>Yes</td>\n",
       "      <td>Sporting</td>\n",
       "      <td>89</td>\n",
       "      <td>4</td>\n",
       "      <td>356</td>\n",
       "      <td>Gpay</td>\n",
       "      <td>1</td>\n",
       "    </tr>\n",
       "    <tr>\n",
       "      <th>4</th>\n",
       "      <td>197763430</td>\n",
       "      <td>2/18/2018</td>\n",
       "      <td>15:31</td>\n",
       "      <td>Female</td>\n",
       "      <td>Park lane</td>\n",
       "      <td>Dallas</td>\n",
       "      <td>No</td>\n",
       "      <td>Books</td>\n",
       "      <td>82</td>\n",
       "      <td>5</td>\n",
       "      <td>410</td>\n",
       "      <td>Cash</td>\n",
       "      <td>4</td>\n",
       "    </tr>\n",
       "  </tbody>\n",
       "</table>\n",
       "</div>"
      ],
      "text/plain": [
       "   Invoice ID       Date   Time  Gender     Location     City Member  \\\n",
       "0   460489604  1/25/2018  16:46    Male   Brookfield  NewYork    Yes   \n",
       "1   471006167  3/19/2018  16:48  Female  Water tower  Chicago    Yes   \n",
       "2   411909258  2/25/2018  13:33    Male  Water tower  Chicago     No   \n",
       "3   487313402  1/22/2018  13:38  Female    Park lane   Dallas    Yes   \n",
       "4   197763430  2/18/2018  15:31  Female    Park lane   Dallas     No   \n",
       "\n",
       "    Category  Price  Quantity  Total Payment  Rating  \n",
       "0  Groceries     30         1     30    Cash       2  \n",
       "1    Fashion     35         5    175    Card       3  \n",
       "2   Clothing     57         2    114    Cash       5  \n",
       "3   Sporting     89         4    356    Gpay       1  \n",
       "4      Books     82         5    410    Cash       4  "
      ]
     },
     "execution_count": 1,
     "metadata": {},
     "output_type": "execute_result"
    }
   ],
   "source": [
    "import pandas as pd\n",
    "\n",
    "sales=pd.read_csv('sales.csv')\n",
    "sales.head()"
   ]
  },
  {
   "cell_type": "code",
   "execution_count": 2,
   "id": "dfb7ed79",
   "metadata": {},
   "outputs": [
    {
     "data": {
      "text/html": [
       "<div>\n",
       "<style scoped>\n",
       "    .dataframe tbody tr th:only-of-type {\n",
       "        vertical-align: middle;\n",
       "    }\n",
       "\n",
       "    .dataframe tbody tr th {\n",
       "        vertical-align: top;\n",
       "    }\n",
       "\n",
       "    .dataframe thead th {\n",
       "        text-align: right;\n",
       "    }\n",
       "</style>\n",
       "<table border=\"1\" class=\"dataframe\">\n",
       "  <thead>\n",
       "    <tr style=\"text-align: right;\">\n",
       "      <th></th>\n",
       "      <th>Invoice ID</th>\n",
       "      <th>Date</th>\n",
       "      <th>Time</th>\n",
       "      <th>Gender</th>\n",
       "      <th>Location</th>\n",
       "      <th>City</th>\n",
       "      <th>Member</th>\n",
       "      <th>Category</th>\n",
       "      <th>Price</th>\n",
       "      <th>Quantity</th>\n",
       "      <th>Total</th>\n",
       "      <th>Payment</th>\n",
       "      <th>Rating</th>\n",
       "    </tr>\n",
       "  </thead>\n",
       "  <tbody>\n",
       "    <tr>\n",
       "      <th>995</th>\n",
       "      <td>818829599</td>\n",
       "      <td>3/26/2018</td>\n",
       "      <td>11:19</td>\n",
       "      <td>Male</td>\n",
       "      <td>Park lane</td>\n",
       "      <td>Dallas</td>\n",
       "      <td>No</td>\n",
       "      <td>Groceries</td>\n",
       "      <td>31</td>\n",
       "      <td>4</td>\n",
       "      <td>124</td>\n",
       "      <td>Card</td>\n",
       "      <td>3</td>\n",
       "    </tr>\n",
       "    <tr>\n",
       "      <th>996</th>\n",
       "      <td>556589713</td>\n",
       "      <td>2/20/2018</td>\n",
       "      <td>17:17</td>\n",
       "      <td>Male</td>\n",
       "      <td>Water tower</td>\n",
       "      <td>Chicago</td>\n",
       "      <td>Yes</td>\n",
       "      <td>Groceries</td>\n",
       "      <td>3</td>\n",
       "      <td>5</td>\n",
       "      <td>15</td>\n",
       "      <td>Gpay</td>\n",
       "      <td>3</td>\n",
       "    </tr>\n",
       "    <tr>\n",
       "      <th>997</th>\n",
       "      <td>82324424</td>\n",
       "      <td>2/6/2018</td>\n",
       "      <td>11:44</td>\n",
       "      <td>Male</td>\n",
       "      <td>Brookfield</td>\n",
       "      <td>NewYork</td>\n",
       "      <td>No</td>\n",
       "      <td>Clothing</td>\n",
       "      <td>71</td>\n",
       "      <td>5</td>\n",
       "      <td>355</td>\n",
       "      <td>Card</td>\n",
       "      <td>3</td>\n",
       "    </tr>\n",
       "    <tr>\n",
       "      <th>998</th>\n",
       "      <td>783661702</td>\n",
       "      <td>1/29/2018</td>\n",
       "      <td>15:44</td>\n",
       "      <td>Female</td>\n",
       "      <td>Brookfield</td>\n",
       "      <td>NewYork</td>\n",
       "      <td>No</td>\n",
       "      <td>Clothing</td>\n",
       "      <td>89</td>\n",
       "      <td>7</td>\n",
       "      <td>623</td>\n",
       "      <td>Cash</td>\n",
       "      <td>5</td>\n",
       "    </tr>\n",
       "    <tr>\n",
       "      <th>999</th>\n",
       "      <td>759171975</td>\n",
       "      <td>1/31/2018</td>\n",
       "      <td>10:13</td>\n",
       "      <td>Female</td>\n",
       "      <td>Water tower</td>\n",
       "      <td>Chicago</td>\n",
       "      <td>Yes</td>\n",
       "      <td>Clothing</td>\n",
       "      <td>31</td>\n",
       "      <td>7</td>\n",
       "      <td>217</td>\n",
       "      <td>Gpay</td>\n",
       "      <td>3</td>\n",
       "    </tr>\n",
       "  </tbody>\n",
       "</table>\n",
       "</div>"
      ],
      "text/plain": [
       "     Invoice ID       Date   Time  Gender     Location     City Member  \\\n",
       "995   818829599  3/26/2018  11:19    Male    Park lane   Dallas     No   \n",
       "996   556589713  2/20/2018  17:17    Male  Water tower  Chicago    Yes   \n",
       "997    82324424   2/6/2018  11:44    Male   Brookfield  NewYork     No   \n",
       "998   783661702  1/29/2018  15:44  Female   Brookfield  NewYork     No   \n",
       "999   759171975  1/31/2018  10:13  Female  Water tower  Chicago    Yes   \n",
       "\n",
       "      Category  Price  Quantity  Total Payment  Rating  \n",
       "995  Groceries     31         4    124    Card       3  \n",
       "996  Groceries      3         5     15    Gpay       3  \n",
       "997   Clothing     71         5    355    Card       3  \n",
       "998   Clothing     89         7    623    Cash       5  \n",
       "999   Clothing     31         7    217    Gpay       3  "
      ]
     },
     "execution_count": 2,
     "metadata": {},
     "output_type": "execute_result"
    }
   ],
   "source": [
    "sales.tail()"
   ]
  },
  {
   "cell_type": "code",
   "execution_count": 3,
   "id": "d0f12c20",
   "metadata": {},
   "outputs": [
    {
     "data": {
      "text/html": [
       "<div>\n",
       "<style scoped>\n",
       "    .dataframe tbody tr th:only-of-type {\n",
       "        vertical-align: middle;\n",
       "    }\n",
       "\n",
       "    .dataframe tbody tr th {\n",
       "        vertical-align: top;\n",
       "    }\n",
       "\n",
       "    .dataframe thead th {\n",
       "        text-align: right;\n",
       "    }\n",
       "</style>\n",
       "<table border=\"1\" class=\"dataframe\">\n",
       "  <thead>\n",
       "    <tr style=\"text-align: right;\">\n",
       "      <th></th>\n",
       "      <th>Invoice ID</th>\n",
       "      <th>Price</th>\n",
       "      <th>Quantity</th>\n",
       "      <th>Total</th>\n",
       "      <th>Rating</th>\n",
       "    </tr>\n",
       "  </thead>\n",
       "  <tbody>\n",
       "    <tr>\n",
       "      <th>count</th>\n",
       "      <td>1.000000e+03</td>\n",
       "      <td>1000.000000</td>\n",
       "      <td>1000.000000</td>\n",
       "      <td>1000.000000</td>\n",
       "      <td>1000.000000</td>\n",
       "    </tr>\n",
       "    <tr>\n",
       "      <th>mean</th>\n",
       "      <td>4.944931e+08</td>\n",
       "      <td>51.112000</td>\n",
       "      <td>4.059000</td>\n",
       "      <td>207.788000</td>\n",
       "      <td>2.972000</td>\n",
       "    </tr>\n",
       "    <tr>\n",
       "      <th>std</th>\n",
       "      <td>2.870685e+08</td>\n",
       "      <td>28.912443</td>\n",
       "      <td>2.027716</td>\n",
       "      <td>165.626167</td>\n",
       "      <td>1.428025</td>\n",
       "    </tr>\n",
       "    <tr>\n",
       "      <th>min</th>\n",
       "      <td>6.614050e+05</td>\n",
       "      <td>1.000000</td>\n",
       "      <td>1.000000</td>\n",
       "      <td>1.000000</td>\n",
       "      <td>1.000000</td>\n",
       "    </tr>\n",
       "    <tr>\n",
       "      <th>25%</th>\n",
       "      <td>2.508726e+08</td>\n",
       "      <td>27.000000</td>\n",
       "      <td>2.000000</td>\n",
       "      <td>72.000000</td>\n",
       "      <td>2.000000</td>\n",
       "    </tr>\n",
       "    <tr>\n",
       "      <th>50%</th>\n",
       "      <td>4.781491e+08</td>\n",
       "      <td>51.000000</td>\n",
       "      <td>4.000000</td>\n",
       "      <td>174.000000</td>\n",
       "      <td>3.000000</td>\n",
       "    </tr>\n",
       "    <tr>\n",
       "      <th>75%</th>\n",
       "      <td>7.459453e+08</td>\n",
       "      <td>76.250000</td>\n",
       "      <td>6.000000</td>\n",
       "      <td>304.500000</td>\n",
       "      <td>4.000000</td>\n",
       "    </tr>\n",
       "    <tr>\n",
       "      <th>max</th>\n",
       "      <td>9.996658e+08</td>\n",
       "      <td>100.000000</td>\n",
       "      <td>7.000000</td>\n",
       "      <td>693.000000</td>\n",
       "      <td>5.000000</td>\n",
       "    </tr>\n",
       "  </tbody>\n",
       "</table>\n",
       "</div>"
      ],
      "text/plain": [
       "         Invoice ID        Price     Quantity        Total       Rating\n",
       "count  1.000000e+03  1000.000000  1000.000000  1000.000000  1000.000000\n",
       "mean   4.944931e+08    51.112000     4.059000   207.788000     2.972000\n",
       "std    2.870685e+08    28.912443     2.027716   165.626167     1.428025\n",
       "min    6.614050e+05     1.000000     1.000000     1.000000     1.000000\n",
       "25%    2.508726e+08    27.000000     2.000000    72.000000     2.000000\n",
       "50%    4.781491e+08    51.000000     4.000000   174.000000     3.000000\n",
       "75%    7.459453e+08    76.250000     6.000000   304.500000     4.000000\n",
       "max    9.996658e+08   100.000000     7.000000   693.000000     5.000000"
      ]
     },
     "execution_count": 3,
     "metadata": {},
     "output_type": "execute_result"
    }
   ],
   "source": [
    "sales.describe()"
   ]
  },
  {
   "cell_type": "code",
   "execution_count": 4,
   "id": "2cd1229f",
   "metadata": {},
   "outputs": [
    {
     "name": "stdout",
     "output_type": "stream",
     "text": [
      "<class 'pandas.core.frame.DataFrame'>\n",
      "RangeIndex: 1000 entries, 0 to 999\n",
      "Data columns (total 13 columns):\n",
      " #   Column      Non-Null Count  Dtype \n",
      "---  ------      --------------  ----- \n",
      " 0   Invoice ID  1000 non-null   int64 \n",
      " 1   Date        1000 non-null   object\n",
      " 2   Time        1000 non-null   object\n",
      " 3   Gender      1000 non-null   object\n",
      " 4   Location    1000 non-null   object\n",
      " 5   City        1000 non-null   object\n",
      " 6   Member      1000 non-null   object\n",
      " 7   Category    1000 non-null   object\n",
      " 8   Price       1000 non-null   int64 \n",
      " 9   Quantity    1000 non-null   int64 \n",
      " 10  Total       1000 non-null   int64 \n",
      " 11  Payment     1000 non-null   object\n",
      " 12  Rating      1000 non-null   int64 \n",
      "dtypes: int64(5), object(8)\n",
      "memory usage: 101.7+ KB\n"
     ]
    }
   ],
   "source": [
    "sales.info()"
   ]
  },
  {
   "cell_type": "code",
   "execution_count": 5,
   "id": "393e3378",
   "metadata": {},
   "outputs": [
    {
     "data": {
      "text/html": [
       "<div>\n",
       "<style scoped>\n",
       "    .dataframe tbody tr th:only-of-type {\n",
       "        vertical-align: middle;\n",
       "    }\n",
       "\n",
       "    .dataframe tbody tr th {\n",
       "        vertical-align: top;\n",
       "    }\n",
       "\n",
       "    .dataframe thead th {\n",
       "        text-align: right;\n",
       "    }\n",
       "</style>\n",
       "<table border=\"1\" class=\"dataframe\">\n",
       "  <thead>\n",
       "    <tr style=\"text-align: right;\">\n",
       "      <th></th>\n",
       "      <th>Invoice ID</th>\n",
       "      <th>Date</th>\n",
       "      <th>Time</th>\n",
       "      <th>Gender</th>\n",
       "      <th>Location</th>\n",
       "      <th>City</th>\n",
       "      <th>Member</th>\n",
       "      <th>Category</th>\n",
       "      <th>Price</th>\n",
       "      <th>Quantity</th>\n",
       "      <th>Total</th>\n",
       "      <th>Payment</th>\n",
       "      <th>Rating</th>\n",
       "    </tr>\n",
       "  </thead>\n",
       "  <tbody>\n",
       "    <tr>\n",
       "      <th>0</th>\n",
       "      <td>460489604</td>\n",
       "      <td>1/25/2018</td>\n",
       "      <td>16:46</td>\n",
       "      <td>Male</td>\n",
       "      <td>Brookfield</td>\n",
       "      <td>NewYork</td>\n",
       "      <td>Yes</td>\n",
       "      <td>Groceries</td>\n",
       "      <td>30</td>\n",
       "      <td>1</td>\n",
       "      <td>30</td>\n",
       "      <td>Cash</td>\n",
       "      <td>2</td>\n",
       "    </tr>\n",
       "    <tr>\n",
       "      <th>5</th>\n",
       "      <td>263634050</td>\n",
       "      <td>3/9/2018</td>\n",
       "      <td>17:55</td>\n",
       "      <td>Male</td>\n",
       "      <td>Brookfield</td>\n",
       "      <td>NewYork</td>\n",
       "      <td>Yes</td>\n",
       "      <td>Clothing</td>\n",
       "      <td>52</td>\n",
       "      <td>4</td>\n",
       "      <td>208</td>\n",
       "      <td>Gpay</td>\n",
       "      <td>3</td>\n",
       "    </tr>\n",
       "    <tr>\n",
       "      <th>10</th>\n",
       "      <td>388412668</td>\n",
       "      <td>2/26/2018</td>\n",
       "      <td>11:32</td>\n",
       "      <td>Female</td>\n",
       "      <td>Brookfield</td>\n",
       "      <td>NewYork</td>\n",
       "      <td>No</td>\n",
       "      <td>Furniture</td>\n",
       "      <td>35</td>\n",
       "      <td>4</td>\n",
       "      <td>140</td>\n",
       "      <td>Gpay</td>\n",
       "      <td>4</td>\n",
       "    </tr>\n",
       "    <tr>\n",
       "      <th>14</th>\n",
       "      <td>547572603</td>\n",
       "      <td>3/21/2018</td>\n",
       "      <td>13:23</td>\n",
       "      <td>Female</td>\n",
       "      <td>Brookfield</td>\n",
       "      <td>NewYork</td>\n",
       "      <td>No</td>\n",
       "      <td>Fashion</td>\n",
       "      <td>98</td>\n",
       "      <td>7</td>\n",
       "      <td>686</td>\n",
       "      <td>Gpay</td>\n",
       "      <td>3</td>\n",
       "    </tr>\n",
       "    <tr>\n",
       "      <th>15</th>\n",
       "      <td>355981315</td>\n",
       "      <td>2/15/2018</td>\n",
       "      <td>15:47</td>\n",
       "      <td>Female</td>\n",
       "      <td>Brookfield</td>\n",
       "      <td>NewYork</td>\n",
       "      <td>Yes</td>\n",
       "      <td>Clothing</td>\n",
       "      <td>78</td>\n",
       "      <td>5</td>\n",
       "      <td>390</td>\n",
       "      <td>Card</td>\n",
       "      <td>5</td>\n",
       "    </tr>\n",
       "    <tr>\n",
       "      <th>...</th>\n",
       "      <td>...</td>\n",
       "      <td>...</td>\n",
       "      <td>...</td>\n",
       "      <td>...</td>\n",
       "      <td>...</td>\n",
       "      <td>...</td>\n",
       "      <td>...</td>\n",
       "      <td>...</td>\n",
       "      <td>...</td>\n",
       "      <td>...</td>\n",
       "      <td>...</td>\n",
       "      <td>...</td>\n",
       "      <td>...</td>\n",
       "    </tr>\n",
       "    <tr>\n",
       "      <th>991</th>\n",
       "      <td>699906043</td>\n",
       "      <td>2/15/2018</td>\n",
       "      <td>12:58</td>\n",
       "      <td>Male</td>\n",
       "      <td>Brookfield</td>\n",
       "      <td>NewYork</td>\n",
       "      <td>Yes</td>\n",
       "      <td>Furniture</td>\n",
       "      <td>96</td>\n",
       "      <td>7</td>\n",
       "      <td>672</td>\n",
       "      <td>Card</td>\n",
       "      <td>3</td>\n",
       "    </tr>\n",
       "    <tr>\n",
       "      <th>992</th>\n",
       "      <td>927909627</td>\n",
       "      <td>3/2/2018</td>\n",
       "      <td>13:35</td>\n",
       "      <td>Male</td>\n",
       "      <td>Brookfield</td>\n",
       "      <td>NewYork</td>\n",
       "      <td>No</td>\n",
       "      <td>Books</td>\n",
       "      <td>54</td>\n",
       "      <td>1</td>\n",
       "      <td>54</td>\n",
       "      <td>Card</td>\n",
       "      <td>1</td>\n",
       "    </tr>\n",
       "    <tr>\n",
       "      <th>993</th>\n",
       "      <td>455112063</td>\n",
       "      <td>3/19/2018</td>\n",
       "      <td>17:30</td>\n",
       "      <td>Female</td>\n",
       "      <td>Brookfield</td>\n",
       "      <td>NewYork</td>\n",
       "      <td>Yes</td>\n",
       "      <td>Clothing</td>\n",
       "      <td>3</td>\n",
       "      <td>3</td>\n",
       "      <td>9</td>\n",
       "      <td>Cash</td>\n",
       "      <td>2</td>\n",
       "    </tr>\n",
       "    <tr>\n",
       "      <th>997</th>\n",
       "      <td>82324424</td>\n",
       "      <td>2/6/2018</td>\n",
       "      <td>11:44</td>\n",
       "      <td>Male</td>\n",
       "      <td>Brookfield</td>\n",
       "      <td>NewYork</td>\n",
       "      <td>No</td>\n",
       "      <td>Clothing</td>\n",
       "      <td>71</td>\n",
       "      <td>5</td>\n",
       "      <td>355</td>\n",
       "      <td>Card</td>\n",
       "      <td>3</td>\n",
       "    </tr>\n",
       "    <tr>\n",
       "      <th>998</th>\n",
       "      <td>783661702</td>\n",
       "      <td>1/29/2018</td>\n",
       "      <td>15:44</td>\n",
       "      <td>Female</td>\n",
       "      <td>Brookfield</td>\n",
       "      <td>NewYork</td>\n",
       "      <td>No</td>\n",
       "      <td>Clothing</td>\n",
       "      <td>89</td>\n",
       "      <td>7</td>\n",
       "      <td>623</td>\n",
       "      <td>Cash</td>\n",
       "      <td>5</td>\n",
       "    </tr>\n",
       "  </tbody>\n",
       "</table>\n",
       "<p>340 rows × 13 columns</p>\n",
       "</div>"
      ],
      "text/plain": [
       "     Invoice ID       Date   Time  Gender    Location     City Member  \\\n",
       "0     460489604  1/25/2018  16:46    Male  Brookfield  NewYork    Yes   \n",
       "5     263634050   3/9/2018  17:55    Male  Brookfield  NewYork    Yes   \n",
       "10    388412668  2/26/2018  11:32  Female  Brookfield  NewYork     No   \n",
       "14    547572603  3/21/2018  13:23  Female  Brookfield  NewYork     No   \n",
       "15    355981315  2/15/2018  15:47  Female  Brookfield  NewYork    Yes   \n",
       "..          ...        ...    ...     ...         ...      ...    ...   \n",
       "991   699906043  2/15/2018  12:58    Male  Brookfield  NewYork    Yes   \n",
       "992   927909627   3/2/2018  13:35    Male  Brookfield  NewYork     No   \n",
       "993   455112063  3/19/2018  17:30  Female  Brookfield  NewYork    Yes   \n",
       "997    82324424   2/6/2018  11:44    Male  Brookfield  NewYork     No   \n",
       "998   783661702  1/29/2018  15:44  Female  Brookfield  NewYork     No   \n",
       "\n",
       "      Category  Price  Quantity  Total Payment  Rating  \n",
       "0    Groceries     30         1     30    Cash       2  \n",
       "5     Clothing     52         4    208    Gpay       3  \n",
       "10   Furniture     35         4    140    Gpay       4  \n",
       "14     Fashion     98         7    686    Gpay       3  \n",
       "15    Clothing     78         5    390    Card       5  \n",
       "..         ...    ...       ...    ...     ...     ...  \n",
       "991  Furniture     96         7    672    Card       3  \n",
       "992      Books     54         1     54    Card       1  \n",
       "993   Clothing      3         3      9    Cash       2  \n",
       "997   Clothing     71         5    355    Card       3  \n",
       "998   Clothing     89         7    623    Cash       5  \n",
       "\n",
       "[340 rows x 13 columns]"
      ]
     },
     "execution_count": 5,
     "metadata": {},
     "output_type": "execute_result"
    }
   ],
   "source": [
    "sales[sales['City']=='NewYork']"
   ]
  },
  {
   "cell_type": "code",
   "execution_count": 6,
   "id": "9e148136",
   "metadata": {},
   "outputs": [
    {
     "data": {
      "text/plain": [
       "array(['Groceries', 'Fashion', 'Clothing', 'Sporting', 'Books',\n",
       "       'Furniture'], dtype=object)"
      ]
     },
     "execution_count": 6,
     "metadata": {},
     "output_type": "execute_result"
    }
   ],
   "source": [
    "sales['Category'].unique()"
   ]
  },
  {
   "cell_type": "code",
   "execution_count": 7,
   "id": "8072fd4a",
   "metadata": {},
   "outputs": [
    {
     "data": {
      "text/html": [
       "<div>\n",
       "<style scoped>\n",
       "    .dataframe tbody tr th:only-of-type {\n",
       "        vertical-align: middle;\n",
       "    }\n",
       "\n",
       "    .dataframe tbody tr th {\n",
       "        vertical-align: top;\n",
       "    }\n",
       "\n",
       "    .dataframe thead th {\n",
       "        text-align: right;\n",
       "    }\n",
       "</style>\n",
       "<table border=\"1\" class=\"dataframe\">\n",
       "  <thead>\n",
       "    <tr style=\"text-align: right;\">\n",
       "      <th></th>\n",
       "      <th>Invoice ID</th>\n",
       "      <th>Date</th>\n",
       "      <th>Time</th>\n",
       "      <th>Gender</th>\n",
       "      <th>Location</th>\n",
       "      <th>City</th>\n",
       "      <th>Member</th>\n",
       "      <th>Category</th>\n",
       "      <th>Price</th>\n",
       "      <th>Quantity</th>\n",
       "      <th>Total</th>\n",
       "      <th>Payment</th>\n",
       "      <th>Rating</th>\n",
       "    </tr>\n",
       "  </thead>\n",
       "  <tbody>\n",
       "    <tr>\n",
       "      <th>1</th>\n",
       "      <td>471006167</td>\n",
       "      <td>3/19/2018</td>\n",
       "      <td>16:48</td>\n",
       "      <td>Female</td>\n",
       "      <td>Water tower</td>\n",
       "      <td>Chicago</td>\n",
       "      <td>Yes</td>\n",
       "      <td>Fashion</td>\n",
       "      <td>35</td>\n",
       "      <td>5</td>\n",
       "      <td>175</td>\n",
       "      <td>Card</td>\n",
       "      <td>3</td>\n",
       "    </tr>\n",
       "    <tr>\n",
       "      <th>2</th>\n",
       "      <td>411909258</td>\n",
       "      <td>2/25/2018</td>\n",
       "      <td>13:33</td>\n",
       "      <td>Male</td>\n",
       "      <td>Water tower</td>\n",
       "      <td>Chicago</td>\n",
       "      <td>No</td>\n",
       "      <td>Clothing</td>\n",
       "      <td>57</td>\n",
       "      <td>2</td>\n",
       "      <td>114</td>\n",
       "      <td>Cash</td>\n",
       "      <td>5</td>\n",
       "    </tr>\n",
       "    <tr>\n",
       "      <th>7</th>\n",
       "      <td>188869875</td>\n",
       "      <td>3/8/2018</td>\n",
       "      <td>13:24</td>\n",
       "      <td>Male</td>\n",
       "      <td>Park lane</td>\n",
       "      <td>Dallas</td>\n",
       "      <td>No</td>\n",
       "      <td>Books</td>\n",
       "      <td>80</td>\n",
       "      <td>2</td>\n",
       "      <td>160</td>\n",
       "      <td>Cash</td>\n",
       "      <td>3</td>\n",
       "    </tr>\n",
       "    <tr>\n",
       "      <th>9</th>\n",
       "      <td>562942936</td>\n",
       "      <td>2/24/2018</td>\n",
       "      <td>16:05</td>\n",
       "      <td>Female</td>\n",
       "      <td>Park lane</td>\n",
       "      <td>Dallas</td>\n",
       "      <td>No</td>\n",
       "      <td>Books</td>\n",
       "      <td>80</td>\n",
       "      <td>2</td>\n",
       "      <td>160</td>\n",
       "      <td>Cash</td>\n",
       "      <td>4</td>\n",
       "    </tr>\n",
       "    <tr>\n",
       "      <th>10</th>\n",
       "      <td>388412668</td>\n",
       "      <td>2/26/2018</td>\n",
       "      <td>11:32</td>\n",
       "      <td>Female</td>\n",
       "      <td>Brookfield</td>\n",
       "      <td>NewYork</td>\n",
       "      <td>No</td>\n",
       "      <td>Furniture</td>\n",
       "      <td>35</td>\n",
       "      <td>4</td>\n",
       "      <td>140</td>\n",
       "      <td>Gpay</td>\n",
       "      <td>4</td>\n",
       "    </tr>\n",
       "    <tr>\n",
       "      <th>...</th>\n",
       "      <td>...</td>\n",
       "      <td>...</td>\n",
       "      <td>...</td>\n",
       "      <td>...</td>\n",
       "      <td>...</td>\n",
       "      <td>...</td>\n",
       "      <td>...</td>\n",
       "      <td>...</td>\n",
       "      <td>...</td>\n",
       "      <td>...</td>\n",
       "      <td>...</td>\n",
       "      <td>...</td>\n",
       "      <td>...</td>\n",
       "    </tr>\n",
       "    <tr>\n",
       "      <th>981</th>\n",
       "      <td>418253101</td>\n",
       "      <td>3/14/2018</td>\n",
       "      <td>12:25</td>\n",
       "      <td>Female</td>\n",
       "      <td>Brookfield</td>\n",
       "      <td>NewYork</td>\n",
       "      <td>No</td>\n",
       "      <td>Fashion</td>\n",
       "      <td>81</td>\n",
       "      <td>2</td>\n",
       "      <td>162</td>\n",
       "      <td>Gpay</td>\n",
       "      <td>5</td>\n",
       "    </tr>\n",
       "    <tr>\n",
       "      <th>989</th>\n",
       "      <td>941364541</td>\n",
       "      <td>3/13/2018</td>\n",
       "      <td>14:53</td>\n",
       "      <td>Female</td>\n",
       "      <td>Brookfield</td>\n",
       "      <td>NewYork</td>\n",
       "      <td>No</td>\n",
       "      <td>Sporting</td>\n",
       "      <td>19</td>\n",
       "      <td>7</td>\n",
       "      <td>133</td>\n",
       "      <td>Cash</td>\n",
       "      <td>1</td>\n",
       "    </tr>\n",
       "    <tr>\n",
       "      <th>990</th>\n",
       "      <td>752407865</td>\n",
       "      <td>1/15/2018</td>\n",
       "      <td>10:01</td>\n",
       "      <td>Male</td>\n",
       "      <td>Water tower</td>\n",
       "      <td>Chicago</td>\n",
       "      <td>Yes</td>\n",
       "      <td>Clothing</td>\n",
       "      <td>25</td>\n",
       "      <td>4</td>\n",
       "      <td>100</td>\n",
       "      <td>Cash</td>\n",
       "      <td>5</td>\n",
       "    </tr>\n",
       "    <tr>\n",
       "      <th>994</th>\n",
       "      <td>446582560</td>\n",
       "      <td>1/31/2018</td>\n",
       "      <td>19:00</td>\n",
       "      <td>Male</td>\n",
       "      <td>Water tower</td>\n",
       "      <td>Chicago</td>\n",
       "      <td>No</td>\n",
       "      <td>Fashion</td>\n",
       "      <td>29</td>\n",
       "      <td>5</td>\n",
       "      <td>145</td>\n",
       "      <td>Cash</td>\n",
       "      <td>4</td>\n",
       "    </tr>\n",
       "    <tr>\n",
       "      <th>995</th>\n",
       "      <td>818829599</td>\n",
       "      <td>3/26/2018</td>\n",
       "      <td>11:19</td>\n",
       "      <td>Male</td>\n",
       "      <td>Park lane</td>\n",
       "      <td>Dallas</td>\n",
       "      <td>No</td>\n",
       "      <td>Groceries</td>\n",
       "      <td>31</td>\n",
       "      <td>4</td>\n",
       "      <td>124</td>\n",
       "      <td>Card</td>\n",
       "      <td>3</td>\n",
       "    </tr>\n",
       "  </tbody>\n",
       "</table>\n",
       "<p>243 rows × 13 columns</p>\n",
       "</div>"
      ],
      "text/plain": [
       "     Invoice ID       Date   Time  Gender     Location     City Member  \\\n",
       "1     471006167  3/19/2018  16:48  Female  Water tower  Chicago    Yes   \n",
       "2     411909258  2/25/2018  13:33    Male  Water tower  Chicago     No   \n",
       "7     188869875   3/8/2018  13:24    Male    Park lane   Dallas     No   \n",
       "9     562942936  2/24/2018  16:05  Female    Park lane   Dallas     No   \n",
       "10    388412668  2/26/2018  11:32  Female   Brookfield  NewYork     No   \n",
       "..          ...        ...    ...     ...          ...      ...    ...   \n",
       "981   418253101  3/14/2018  12:25  Female   Brookfield  NewYork     No   \n",
       "989   941364541  3/13/2018  14:53  Female   Brookfield  NewYork     No   \n",
       "990   752407865  1/15/2018  10:01    Male  Water tower  Chicago    Yes   \n",
       "994   446582560  1/31/2018  19:00    Male  Water tower  Chicago     No   \n",
       "995   818829599  3/26/2018  11:19    Male    Park lane   Dallas     No   \n",
       "\n",
       "      Category  Price  Quantity  Total Payment  Rating  \n",
       "1      Fashion     35         5    175    Card       3  \n",
       "2     Clothing     57         2    114    Cash       5  \n",
       "7        Books     80         2    160    Cash       3  \n",
       "9        Books     80         2    160    Cash       4  \n",
       "10   Furniture     35         4    140    Gpay       4  \n",
       "..         ...    ...       ...    ...     ...     ...  \n",
       "981    Fashion     81         2    162    Gpay       5  \n",
       "989   Sporting     19         7    133    Cash       1  \n",
       "990   Clothing     25         4    100    Cash       5  \n",
       "994    Fashion     29         5    145    Cash       4  \n",
       "995  Groceries     31         4    124    Card       3  \n",
       "\n",
       "[243 rows x 13 columns]"
      ]
     },
     "execution_count": 7,
     "metadata": {},
     "output_type": "execute_result"
    }
   ],
   "source": [
    "sales[(sales['Total']>=100) & (sales['Total']<=200)]"
   ]
  },
  {
   "cell_type": "code",
   "execution_count": 8,
   "id": "2d48ace2",
   "metadata": {},
   "outputs": [
    {
     "data": {
      "text/plain": [
       "1"
      ]
     },
     "execution_count": 8,
     "metadata": {},
     "output_type": "execute_result"
    }
   ],
   "source": [
    "sales.min()['Total']"
   ]
  },
  {
   "cell_type": "code",
   "execution_count": 9,
   "id": "da78d4df",
   "metadata": {},
   "outputs": [
    {
     "data": {
      "text/html": [
       "<div>\n",
       "<style scoped>\n",
       "    .dataframe tbody tr th:only-of-type {\n",
       "        vertical-align: middle;\n",
       "    }\n",
       "\n",
       "    .dataframe tbody tr th {\n",
       "        vertical-align: top;\n",
       "    }\n",
       "\n",
       "    .dataframe thead th {\n",
       "        text-align: right;\n",
       "    }\n",
       "</style>\n",
       "<table border=\"1\" class=\"dataframe\">\n",
       "  <thead>\n",
       "    <tr style=\"text-align: right;\">\n",
       "      <th></th>\n",
       "      <th>Invoice ID</th>\n",
       "      <th>Date</th>\n",
       "      <th>Time</th>\n",
       "      <th>Gender</th>\n",
       "      <th>Location</th>\n",
       "      <th>City</th>\n",
       "      <th>Member</th>\n",
       "      <th>Category</th>\n",
       "      <th>Price</th>\n",
       "      <th>Quantity</th>\n",
       "      <th>Total</th>\n",
       "      <th>Payment</th>\n",
       "      <th>Rating</th>\n",
       "    </tr>\n",
       "  </thead>\n",
       "  <tbody>\n",
       "    <tr>\n",
       "      <th>184</th>\n",
       "      <td>801334050</td>\n",
       "      <td>1/21/2018</td>\n",
       "      <td>20:18</td>\n",
       "      <td>Female</td>\n",
       "      <td>Park lane</td>\n",
       "      <td>Dallas</td>\n",
       "      <td>No</td>\n",
       "      <td>Furniture</td>\n",
       "      <td>1</td>\n",
       "      <td>1</td>\n",
       "      <td>1</td>\n",
       "      <td>Gpay</td>\n",
       "      <td>2</td>\n",
       "    </tr>\n",
       "    <tr>\n",
       "      <th>587</th>\n",
       "      <td>646176653</td>\n",
       "      <td>3/10/2018</td>\n",
       "      <td>19:39</td>\n",
       "      <td>Male</td>\n",
       "      <td>Park lane</td>\n",
       "      <td>Dallas</td>\n",
       "      <td>Yes</td>\n",
       "      <td>Sporting</td>\n",
       "      <td>1</td>\n",
       "      <td>1</td>\n",
       "      <td>1</td>\n",
       "      <td>Cash</td>\n",
       "      <td>2</td>\n",
       "    </tr>\n",
       "  </tbody>\n",
       "</table>\n",
       "</div>"
      ],
      "text/plain": [
       "     Invoice ID       Date   Time  Gender   Location    City Member  \\\n",
       "184   801334050  1/21/2018  20:18  Female  Park lane  Dallas     No   \n",
       "587   646176653  3/10/2018  19:39    Male  Park lane  Dallas    Yes   \n",
       "\n",
       "      Category  Price  Quantity  Total Payment  Rating  \n",
       "184  Furniture      1         1      1    Gpay       2  \n",
       "587   Sporting      1         1      1    Cash       2  "
      ]
     },
     "execution_count": 9,
     "metadata": {},
     "output_type": "execute_result"
    }
   ],
   "source": [
    "sales[sales['Total']==sales.min()['Total']]"
   ]
  },
  {
   "cell_type": "code",
   "execution_count": 10,
   "id": "752ff8a8",
   "metadata": {},
   "outputs": [
    {
     "data": {
      "text/plain": [
       "207.788"
      ]
     },
     "execution_count": 10,
     "metadata": {},
     "output_type": "execute_result"
    }
   ],
   "source": [
    "sales.mean()['Total']"
   ]
  },
  {
   "cell_type": "code",
   "execution_count": 11,
   "id": "7c3c12eb",
   "metadata": {},
   "outputs": [
    {
     "data": {
      "text/plain": [
       "Gender\n",
       "Female    106452\n",
       "Male      101336\n",
       "Name: Total, dtype: int64"
      ]
     },
     "execution_count": 11,
     "metadata": {},
     "output_type": "execute_result"
    }
   ],
   "source": [
    "sales.groupby('Gender')['Total'].sum()"
   ]
  },
  {
   "cell_type": "code",
   "execution_count": 12,
   "id": "5000a63f",
   "metadata": {},
   "outputs": [
    {
     "data": {
      "text/plain": [
       "207788"
      ]
     },
     "execution_count": 12,
     "metadata": {},
     "output_type": "execute_result"
    }
   ],
   "source": [
    "sales.sum()['Total']"
   ]
  },
  {
   "cell_type": "code",
   "execution_count": 13,
   "id": "53c57877",
   "metadata": {},
   "outputs": [
    {
     "data": {
      "text/plain": [
       "City\n",
       "Chicago    328\n",
       "Dallas     332\n",
       "NewYork    340\n",
       "Name: Payment, dtype: int64"
      ]
     },
     "execution_count": 13,
     "metadata": {},
     "output_type": "execute_result"
    }
   ],
   "source": [
    "sales.groupby(['City']).count()['Payment']"
   ]
  },
  {
   "cell_type": "code",
   "execution_count": 14,
   "id": "0ef17c67",
   "metadata": {},
   "outputs": [
    {
     "data": {
      "text/plain": [
       "Payment\n",
       "Card    311\n",
       "Cash    344\n",
       "Gpay    345\n",
       "Name: Gender, dtype: int64"
      ]
     },
     "execution_count": 14,
     "metadata": {},
     "output_type": "execute_result"
    }
   ],
   "source": [
    "sales.groupby('Payment').count()['Gender']"
   ]
  },
  {
   "cell_type": "code",
   "execution_count": 15,
   "id": "29521a36",
   "metadata": {},
   "outputs": [
    {
     "data": {
      "text/html": [
       "<div>\n",
       "<style scoped>\n",
       "    .dataframe tbody tr th:only-of-type {\n",
       "        vertical-align: middle;\n",
       "    }\n",
       "\n",
       "    .dataframe tbody tr th {\n",
       "        vertical-align: top;\n",
       "    }\n",
       "\n",
       "    .dataframe thead th {\n",
       "        text-align: right;\n",
       "    }\n",
       "</style>\n",
       "<table border=\"1\" class=\"dataframe\">\n",
       "  <thead>\n",
       "    <tr style=\"text-align: right;\">\n",
       "      <th></th>\n",
       "      <th>Invoice ID</th>\n",
       "      <th>Date</th>\n",
       "      <th>Time</th>\n",
       "      <th>Gender</th>\n",
       "      <th>Location</th>\n",
       "      <th>City</th>\n",
       "      <th>Member</th>\n",
       "      <th>Category</th>\n",
       "      <th>Price</th>\n",
       "      <th>Quantity</th>\n",
       "      <th>Total</th>\n",
       "      <th>Payment</th>\n",
       "      <th>Rating</th>\n",
       "    </tr>\n",
       "  </thead>\n",
       "  <tbody>\n",
       "    <tr>\n",
       "      <th>3</th>\n",
       "      <td>487313402</td>\n",
       "      <td>1/22/2018</td>\n",
       "      <td>13:38</td>\n",
       "      <td>Female</td>\n",
       "      <td>Park lane</td>\n",
       "      <td>Dallas</td>\n",
       "      <td>Yes</td>\n",
       "      <td>Sporting</td>\n",
       "      <td>89</td>\n",
       "      <td>4</td>\n",
       "      <td>356</td>\n",
       "      <td>Gpay</td>\n",
       "      <td>1</td>\n",
       "    </tr>\n",
       "    <tr>\n",
       "      <th>4</th>\n",
       "      <td>197763430</td>\n",
       "      <td>2/18/2018</td>\n",
       "      <td>15:31</td>\n",
       "      <td>Female</td>\n",
       "      <td>Park lane</td>\n",
       "      <td>Dallas</td>\n",
       "      <td>No</td>\n",
       "      <td>Books</td>\n",
       "      <td>82</td>\n",
       "      <td>5</td>\n",
       "      <td>410</td>\n",
       "      <td>Cash</td>\n",
       "      <td>4</td>\n",
       "    </tr>\n",
       "    <tr>\n",
       "      <th>7</th>\n",
       "      <td>188869875</td>\n",
       "      <td>3/8/2018</td>\n",
       "      <td>13:24</td>\n",
       "      <td>Male</td>\n",
       "      <td>Park lane</td>\n",
       "      <td>Dallas</td>\n",
       "      <td>No</td>\n",
       "      <td>Books</td>\n",
       "      <td>80</td>\n",
       "      <td>2</td>\n",
       "      <td>160</td>\n",
       "      <td>Cash</td>\n",
       "      <td>3</td>\n",
       "    </tr>\n",
       "    <tr>\n",
       "      <th>8</th>\n",
       "      <td>325637547</td>\n",
       "      <td>1/18/2018</td>\n",
       "      <td>15:33</td>\n",
       "      <td>Male</td>\n",
       "      <td>Park lane</td>\n",
       "      <td>Dallas</td>\n",
       "      <td>Yes</td>\n",
       "      <td>Clothing</td>\n",
       "      <td>91</td>\n",
       "      <td>3</td>\n",
       "      <td>273</td>\n",
       "      <td>Card</td>\n",
       "      <td>3</td>\n",
       "    </tr>\n",
       "    <tr>\n",
       "      <th>9</th>\n",
       "      <td>562942936</td>\n",
       "      <td>2/24/2018</td>\n",
       "      <td>16:05</td>\n",
       "      <td>Female</td>\n",
       "      <td>Park lane</td>\n",
       "      <td>Dallas</td>\n",
       "      <td>No</td>\n",
       "      <td>Books</td>\n",
       "      <td>80</td>\n",
       "      <td>2</td>\n",
       "      <td>160</td>\n",
       "      <td>Cash</td>\n",
       "      <td>4</td>\n",
       "    </tr>\n",
       "    <tr>\n",
       "      <th>...</th>\n",
       "      <td>...</td>\n",
       "      <td>...</td>\n",
       "      <td>...</td>\n",
       "      <td>...</td>\n",
       "      <td>...</td>\n",
       "      <td>...</td>\n",
       "      <td>...</td>\n",
       "      <td>...</td>\n",
       "      <td>...</td>\n",
       "      <td>...</td>\n",
       "      <td>...</td>\n",
       "      <td>...</td>\n",
       "      <td>...</td>\n",
       "    </tr>\n",
       "    <tr>\n",
       "      <th>973</th>\n",
       "      <td>81079897</td>\n",
       "      <td>3/28/2018</td>\n",
       "      <td>12:12</td>\n",
       "      <td>Female</td>\n",
       "      <td>Park lane</td>\n",
       "      <td>Dallas</td>\n",
       "      <td>Yes</td>\n",
       "      <td>Fashion</td>\n",
       "      <td>64</td>\n",
       "      <td>7</td>\n",
       "      <td>448</td>\n",
       "      <td>Gpay</td>\n",
       "      <td>1</td>\n",
       "    </tr>\n",
       "    <tr>\n",
       "      <th>976</th>\n",
       "      <td>497734676</td>\n",
       "      <td>2/9/2018</td>\n",
       "      <td>14:14</td>\n",
       "      <td>Male</td>\n",
       "      <td>Park lane</td>\n",
       "      <td>Dallas</td>\n",
       "      <td>No</td>\n",
       "      <td>Sporting</td>\n",
       "      <td>5</td>\n",
       "      <td>4</td>\n",
       "      <td>20</td>\n",
       "      <td>Cash</td>\n",
       "      <td>3</td>\n",
       "    </tr>\n",
       "    <tr>\n",
       "      <th>977</th>\n",
       "      <td>614557665</td>\n",
       "      <td>3/22/2018</td>\n",
       "      <td>17:16</td>\n",
       "      <td>Female</td>\n",
       "      <td>Park lane</td>\n",
       "      <td>Dallas</td>\n",
       "      <td>No</td>\n",
       "      <td>Clothing</td>\n",
       "      <td>49</td>\n",
       "      <td>3</td>\n",
       "      <td>147</td>\n",
       "      <td>Cash</td>\n",
       "      <td>5</td>\n",
       "    </tr>\n",
       "    <tr>\n",
       "      <th>987</th>\n",
       "      <td>245049016</td>\n",
       "      <td>1/20/2018</td>\n",
       "      <td>10:03</td>\n",
       "      <td>Female</td>\n",
       "      <td>Park lane</td>\n",
       "      <td>Dallas</td>\n",
       "      <td>No</td>\n",
       "      <td>Furniture</td>\n",
       "      <td>74</td>\n",
       "      <td>4</td>\n",
       "      <td>296</td>\n",
       "      <td>Card</td>\n",
       "      <td>4</td>\n",
       "    </tr>\n",
       "    <tr>\n",
       "      <th>995</th>\n",
       "      <td>818829599</td>\n",
       "      <td>3/26/2018</td>\n",
       "      <td>11:19</td>\n",
       "      <td>Male</td>\n",
       "      <td>Park lane</td>\n",
       "      <td>Dallas</td>\n",
       "      <td>No</td>\n",
       "      <td>Groceries</td>\n",
       "      <td>31</td>\n",
       "      <td>4</td>\n",
       "      <td>124</td>\n",
       "      <td>Card</td>\n",
       "      <td>3</td>\n",
       "    </tr>\n",
       "  </tbody>\n",
       "</table>\n",
       "<p>332 rows × 13 columns</p>\n",
       "</div>"
      ],
      "text/plain": [
       "     Invoice ID       Date   Time  Gender   Location    City Member  \\\n",
       "3     487313402  1/22/2018  13:38  Female  Park lane  Dallas    Yes   \n",
       "4     197763430  2/18/2018  15:31  Female  Park lane  Dallas     No   \n",
       "7     188869875   3/8/2018  13:24    Male  Park lane  Dallas     No   \n",
       "8     325637547  1/18/2018  15:33    Male  Park lane  Dallas    Yes   \n",
       "9     562942936  2/24/2018  16:05  Female  Park lane  Dallas     No   \n",
       "..          ...        ...    ...     ...        ...     ...    ...   \n",
       "973    81079897  3/28/2018  12:12  Female  Park lane  Dallas    Yes   \n",
       "976   497734676   2/9/2018  14:14    Male  Park lane  Dallas     No   \n",
       "977   614557665  3/22/2018  17:16  Female  Park lane  Dallas     No   \n",
       "987   245049016  1/20/2018  10:03  Female  Park lane  Dallas     No   \n",
       "995   818829599  3/26/2018  11:19    Male  Park lane  Dallas     No   \n",
       "\n",
       "      Category  Price  Quantity  Total Payment  Rating  \n",
       "3     Sporting     89         4    356    Gpay       1  \n",
       "4        Books     82         5    410    Cash       4  \n",
       "7        Books     80         2    160    Cash       3  \n",
       "8     Clothing     91         3    273    Card       3  \n",
       "9        Books     80         2    160    Cash       4  \n",
       "..         ...    ...       ...    ...     ...     ...  \n",
       "973    Fashion     64         7    448    Gpay       1  \n",
       "976   Sporting      5         4     20    Cash       3  \n",
       "977   Clothing     49         3    147    Cash       5  \n",
       "987  Furniture     74         4    296    Card       4  \n",
       "995  Groceries     31         4    124    Card       3  \n",
       "\n",
       "[332 rows x 13 columns]"
      ]
     },
     "execution_count": 15,
     "metadata": {},
     "output_type": "execute_result"
    }
   ],
   "source": [
    "sales[sales['City']=='Dallas']"
   ]
  },
  {
   "cell_type": "code",
   "execution_count": 16,
   "id": "af13e957",
   "metadata": {},
   "outputs": [
    {
     "data": {
      "text/html": [
       "<div>\n",
       "<style scoped>\n",
       "    .dataframe tbody tr th:only-of-type {\n",
       "        vertical-align: middle;\n",
       "    }\n",
       "\n",
       "    .dataframe tbody tr th {\n",
       "        vertical-align: top;\n",
       "    }\n",
       "\n",
       "    .dataframe thead th {\n",
       "        text-align: right;\n",
       "    }\n",
       "</style>\n",
       "<table border=\"1\" class=\"dataframe\">\n",
       "  <thead>\n",
       "    <tr style=\"text-align: right;\">\n",
       "      <th></th>\n",
       "      <th>Invoice ID</th>\n",
       "      <th>Price</th>\n",
       "      <th>Quantity</th>\n",
       "      <th>Total</th>\n",
       "      <th>Rating</th>\n",
       "    </tr>\n",
       "    <tr>\n",
       "      <th>City</th>\n",
       "      <th></th>\n",
       "      <th></th>\n",
       "      <th></th>\n",
       "      <th></th>\n",
       "      <th></th>\n",
       "    </tr>\n",
       "  </thead>\n",
       "  <tbody>\n",
       "    <tr>\n",
       "      <th>Chicago</th>\n",
       "      <td>164244758326</td>\n",
       "      <td>16152</td>\n",
       "      <td>1307</td>\n",
       "      <td>65215</td>\n",
       "      <td>1023</td>\n",
       "    </tr>\n",
       "    <tr>\n",
       "      <th>Dallas</th>\n",
       "      <td>160721744770</td>\n",
       "      <td>17289</td>\n",
       "      <td>1344</td>\n",
       "      <td>70432</td>\n",
       "      <td>1003</td>\n",
       "    </tr>\n",
       "    <tr>\n",
       "      <th>NewYork</th>\n",
       "      <td>169526550245</td>\n",
       "      <td>17671</td>\n",
       "      <td>1408</td>\n",
       "      <td>72141</td>\n",
       "      <td>946</td>\n",
       "    </tr>\n",
       "  </tbody>\n",
       "</table>\n",
       "</div>"
      ],
      "text/plain": [
       "           Invoice ID  Price  Quantity  Total  Rating\n",
       "City                                                 \n",
       "Chicago  164244758326  16152      1307  65215    1023\n",
       "Dallas   160721744770  17289      1344  70432    1003\n",
       "NewYork  169526550245  17671      1408  72141     946"
      ]
     },
     "execution_count": 16,
     "metadata": {},
     "output_type": "execute_result"
    }
   ],
   "source": [
    "sales.groupby('City').sum()"
   ]
  },
  {
   "cell_type": "code",
   "execution_count": 17,
   "id": "fab227b8",
   "metadata": {},
   "outputs": [],
   "source": [
    "#1.loaction with highest and lowest sales\n",
    "#sales on bar chart and show market share for each location in pie chart"
   ]
  },
  {
   "cell_type": "code",
   "execution_count": 18,
   "id": "3887e6b2",
   "metadata": {},
   "outputs": [
    {
     "data": {
      "text/html": [
       "<div>\n",
       "<style scoped>\n",
       "    .dataframe tbody tr th:only-of-type {\n",
       "        vertical-align: middle;\n",
       "    }\n",
       "\n",
       "    .dataframe tbody tr th {\n",
       "        vertical-align: top;\n",
       "    }\n",
       "\n",
       "    .dataframe thead th {\n",
       "        text-align: right;\n",
       "    }\n",
       "</style>\n",
       "<table border=\"1\" class=\"dataframe\">\n",
       "  <thead>\n",
       "    <tr style=\"text-align: right;\">\n",
       "      <th></th>\n",
       "      <th>Invoice ID</th>\n",
       "      <th>Date</th>\n",
       "      <th>Time</th>\n",
       "      <th>Gender</th>\n",
       "      <th>Location</th>\n",
       "      <th>City</th>\n",
       "      <th>Member</th>\n",
       "      <th>Category</th>\n",
       "      <th>Price</th>\n",
       "      <th>Quantity</th>\n",
       "      <th>Total</th>\n",
       "      <th>Payment</th>\n",
       "      <th>Rating</th>\n",
       "    </tr>\n",
       "  </thead>\n",
       "  <tbody>\n",
       "    <tr>\n",
       "      <th>0</th>\n",
       "      <td>460489604</td>\n",
       "      <td>1/25/2018</td>\n",
       "      <td>16:46</td>\n",
       "      <td>Male</td>\n",
       "      <td>Brookfield</td>\n",
       "      <td>NewYork</td>\n",
       "      <td>Yes</td>\n",
       "      <td>Groceries</td>\n",
       "      <td>30</td>\n",
       "      <td>1</td>\n",
       "      <td>30</td>\n",
       "      <td>Cash</td>\n",
       "      <td>2</td>\n",
       "    </tr>\n",
       "    <tr>\n",
       "      <th>1</th>\n",
       "      <td>471006167</td>\n",
       "      <td>3/19/2018</td>\n",
       "      <td>16:48</td>\n",
       "      <td>Female</td>\n",
       "      <td>Water tower</td>\n",
       "      <td>Chicago</td>\n",
       "      <td>Yes</td>\n",
       "      <td>Fashion</td>\n",
       "      <td>35</td>\n",
       "      <td>5</td>\n",
       "      <td>175</td>\n",
       "      <td>Card</td>\n",
       "      <td>3</td>\n",
       "    </tr>\n",
       "    <tr>\n",
       "      <th>2</th>\n",
       "      <td>411909258</td>\n",
       "      <td>2/25/2018</td>\n",
       "      <td>13:33</td>\n",
       "      <td>Male</td>\n",
       "      <td>Water tower</td>\n",
       "      <td>Chicago</td>\n",
       "      <td>No</td>\n",
       "      <td>Clothing</td>\n",
       "      <td>57</td>\n",
       "      <td>2</td>\n",
       "      <td>114</td>\n",
       "      <td>Cash</td>\n",
       "      <td>5</td>\n",
       "    </tr>\n",
       "    <tr>\n",
       "      <th>3</th>\n",
       "      <td>487313402</td>\n",
       "      <td>1/22/2018</td>\n",
       "      <td>13:38</td>\n",
       "      <td>Female</td>\n",
       "      <td>Park lane</td>\n",
       "      <td>Dallas</td>\n",
       "      <td>Yes</td>\n",
       "      <td>Sporting</td>\n",
       "      <td>89</td>\n",
       "      <td>4</td>\n",
       "      <td>356</td>\n",
       "      <td>Gpay</td>\n",
       "      <td>1</td>\n",
       "    </tr>\n",
       "    <tr>\n",
       "      <th>4</th>\n",
       "      <td>197763430</td>\n",
       "      <td>2/18/2018</td>\n",
       "      <td>15:31</td>\n",
       "      <td>Female</td>\n",
       "      <td>Park lane</td>\n",
       "      <td>Dallas</td>\n",
       "      <td>No</td>\n",
       "      <td>Books</td>\n",
       "      <td>82</td>\n",
       "      <td>5</td>\n",
       "      <td>410</td>\n",
       "      <td>Cash</td>\n",
       "      <td>4</td>\n",
       "    </tr>\n",
       "    <tr>\n",
       "      <th>...</th>\n",
       "      <td>...</td>\n",
       "      <td>...</td>\n",
       "      <td>...</td>\n",
       "      <td>...</td>\n",
       "      <td>...</td>\n",
       "      <td>...</td>\n",
       "      <td>...</td>\n",
       "      <td>...</td>\n",
       "      <td>...</td>\n",
       "      <td>...</td>\n",
       "      <td>...</td>\n",
       "      <td>...</td>\n",
       "      <td>...</td>\n",
       "    </tr>\n",
       "    <tr>\n",
       "      <th>995</th>\n",
       "      <td>818829599</td>\n",
       "      <td>3/26/2018</td>\n",
       "      <td>11:19</td>\n",
       "      <td>Male</td>\n",
       "      <td>Park lane</td>\n",
       "      <td>Dallas</td>\n",
       "      <td>No</td>\n",
       "      <td>Groceries</td>\n",
       "      <td>31</td>\n",
       "      <td>4</td>\n",
       "      <td>124</td>\n",
       "      <td>Card</td>\n",
       "      <td>3</td>\n",
       "    </tr>\n",
       "    <tr>\n",
       "      <th>996</th>\n",
       "      <td>556589713</td>\n",
       "      <td>2/20/2018</td>\n",
       "      <td>17:17</td>\n",
       "      <td>Male</td>\n",
       "      <td>Water tower</td>\n",
       "      <td>Chicago</td>\n",
       "      <td>Yes</td>\n",
       "      <td>Groceries</td>\n",
       "      <td>3</td>\n",
       "      <td>5</td>\n",
       "      <td>15</td>\n",
       "      <td>Gpay</td>\n",
       "      <td>3</td>\n",
       "    </tr>\n",
       "    <tr>\n",
       "      <th>997</th>\n",
       "      <td>82324424</td>\n",
       "      <td>2/6/2018</td>\n",
       "      <td>11:44</td>\n",
       "      <td>Male</td>\n",
       "      <td>Brookfield</td>\n",
       "      <td>NewYork</td>\n",
       "      <td>No</td>\n",
       "      <td>Clothing</td>\n",
       "      <td>71</td>\n",
       "      <td>5</td>\n",
       "      <td>355</td>\n",
       "      <td>Card</td>\n",
       "      <td>3</td>\n",
       "    </tr>\n",
       "    <tr>\n",
       "      <th>998</th>\n",
       "      <td>783661702</td>\n",
       "      <td>1/29/2018</td>\n",
       "      <td>15:44</td>\n",
       "      <td>Female</td>\n",
       "      <td>Brookfield</td>\n",
       "      <td>NewYork</td>\n",
       "      <td>No</td>\n",
       "      <td>Clothing</td>\n",
       "      <td>89</td>\n",
       "      <td>7</td>\n",
       "      <td>623</td>\n",
       "      <td>Cash</td>\n",
       "      <td>5</td>\n",
       "    </tr>\n",
       "    <tr>\n",
       "      <th>999</th>\n",
       "      <td>759171975</td>\n",
       "      <td>1/31/2018</td>\n",
       "      <td>10:13</td>\n",
       "      <td>Female</td>\n",
       "      <td>Water tower</td>\n",
       "      <td>Chicago</td>\n",
       "      <td>Yes</td>\n",
       "      <td>Clothing</td>\n",
       "      <td>31</td>\n",
       "      <td>7</td>\n",
       "      <td>217</td>\n",
       "      <td>Gpay</td>\n",
       "      <td>3</td>\n",
       "    </tr>\n",
       "  </tbody>\n",
       "</table>\n",
       "<p>1000 rows × 13 columns</p>\n",
       "</div>"
      ],
      "text/plain": [
       "     Invoice ID       Date   Time  Gender     Location     City Member  \\\n",
       "0     460489604  1/25/2018  16:46    Male   Brookfield  NewYork    Yes   \n",
       "1     471006167  3/19/2018  16:48  Female  Water tower  Chicago    Yes   \n",
       "2     411909258  2/25/2018  13:33    Male  Water tower  Chicago     No   \n",
       "3     487313402  1/22/2018  13:38  Female    Park lane   Dallas    Yes   \n",
       "4     197763430  2/18/2018  15:31  Female    Park lane   Dallas     No   \n",
       "..          ...        ...    ...     ...          ...      ...    ...   \n",
       "995   818829599  3/26/2018  11:19    Male    Park lane   Dallas     No   \n",
       "996   556589713  2/20/2018  17:17    Male  Water tower  Chicago    Yes   \n",
       "997    82324424   2/6/2018  11:44    Male   Brookfield  NewYork     No   \n",
       "998   783661702  1/29/2018  15:44  Female   Brookfield  NewYork     No   \n",
       "999   759171975  1/31/2018  10:13  Female  Water tower  Chicago    Yes   \n",
       "\n",
       "      Category  Price  Quantity  Total Payment  Rating  \n",
       "0    Groceries     30         1     30    Cash       2  \n",
       "1      Fashion     35         5    175    Card       3  \n",
       "2     Clothing     57         2    114    Cash       5  \n",
       "3     Sporting     89         4    356    Gpay       1  \n",
       "4        Books     82         5    410    Cash       4  \n",
       "..         ...    ...       ...    ...     ...     ...  \n",
       "995  Groceries     31         4    124    Card       3  \n",
       "996  Groceries      3         5     15    Gpay       3  \n",
       "997   Clothing     71         5    355    Card       3  \n",
       "998   Clothing     89         7    623    Cash       5  \n",
       "999   Clothing     31         7    217    Gpay       3  \n",
       "\n",
       "[1000 rows x 13 columns]"
      ]
     },
     "execution_count": 18,
     "metadata": {},
     "output_type": "execute_result"
    }
   ],
   "source": [
    "sales"
   ]
  },
  {
   "cell_type": "code",
   "execution_count": 19,
   "id": "3e7212f0",
   "metadata": {},
   "outputs": [],
   "source": [
    "Loc_sale=sales.groupby('Location')"
   ]
  },
  {
   "cell_type": "code",
   "execution_count": 20,
   "id": "2e6d36ce",
   "metadata": {},
   "outputs": [
    {
     "data": {
      "text/plain": [
       "list"
      ]
     },
     "execution_count": 20,
     "metadata": {},
     "output_type": "execute_result"
    }
   ],
   "source": [
    "location=[x for x,y in Loc_sale]\n",
    "type(location)"
   ]
  },
  {
   "cell_type": "code",
   "execution_count": 21,
   "id": "7a631e83",
   "metadata": {},
   "outputs": [
    {
     "data": {
      "text/plain": [
       "['Brookfield', 'Park lane', 'Water tower']"
      ]
     },
     "execution_count": 21,
     "metadata": {},
     "output_type": "execute_result"
    }
   ],
   "source": [
    "location"
   ]
  },
  {
   "cell_type": "code",
   "execution_count": 22,
   "id": "740a1aae",
   "metadata": {},
   "outputs": [
    {
     "data": {
      "text/plain": [
       "Location\n",
       "Brookfield     72141\n",
       "Park lane      70432\n",
       "Water tower    65215\n",
       "Name: Total, dtype: int64"
      ]
     },
     "execution_count": 22,
     "metadata": {},
     "output_type": "execute_result"
    }
   ],
   "source": [
    "sales.groupby('Location').sum()['Total']"
   ]
  },
  {
   "cell_type": "code",
   "execution_count": 23,
   "id": "ec44f472",
   "metadata": {},
   "outputs": [
    {
     "data": {
      "text/plain": [
       "<BarContainer object of 3 artists>"
      ]
     },
     "execution_count": 23,
     "metadata": {},
     "output_type": "execute_result"
    },
    {
     "data": {
      "image/png": "[encoded data removed]",
      "text/plain": [
       "<Figure size 432x288 with 1 Axes>"
      ]
     },
     "metadata": {
      "needs_background": "light"
     },
     "output_type": "display_data"
    }
   ],
   "source": [
    "import matplotlib.pyplot as plt\n",
    "\n",
    "plt.bar(location,sales.groupby('Location').sum()['Total'])"
   ]
  },
  {
   "cell_type": "code",
   "execution_count": 24,
   "id": "6ac55f0e",
   "metadata": {},
   "outputs": [
    {
     "data": {
      "text/plain": [
       "([<matplotlib.patches.Wedge at 0x1a57caa9250>,\n",
       "  <matplotlib.patches.Wedge at 0x1a57caa9940>,\n",
       "  <matplotlib.patches.Wedge at 0x1a57caa9fd0>],\n",
       " [Text(0.5080357843151302, 0.9756534435214743, 'Brookfield'),\n",
       "  Text(-1.0939745592878725, -0.11497679605427102, 'Park lane'),\n",
       "  Text(0.6072323961649048, -0.917207074246502, 'Water tower')],\n",
       " [Text(0.23092535650687734, 0.4434788379643065, '34.7%'),\n",
       "  Text(-0.49726116331266923, -0.05226218002466864, '33.9%'),\n",
       "  Text(0.2760147255295021, -0.4169123064756827, '31.4%')])"
      ]
     },
     "execution_count": 24,
     "metadata": {},
     "output_type": "execute_result"
    },
    {
     "data": {
      "image/png": "[encoded data removed]",
      "text/plain": [
       "<Figure size 432x288 with 1 Axes>"
      ]
     },
     "metadata": {},
     "output_type": "display_data"
    }
   ],
   "source": [
    "plt.pie(sales.groupby('Location').sum()['Total'],labels=location,autopct='%1.1f%%',pctdistance=0.5)\n"
   ]
  },
  {
   "cell_type": "code",
   "execution_count": 25,
   "id": "da1b0095",
   "metadata": {},
   "outputs": [
    {
     "data": {
      "text/plain": [
       "Gender  Location   \n",
       "Female  Brookfield     179\n",
       "        Park lane      179\n",
       "        Water tower    143\n",
       "Male    Brookfield     161\n",
       "        Park lane      153\n",
       "        Water tower    185\n",
       "Name: Invoice ID, dtype: int64"
      ]
     },
     "execution_count": 25,
     "metadata": {},
     "output_type": "execute_result"
    }
   ],
   "source": [
    "# location with highest female and male customers\n",
    "\n",
    "data=sales.groupby(['Gender','Location']).count()['Invoice ID']\n",
    "rev=data.unstack(level=0)\n",
    "data"
   ]
  },
  {
   "cell_type": "code",
   "execution_count": 26,
   "id": "84bb7b6b",
   "metadata": {},
   "outputs": [
    {
     "data": {
      "text/plain": [
       "<AxesSubplot:xlabel='Location'>"
      ]
     },
     "execution_count": 26,
     "metadata": {},
     "output_type": "execute_result"
    },
    {
     "data": {
      "image/png": "[encoded data removed]",
      "text/plain": [
       "<Figure size 432x288 with 1 Axes>"
      ]
     },
     "metadata": {
      "needs_background": "light"
     },
     "output_type": "display_data"
    }
   ],
   "source": [
    "rev.plot(kind='bar')"
   ]
  },
  {
   "cell_type": "code",
   "execution_count": 27,
   "id": "9ceb87ea",
   "metadata": {},
   "outputs": [
    {
     "data": {
      "text/plain": [
       "[179, 179, 143, 161, 153, 185]"
      ]
     },
     "execution_count": 27,
     "metadata": {},
     "output_type": "execute_result"
    }
   ],
   "source": [
    "list(data)"
   ]
  },
  {
   "cell_type": "code",
   "execution_count": 28,
   "id": "e799fe6e",
   "metadata": {},
   "outputs": [
    {
     "data": {
      "text/plain": [
       "array([<AxesSubplot:ylabel='Female'>, <AxesSubplot:ylabel='Male'>],\n",
       "      dtype=object)"
      ]
     },
     "execution_count": 28,
     "metadata": {},
     "output_type": "execute_result"
    },
    {
     "data": {
      "image/png": "[encoded data removed]",
      "text/plain": [
       "<Figure size 432x288 with 2 Axes>"
      ]
     },
     "metadata": {},
     "output_type": "display_data"
    }
   ],
   "source": [
    "rev.plot(kind='pie',subplots=True,autopct=\"%1.1f%%\")"
   ]
  },
  {
   "cell_type": "code",
   "execution_count": 29,
   "id": "1cb22f09",
   "metadata": {},
   "outputs": [],
   "source": [
    "# day at which highest shopping done\n",
    "# days with max sale or most billing is done\n",
    "\n",
    "sales['Day']=pd.to_datetime(sales['Date']).dt.day"
   ]
  },
  {
   "cell_type": "code",
   "execution_count": 30,
   "id": "ff03edc7",
   "metadata": {},
   "outputs": [
    {
     "data": {
      "text/html": [
       "<div>\n",
       "<style scoped>\n",
       "    .dataframe tbody tr th:only-of-type {\n",
       "        vertical-align: middle;\n",
       "    }\n",
       "\n",
       "    .dataframe tbody tr th {\n",
       "        vertical-align: top;\n",
       "    }\n",
       "\n",
       "    .dataframe thead th {\n",
       "        text-align: right;\n",
       "    }\n",
       "</style>\n",
       "<table border=\"1\" class=\"dataframe\">\n",
       "  <thead>\n",
       "    <tr style=\"text-align: right;\">\n",
       "      <th></th>\n",
       "      <th>Invoice ID</th>\n",
       "      <th>Date</th>\n",
       "      <th>Time</th>\n",
       "      <th>Gender</th>\n",
       "      <th>Location</th>\n",
       "      <th>City</th>\n",
       "      <th>Member</th>\n",
       "      <th>Category</th>\n",
       "      <th>Price</th>\n",
       "      <th>Quantity</th>\n",
       "      <th>Total</th>\n",
       "      <th>Payment</th>\n",
       "      <th>Rating</th>\n",
       "      <th>Day</th>\n",
       "    </tr>\n",
       "  </thead>\n",
       "  <tbody>\n",
       "    <tr>\n",
       "      <th>0</th>\n",
       "      <td>460489604</td>\n",
       "      <td>1/25/2018</td>\n",
       "      <td>16:46</td>\n",
       "      <td>Male</td>\n",
       "      <td>Brookfield</td>\n",
       "      <td>NewYork</td>\n",
       "      <td>Yes</td>\n",
       "      <td>Groceries</td>\n",
       "      <td>30</td>\n",
       "      <td>1</td>\n",
       "      <td>30</td>\n",
       "      <td>Cash</td>\n",
       "      <td>2</td>\n",
       "      <td>25</td>\n",
       "    </tr>\n",
       "    <tr>\n",
       "      <th>1</th>\n",
       "      <td>471006167</td>\n",
       "      <td>3/19/2018</td>\n",
       "      <td>16:48</td>\n",
       "      <td>Female</td>\n",
       "      <td>Water tower</td>\n",
       "      <td>Chicago</td>\n",
       "      <td>Yes</td>\n",
       "      <td>Fashion</td>\n",
       "      <td>35</td>\n",
       "      <td>5</td>\n",
       "      <td>175</td>\n",
       "      <td>Card</td>\n",
       "      <td>3</td>\n",
       "      <td>19</td>\n",
       "    </tr>\n",
       "    <tr>\n",
       "      <th>2</th>\n",
       "      <td>411909258</td>\n",
       "      <td>2/25/2018</td>\n",
       "      <td>13:33</td>\n",
       "      <td>Male</td>\n",
       "      <td>Water tower</td>\n",
       "      <td>Chicago</td>\n",
       "      <td>No</td>\n",
       "      <td>Clothing</td>\n",
       "      <td>57</td>\n",
       "      <td>2</td>\n",
       "      <td>114</td>\n",
       "      <td>Cash</td>\n",
       "      <td>5</td>\n",
       "      <td>25</td>\n",
       "    </tr>\n",
       "    <tr>\n",
       "      <th>3</th>\n",
       "      <td>487313402</td>\n",
       "      <td>1/22/2018</td>\n",
       "      <td>13:38</td>\n",
       "      <td>Female</td>\n",
       "      <td>Park lane</td>\n",
       "      <td>Dallas</td>\n",
       "      <td>Yes</td>\n",
       "      <td>Sporting</td>\n",
       "      <td>89</td>\n",
       "      <td>4</td>\n",
       "      <td>356</td>\n",
       "      <td>Gpay</td>\n",
       "      <td>1</td>\n",
       "      <td>22</td>\n",
       "    </tr>\n",
       "    <tr>\n",
       "      <th>4</th>\n",
       "      <td>197763430</td>\n",
       "      <td>2/18/2018</td>\n",
       "      <td>15:31</td>\n",
       "      <td>Female</td>\n",
       "      <td>Park lane</td>\n",
       "      <td>Dallas</td>\n",
       "      <td>No</td>\n",
       "      <td>Books</td>\n",
       "      <td>82</td>\n",
       "      <td>5</td>\n",
       "      <td>410</td>\n",
       "      <td>Cash</td>\n",
       "      <td>4</td>\n",
       "      <td>18</td>\n",
       "    </tr>\n",
       "    <tr>\n",
       "      <th>...</th>\n",
       "      <td>...</td>\n",
       "      <td>...</td>\n",
       "      <td>...</td>\n",
       "      <td>...</td>\n",
       "      <td>...</td>\n",
       "      <td>...</td>\n",
       "      <td>...</td>\n",
       "      <td>...</td>\n",
       "      <td>...</td>\n",
       "      <td>...</td>\n",
       "      <td>...</td>\n",
       "      <td>...</td>\n",
       "      <td>...</td>\n",
       "      <td>...</td>\n",
       "    </tr>\n",
       "    <tr>\n",
       "      <th>995</th>\n",
       "      <td>818829599</td>\n",
       "      <td>3/26/2018</td>\n",
       "      <td>11:19</td>\n",
       "      <td>Male</td>\n",
       "      <td>Park lane</td>\n",
       "      <td>Dallas</td>\n",
       "      <td>No</td>\n",
       "      <td>Groceries</td>\n",
       "      <td>31</td>\n",
       "      <td>4</td>\n",
       "      <td>124</td>\n",
       "      <td>Card</td>\n",
       "      <td>3</td>\n",
       "      <td>26</td>\n",
       "    </tr>\n",
       "    <tr>\n",
       "      <th>996</th>\n",
       "      <td>556589713</td>\n",
       "      <td>2/20/2018</td>\n",
       "      <td>17:17</td>\n",
       "      <td>Male</td>\n",
       "      <td>Water tower</td>\n",
       "      <td>Chicago</td>\n",
       "      <td>Yes</td>\n",
       "      <td>Groceries</td>\n",
       "      <td>3</td>\n",
       "      <td>5</td>\n",
       "      <td>15</td>\n",
       "      <td>Gpay</td>\n",
       "      <td>3</td>\n",
       "      <td>20</td>\n",
       "    </tr>\n",
       "    <tr>\n",
       "      <th>997</th>\n",
       "      <td>82324424</td>\n",
       "      <td>2/6/2018</td>\n",
       "      <td>11:44</td>\n",
       "      <td>Male</td>\n",
       "      <td>Brookfield</td>\n",
       "      <td>NewYork</td>\n",
       "      <td>No</td>\n",
       "      <td>Clothing</td>\n",
       "      <td>71</td>\n",
       "      <td>5</td>\n",
       "      <td>355</td>\n",
       "      <td>Card</td>\n",
       "      <td>3</td>\n",
       "      <td>6</td>\n",
       "    </tr>\n",
       "    <tr>\n",
       "      <th>998</th>\n",
       "      <td>783661702</td>\n",
       "      <td>1/29/2018</td>\n",
       "      <td>15:44</td>\n",
       "      <td>Female</td>\n",
       "      <td>Brookfield</td>\n",
       "      <td>NewYork</td>\n",
       "      <td>No</td>\n",
       "      <td>Clothing</td>\n",
       "      <td>89</td>\n",
       "      <td>7</td>\n",
       "      <td>623</td>\n",
       "      <td>Cash</td>\n",
       "      <td>5</td>\n",
       "      <td>29</td>\n",
       "    </tr>\n",
       "    <tr>\n",
       "      <th>999</th>\n",
       "      <td>759171975</td>\n",
       "      <td>1/31/2018</td>\n",
       "      <td>10:13</td>\n",
       "      <td>Female</td>\n",
       "      <td>Water tower</td>\n",
       "      <td>Chicago</td>\n",
       "      <td>Yes</td>\n",
       "      <td>Clothing</td>\n",
       "      <td>31</td>\n",
       "      <td>7</td>\n",
       "      <td>217</td>\n",
       "      <td>Gpay</td>\n",
       "      <td>3</td>\n",
       "      <td>31</td>\n",
       "    </tr>\n",
       "  </tbody>\n",
       "</table>\n",
       "<p>1000 rows × 14 columns</p>\n",
       "</div>"
      ],
      "text/plain": [
       "     Invoice ID       Date   Time  Gender     Location     City Member  \\\n",
       "0     460489604  1/25/2018  16:46    Male   Brookfield  NewYork    Yes   \n",
       "1     471006167  3/19/2018  16:48  Female  Water tower  Chicago    Yes   \n",
       "2     411909258  2/25/2018  13:33    Male  Water tower  Chicago     No   \n",
       "3     487313402  1/22/2018  13:38  Female    Park lane   Dallas    Yes   \n",
       "4     197763430  2/18/2018  15:31  Female    Park lane   Dallas     No   \n",
       "..          ...        ...    ...     ...          ...      ...    ...   \n",
       "995   818829599  3/26/2018  11:19    Male    Park lane   Dallas     No   \n",
       "996   556589713  2/20/2018  17:17    Male  Water tower  Chicago    Yes   \n",
       "997    82324424   2/6/2018  11:44    Male   Brookfield  NewYork     No   \n",
       "998   783661702  1/29/2018  15:44  Female   Brookfield  NewYork     No   \n",
       "999   759171975  1/31/2018  10:13  Female  Water tower  Chicago    Yes   \n",
       "\n",
       "      Category  Price  Quantity  Total Payment  Rating  Day  \n",
       "0    Groceries     30         1     30    Cash       2   25  \n",
       "1      Fashion     35         5    175    Card       3   19  \n",
       "2     Clothing     57         2    114    Cash       5   25  \n",
       "3     Sporting     89         4    356    Gpay       1   22  \n",
       "4        Books     82         5    410    Cash       4   18  \n",
       "..         ...    ...       ...    ...     ...     ...  ...  \n",
       "995  Groceries     31         4    124    Card       3   26  \n",
       "996  Groceries      3         5     15    Gpay       3   20  \n",
       "997   Clothing     71         5    355    Card       3    6  \n",
       "998   Clothing     89         7    623    Cash       5   29  \n",
       "999   Clothing     31         7    217    Gpay       3   31  \n",
       "\n",
       "[1000 rows x 14 columns]"
      ]
     },
     "execution_count": 30,
     "metadata": {},
     "output_type": "execute_result"
    }
   ],
   "source": [
    "sales"
   ]
  },
  {
   "cell_type": "code",
   "execution_count": 31,
   "id": "5b4c6585",
   "metadata": {},
   "outputs": [],
   "source": [
    "day_sale=sales.groupby('Day').count()['Invoice ID']"
   ]
  },
  {
   "cell_type": "code",
   "execution_count": 32,
   "id": "53f800ad",
   "metadata": {},
   "outputs": [
    {
     "data": {
      "text/plain": [
       "Day\n",
       "1     28\n",
       "2     40\n",
       "3     36\n",
       "4     29\n",
       "5     41\n",
       "6     33\n",
       "7     38\n",
       "8     41\n",
       "9     37\n",
       "10    32\n",
       "11    27\n",
       "12    31\n",
       "13    28\n",
       "14    39\n",
       "15    44\n",
       "16    27\n",
       "17    30\n",
       "18    23\n",
       "19    41\n",
       "20    35\n",
       "21    20\n",
       "22    28\n",
       "23    36\n",
       "24    33\n",
       "25    42\n",
       "26    39\n",
       "27    38\n",
       "28    30\n",
       "29    20\n",
       "30    20\n",
       "31    14\n",
       "Name: Invoice ID, dtype: int64"
      ]
     },
     "execution_count": 32,
     "metadata": {},
     "output_type": "execute_result"
    }
   ],
   "source": [
    "day_sale"
   ]
  },
  {
   "cell_type": "code",
   "execution_count": 33,
   "id": "4aee9b67",
   "metadata": {},
   "outputs": [
    {
     "data": {
      "text/plain": [
       "<AxesSubplot:xlabel='Day'>"
      ]
     },
     "execution_count": 33,
     "metadata": {},
     "output_type": "execute_result"
    },
    {
     "data": {
      "image/png": "[encoded data removed]",
      "text/plain": [
       "<Figure size 432x288 with 1 Axes>"
      ]
     },
     "metadata": {
      "needs_background": "light"
     },
     "output_type": "display_data"
    }
   ],
   "source": [
    "day_sale.plot()"
   ]
  },
  {
   "cell_type": "code",
   "execution_count": 34,
   "id": "64419b1c",
   "metadata": {},
   "outputs": [
    {
     "data": {
      "text/plain": [
       "<AxesSubplot:xlabel='Day'>"
      ]
     },
     "execution_count": 34,
     "metadata": {},
     "output_type": "execute_result"
    },
    {
     "data": {
      "image/png": "[encoded data removed]",
      "text/plain": [
       "<Figure size 432x288 with 1 Axes>"
      ]
     },
     "metadata": {
      "needs_background": "light"
     },
     "output_type": "display_data"
    }
   ],
   "source": [
    "day_sale=sales.groupby('Day')['Total'].sum()\n",
    "day_sale.plot()"
   ]
  },
  {
   "cell_type": "code",
   "execution_count": 35,
   "id": "76b67f53",
   "metadata": {},
   "outputs": [
    {
     "data": {
      "text/html": [
       "<div>\n",
       "<style scoped>\n",
       "    .dataframe tbody tr th:only-of-type {\n",
       "        vertical-align: middle;\n",
       "    }\n",
       "\n",
       "    .dataframe tbody tr th {\n",
       "        vertical-align: top;\n",
       "    }\n",
       "\n",
       "    .dataframe thead th {\n",
       "        text-align: right;\n",
       "    }\n",
       "</style>\n",
       "<table border=\"1\" class=\"dataframe\">\n",
       "  <thead>\n",
       "    <tr style=\"text-align: right;\">\n",
       "      <th></th>\n",
       "      <th>Invoice ID</th>\n",
       "      <th>Date</th>\n",
       "      <th>Time</th>\n",
       "      <th>Gender</th>\n",
       "      <th>Location</th>\n",
       "      <th>City</th>\n",
       "      <th>Member</th>\n",
       "      <th>Category</th>\n",
       "      <th>Price</th>\n",
       "      <th>Quantity</th>\n",
       "      <th>Total</th>\n",
       "      <th>Payment</th>\n",
       "      <th>Rating</th>\n",
       "      <th>Day</th>\n",
       "    </tr>\n",
       "  </thead>\n",
       "  <tbody>\n",
       "    <tr>\n",
       "      <th>0</th>\n",
       "      <td>460489604</td>\n",
       "      <td>1/25/2018</td>\n",
       "      <td>16:46</td>\n",
       "      <td>Male</td>\n",
       "      <td>Brookfield</td>\n",
       "      <td>NewYork</td>\n",
       "      <td>Yes</td>\n",
       "      <td>Groceries</td>\n",
       "      <td>30</td>\n",
       "      <td>1</td>\n",
       "      <td>30</td>\n",
       "      <td>Cash</td>\n",
       "      <td>2</td>\n",
       "      <td>25</td>\n",
       "    </tr>\n",
       "    <tr>\n",
       "      <th>1</th>\n",
       "      <td>471006167</td>\n",
       "      <td>3/19/2018</td>\n",
       "      <td>16:48</td>\n",
       "      <td>Female</td>\n",
       "      <td>Water tower</td>\n",
       "      <td>Chicago</td>\n",
       "      <td>Yes</td>\n",
       "      <td>Fashion</td>\n",
       "      <td>35</td>\n",
       "      <td>5</td>\n",
       "      <td>175</td>\n",
       "      <td>Card</td>\n",
       "      <td>3</td>\n",
       "      <td>19</td>\n",
       "    </tr>\n",
       "    <tr>\n",
       "      <th>2</th>\n",
       "      <td>411909258</td>\n",
       "      <td>2/25/2018</td>\n",
       "      <td>13:33</td>\n",
       "      <td>Male</td>\n",
       "      <td>Water tower</td>\n",
       "      <td>Chicago</td>\n",
       "      <td>No</td>\n",
       "      <td>Clothing</td>\n",
       "      <td>57</td>\n",
       "      <td>2</td>\n",
       "      <td>114</td>\n",
       "      <td>Cash</td>\n",
       "      <td>5</td>\n",
       "      <td>25</td>\n",
       "    </tr>\n",
       "    <tr>\n",
       "      <th>3</th>\n",
       "      <td>487313402</td>\n",
       "      <td>1/22/2018</td>\n",
       "      <td>13:38</td>\n",
       "      <td>Female</td>\n",
       "      <td>Park lane</td>\n",
       "      <td>Dallas</td>\n",
       "      <td>Yes</td>\n",
       "      <td>Sporting</td>\n",
       "      <td>89</td>\n",
       "      <td>4</td>\n",
       "      <td>356</td>\n",
       "      <td>Gpay</td>\n",
       "      <td>1</td>\n",
       "      <td>22</td>\n",
       "    </tr>\n",
       "    <tr>\n",
       "      <th>4</th>\n",
       "      <td>197763430</td>\n",
       "      <td>2/18/2018</td>\n",
       "      <td>15:31</td>\n",
       "      <td>Female</td>\n",
       "      <td>Park lane</td>\n",
       "      <td>Dallas</td>\n",
       "      <td>No</td>\n",
       "      <td>Books</td>\n",
       "      <td>82</td>\n",
       "      <td>5</td>\n",
       "      <td>410</td>\n",
       "      <td>Cash</td>\n",
       "      <td>4</td>\n",
       "      <td>18</td>\n",
       "    </tr>\n",
       "    <tr>\n",
       "      <th>...</th>\n",
       "      <td>...</td>\n",
       "      <td>...</td>\n",
       "      <td>...</td>\n",
       "      <td>...</td>\n",
       "      <td>...</td>\n",
       "      <td>...</td>\n",
       "      <td>...</td>\n",
       "      <td>...</td>\n",
       "      <td>...</td>\n",
       "      <td>...</td>\n",
       "      <td>...</td>\n",
       "      <td>...</td>\n",
       "      <td>...</td>\n",
       "      <td>...</td>\n",
       "    </tr>\n",
       "    <tr>\n",
       "      <th>995</th>\n",
       "      <td>818829599</td>\n",
       "      <td>3/26/2018</td>\n",
       "      <td>11:19</td>\n",
       "      <td>Male</td>\n",
       "      <td>Park lane</td>\n",
       "      <td>Dallas</td>\n",
       "      <td>No</td>\n",
       "      <td>Groceries</td>\n",
       "      <td>31</td>\n",
       "      <td>4</td>\n",
       "      <td>124</td>\n",
       "      <td>Card</td>\n",
       "      <td>3</td>\n",
       "      <td>26</td>\n",
       "    </tr>\n",
       "    <tr>\n",
       "      <th>996</th>\n",
       "      <td>556589713</td>\n",
       "      <td>2/20/2018</td>\n",
       "      <td>17:17</td>\n",
       "      <td>Male</td>\n",
       "      <td>Water tower</td>\n",
       "      <td>Chicago</td>\n",
       "      <td>Yes</td>\n",
       "      <td>Groceries</td>\n",
       "      <td>3</td>\n",
       "      <td>5</td>\n",
       "      <td>15</td>\n",
       "      <td>Gpay</td>\n",
       "      <td>3</td>\n",
       "      <td>20</td>\n",
       "    </tr>\n",
       "    <tr>\n",
       "      <th>997</th>\n",
       "      <td>82324424</td>\n",
       "      <td>2/6/2018</td>\n",
       "      <td>11:44</td>\n",
       "      <td>Male</td>\n",
       "      <td>Brookfield</td>\n",
       "      <td>NewYork</td>\n",
       "      <td>No</td>\n",
       "      <td>Clothing</td>\n",
       "      <td>71</td>\n",
       "      <td>5</td>\n",
       "      <td>355</td>\n",
       "      <td>Card</td>\n",
       "      <td>3</td>\n",
       "      <td>6</td>\n",
       "    </tr>\n",
       "    <tr>\n",
       "      <th>998</th>\n",
       "      <td>783661702</td>\n",
       "      <td>1/29/2018</td>\n",
       "      <td>15:44</td>\n",
       "      <td>Female</td>\n",
       "      <td>Brookfield</td>\n",
       "      <td>NewYork</td>\n",
       "      <td>No</td>\n",
       "      <td>Clothing</td>\n",
       "      <td>89</td>\n",
       "      <td>7</td>\n",
       "      <td>623</td>\n",
       "      <td>Cash</td>\n",
       "      <td>5</td>\n",
       "      <td>29</td>\n",
       "    </tr>\n",
       "    <tr>\n",
       "      <th>999</th>\n",
       "      <td>759171975</td>\n",
       "      <td>1/31/2018</td>\n",
       "      <td>10:13</td>\n",
       "      <td>Female</td>\n",
       "      <td>Water tower</td>\n",
       "      <td>Chicago</td>\n",
       "      <td>Yes</td>\n",
       "      <td>Clothing</td>\n",
       "      <td>31</td>\n",
       "      <td>7</td>\n",
       "      <td>217</td>\n",
       "      <td>Gpay</td>\n",
       "      <td>3</td>\n",
       "      <td>31</td>\n",
       "    </tr>\n",
       "  </tbody>\n",
       "</table>\n",
       "<p>1000 rows × 14 columns</p>\n",
       "</div>"
      ],
      "text/plain": [
       "     Invoice ID       Date   Time  Gender     Location     City Member  \\\n",
       "0     460489604  1/25/2018  16:46    Male   Brookfield  NewYork    Yes   \n",
       "1     471006167  3/19/2018  16:48  Female  Water tower  Chicago    Yes   \n",
       "2     411909258  2/25/2018  13:33    Male  Water tower  Chicago     No   \n",
       "3     487313402  1/22/2018  13:38  Female    Park lane   Dallas    Yes   \n",
       "4     197763430  2/18/2018  15:31  Female    Park lane   Dallas     No   \n",
       "..          ...        ...    ...     ...          ...      ...    ...   \n",
       "995   818829599  3/26/2018  11:19    Male    Park lane   Dallas     No   \n",
       "996   556589713  2/20/2018  17:17    Male  Water tower  Chicago    Yes   \n",
       "997    82324424   2/6/2018  11:44    Male   Brookfield  NewYork     No   \n",
       "998   783661702  1/29/2018  15:44  Female   Brookfield  NewYork     No   \n",
       "999   759171975  1/31/2018  10:13  Female  Water tower  Chicago    Yes   \n",
       "\n",
       "      Category  Price  Quantity  Total Payment  Rating  Day  \n",
       "0    Groceries     30         1     30    Cash       2   25  \n",
       "1      Fashion     35         5    175    Card       3   19  \n",
       "2     Clothing     57         2    114    Cash       5   25  \n",
       "3     Sporting     89         4    356    Gpay       1   22  \n",
       "4        Books     82         5    410    Cash       4   18  \n",
       "..         ...    ...       ...    ...     ...     ...  ...  \n",
       "995  Groceries     31         4    124    Card       3   26  \n",
       "996  Groceries      3         5     15    Gpay       3   20  \n",
       "997   Clothing     71         5    355    Card       3    6  \n",
       "998   Clothing     89         7    623    Cash       5   29  \n",
       "999   Clothing     31         7    217    Gpay       3   31  \n",
       "\n",
       "[1000 rows x 14 columns]"
      ]
     },
     "execution_count": 35,
     "metadata": {},
     "output_type": "execute_result"
    }
   ],
   "source": [
    "# Branch with high membership and branch with hight and low rating\n",
    "sales"
   ]
  },
  {
   "cell_type": "code",
   "execution_count": 36,
   "id": "aebce540",
   "metadata": {},
   "outputs": [
    {
     "data": {
      "text/html": [
       "<div>\n",
       "<style scoped>\n",
       "    .dataframe tbody tr th:only-of-type {\n",
       "        vertical-align: middle;\n",
       "    }\n",
       "\n",
       "    .dataframe tbody tr th {\n",
       "        vertical-align: top;\n",
       "    }\n",
       "\n",
       "    .dataframe thead th {\n",
       "        text-align: right;\n",
       "    }\n",
       "</style>\n",
       "<table border=\"1\" class=\"dataframe\">\n",
       "  <thead>\n",
       "    <tr style=\"text-align: right;\">\n",
       "      <th>Member</th>\n",
       "      <th>No</th>\n",
       "      <th>Yes</th>\n",
       "    </tr>\n",
       "    <tr>\n",
       "      <th>Location</th>\n",
       "      <th></th>\n",
       "      <th></th>\n",
       "    </tr>\n",
       "  </thead>\n",
       "  <tbody>\n",
       "    <tr>\n",
       "      <th>Brookfield</th>\n",
       "      <td>173</td>\n",
       "      <td>167</td>\n",
       "    </tr>\n",
       "    <tr>\n",
       "      <th>Park lane</th>\n",
       "      <td>167</td>\n",
       "      <td>165</td>\n",
       "    </tr>\n",
       "    <tr>\n",
       "      <th>Water tower</th>\n",
       "      <td>159</td>\n",
       "      <td>169</td>\n",
       "    </tr>\n",
       "  </tbody>\n",
       "</table>\n",
       "</div>"
      ],
      "text/plain": [
       "Member        No  Yes\n",
       "Location             \n",
       "Brookfield   173  167\n",
       "Park lane    167  165\n",
       "Water tower  159  169"
      ]
     },
     "execution_count": 36,
     "metadata": {},
     "output_type": "execute_result"
    }
   ],
   "source": [
    "members=sales.groupby(['Member','Location']).count()['Invoice ID']\n",
    "members=members.unstack(level=0)\n",
    "members"
   ]
  },
  {
   "cell_type": "code",
   "execution_count": 37,
   "id": "8921ca3c",
   "metadata": {},
   "outputs": [
    {
     "data": {
      "text/plain": [
       "<AxesSubplot:xlabel='Location'>"
      ]
     },
     "execution_count": 37,
     "metadata": {},
     "output_type": "execute_result"
    },
    {
     "data": {
      "image/png": "[encoded data removed]",
      "text/plain": [
       "<Figure size 432x288 with 1 Axes>"
      ]
     },
     "metadata": {
      "needs_background": "light"
     },
     "output_type": "display_data"
    }
   ],
   "source": [
    "members.plot(kind='bar')"
   ]
  },
  {
   "cell_type": "code",
   "execution_count": 38,
   "id": "cf6d87ca",
   "metadata": {},
   "outputs": [
    {
     "data": {
      "text/plain": [
       "<AxesSubplot:xlabel='Location'>"
      ]
     },
     "execution_count": 38,
     "metadata": {},
     "output_type": "execute_result"
    },
    {
     "data": {
      "image/png": "[encoded data removed]",
      "text/plain": [
       "<Figure size 432x288 with 1 Axes>"
      ]
     },
     "metadata": {
      "needs_background": "light"
     },
     "output_type": "display_data"
    }
   ],
   "source": [
    "# dropping the column 'No'\n",
    "members=members.drop('No',1)\n",
    "members.plot()"
   ]
  },
  {
   "cell_type": "code",
   "execution_count": 39,
   "id": "f07c13de",
   "metadata": {},
   "outputs": [],
   "source": [
    "rating=sales.groupby(['Location']).mean()['Rating']"
   ]
  },
  {
   "cell_type": "code",
   "execution_count": 40,
   "id": "0719a732",
   "metadata": {},
   "outputs": [
    {
     "data": {
      "text/plain": [
       "Location\n",
       "Brookfield     2.782353\n",
       "Park lane      3.021084\n",
       "Water tower    3.118902\n",
       "Name: Rating, dtype: float64"
      ]
     },
     "execution_count": 40,
     "metadata": {},
     "output_type": "execute_result"
    }
   ],
   "source": [
    "rating"
   ]
  },
  {
   "cell_type": "code",
   "execution_count": 41,
   "id": "1ed6bf1c",
   "metadata": {},
   "outputs": [
    {
     "data": {
      "text/plain": [
       "<AxesSubplot:xlabel='Location'>"
      ]
     },
     "execution_count": 41,
     "metadata": {},
     "output_type": "execute_result"
    },
    {
     "data": {
      "image/png": "[encoded data removed]",
      "text/plain": [
       "<Figure size 432x288 with 1 Axes>"
      ]
     },
     "metadata": {
      "needs_background": "light"
     },
     "output_type": "display_data"
    }
   ],
   "source": [
    "rating.plot()"
   ]
  },
  {
   "cell_type": "code",
   "execution_count": 42,
   "id": "ae54cfd7",
   "metadata": {},
   "outputs": [
    {
     "data": {
      "text/plain": [
       "<AxesSubplot:xlabel='Location'>"
      ]
     },
     "execution_count": 42,
     "metadata": {},
     "output_type": "execute_result"
    },
    {
     "data": {
      "image/png": "[encoded data removed]",
      "text/plain": [
       "<Figure size 432x288 with 1 Axes>"
      ]
     },
     "metadata": {
      "needs_background": "light"
     },
     "output_type": "display_data"
    }
   ],
   "source": [
    "rating.plot(kind=\"bar\")"
   ]
  },
  {
   "cell_type": "code",
   "execution_count": 43,
   "id": "60222ccd",
   "metadata": {},
   "outputs": [
    {
     "data": {
      "text/plain": [
       "<AxesSubplot:xlabel='City'>"
      ]
     },
     "execution_count": 43,
     "metadata": {},
     "output_type": "execute_result"
    },
    {
     "data": {
      "image/png": "[encoded data removed]",
      "text/plain": [
       "<Figure size 432x288 with 1 Axes>"
      ]
     },
     "metadata": {
      "needs_background": "light"
     },
     "output_type": "display_data"
    }
   ],
   "source": [
    "\n",
    "# City with High Female Shoppers\n",
    "female_shoppers=sales.groupby(['Gender','City']).count()['Invoice ID']\n",
    "female_shoppers.unstack(level=0).plot(kind=\"bar\")"
   ]
  },
  {
   "cell_type": "code",
   "execution_count": 44,
   "id": "f7040643",
   "metadata": {},
   "outputs": [],
   "source": [
    "# Spending based on gender\n",
    "spend=sales.groupby([\"Gender\"]).sum()['Total']"
   ]
  },
  {
   "cell_type": "code",
   "execution_count": 45,
   "id": "f057840d",
   "metadata": {},
   "outputs": [
    {
     "data": {
      "text/plain": [
       "<AxesSubplot:xlabel='Gender'>"
      ]
     },
     "execution_count": 45,
     "metadata": {},
     "output_type": "execute_result"
    },
    {
     "data": {
      "image/png": "[encoded data removed]",
      "text/plain": [
       "<Figure size 432x288 with 1 Axes>"
      ]
     },
     "metadata": {
      "needs_background": "light"
     },
     "output_type": "display_data"
    }
   ],
   "source": [
    "spend.plot(kind=\"bar\")"
   ]
  },
  {
   "cell_type": "code",
   "execution_count": 46,
   "id": "f24dfd88",
   "metadata": {},
   "outputs": [],
   "source": [
    "# Exercises\n",
    "# Spend based on Membership\n",
    "member_based_spend=sales.groupby(['Member']).sum()['Total']"
   ]
  },
  {
   "cell_type": "code",
   "execution_count": 47,
   "id": "fedc3742",
   "metadata": {},
   "outputs": [
    {
     "data": {
      "text/plain": [
       "<AxesSubplot:ylabel='Member'>"
      ]
     },
     "execution_count": 47,
     "metadata": {},
     "output_type": "execute_result"
    },
    {
     "data": {
      "image/png": "[encoded data removed]",
      "text/plain": [
       "<Figure size 432x288 with 1 Axes>"
      ]
     },
     "metadata": {
      "needs_background": "light"
     },
     "output_type": "display_data"
    }
   ],
   "source": [
    "member_based_spend.plot(kind=\"barh\")"
   ]
  },
  {
   "cell_type": "code",
   "execution_count": 48,
   "id": "d9143c31",
   "metadata": {},
   "outputs": [],
   "source": [
    "# Shopping based on product category\n",
    "cat_shopping=sales.groupby('Category').count()['Invoice ID']"
   ]
  },
  {
   "cell_type": "code",
   "execution_count": 49,
   "id": "9a6074f9",
   "metadata": {},
   "outputs": [
    {
     "data": {
      "text/plain": [
       "<AxesSubplot:ylabel='Invoice ID'>"
      ]
     },
     "execution_count": 49,
     "metadata": {},
     "output_type": "execute_result"
    },
    {
     "data": {
      "image/png": "[encoded data removed]",
      "text/plain": [
       "<Figure size 432x288 with 1 Axes>"
      ]
     },
     "metadata": {},
     "output_type": "display_data"
    }
   ],
   "source": [
    "cat_shopping.plot(kind=\"pie\",autopct=\"%1.1f%%\")"
   ]
  },
  {
   "cell_type": "code",
   "execution_count": 50,
   "id": "03c0f48c",
   "metadata": {},
   "outputs": [
    {
     "data": {
      "text/plain": [
       "<AxesSubplot:xlabel='Category'>"
      ]
     },
     "execution_count": 50,
     "metadata": {},
     "output_type": "execute_result"
    },
    {
     "data": {
      "image/png": "[encoded data removed]",
      "text/plain": [
       "<Figure size 720x432 with 1 Axes>"
      ]
     },
     "metadata": {
      "needs_background": "light"
     },
     "output_type": "display_data"
    }
   ],
   "source": [
    "# Favorite Category among Genders\n",
    "temp_var=sales.groupby(['Gender','Category']).count()['Invoice ID']\n",
    "temp_var.unstack(level=0).plot(kind='bar',figsize=(10,6))"
   ]
  },
  {
   "cell_type": "code",
   "execution_count": 66,
   "id": "369a6dcc",
   "metadata": {},
   "outputs": [],
   "source": [
    "# ax=temp_var.plot(kind='bar',figsize=(10,8))\n",
    "# for p in ax.patches:\n",
    "#      ax.annotate(str(p.get_height()), (p.get_x(),p.get_height()*1.003))"
   ]
  },
  {
   "cell_type": "code",
   "execution_count": 67,
   "id": "ffc0e7b2",
   "metadata": {},
   "outputs": [],
   "source": [
    "# Month on which high number of sale  occur\n",
    "\n",
    "sales['Month']=pd.to_datetime(sales['Date']).dt.month\n"
   ]
  },
  {
   "cell_type": "code",
   "execution_count": 149,
   "id": "9e2fda21",
   "metadata": {},
   "outputs": [
    {
     "data": {
      "text/html": [
       "<div>\n",
       "<style scoped>\n",
       "    .dataframe tbody tr th:only-of-type {\n",
       "        vertical-align: middle;\n",
       "    }\n",
       "\n",
       "    .dataframe tbody tr th {\n",
       "        vertical-align: top;\n",
       "    }\n",
       "\n",
       "    .dataframe thead th {\n",
       "        text-align: right;\n",
       "    }\n",
       "</style>\n",
       "<table border=\"1\" class=\"dataframe\">\n",
       "  <thead>\n",
       "    <tr style=\"text-align: right;\">\n",
       "      <th></th>\n",
       "      <th>Invoice ID</th>\n",
       "      <th>Date</th>\n",
       "      <th>Time</th>\n",
       "      <th>Gender</th>\n",
       "      <th>Location</th>\n",
       "      <th>City</th>\n",
       "      <th>Member</th>\n",
       "      <th>Category</th>\n",
       "      <th>Price</th>\n",
       "      <th>Quantity</th>\n",
       "      <th>Total</th>\n",
       "      <th>Payment</th>\n",
       "      <th>Rating</th>\n",
       "      <th>Day</th>\n",
       "      <th>Month</th>\n",
       "    </tr>\n",
       "  </thead>\n",
       "  <tbody>\n",
       "    <tr>\n",
       "      <th>0</th>\n",
       "      <td>460489604</td>\n",
       "      <td>1/25/2018</td>\n",
       "      <td>16:46</td>\n",
       "      <td>Male</td>\n",
       "      <td>Brookfield</td>\n",
       "      <td>NewYork</td>\n",
       "      <td>Yes</td>\n",
       "      <td>Groceries</td>\n",
       "      <td>30</td>\n",
       "      <td>1</td>\n",
       "      <td>30</td>\n",
       "      <td>Cash</td>\n",
       "      <td>2</td>\n",
       "      <td>25</td>\n",
       "      <td>1</td>\n",
       "    </tr>\n",
       "    <tr>\n",
       "      <th>1</th>\n",
       "      <td>471006167</td>\n",
       "      <td>3/19/2018</td>\n",
       "      <td>16:48</td>\n",
       "      <td>Female</td>\n",
       "      <td>Water tower</td>\n",
       "      <td>Chicago</td>\n",
       "      <td>Yes</td>\n",
       "      <td>Fashion</td>\n",
       "      <td>35</td>\n",
       "      <td>5</td>\n",
       "      <td>175</td>\n",
       "      <td>Card</td>\n",
       "      <td>3</td>\n",
       "      <td>19</td>\n",
       "      <td>3</td>\n",
       "    </tr>\n",
       "    <tr>\n",
       "      <th>2</th>\n",
       "      <td>411909258</td>\n",
       "      <td>2/25/2018</td>\n",
       "      <td>13:33</td>\n",
       "      <td>Male</td>\n",
       "      <td>Water tower</td>\n",
       "      <td>Chicago</td>\n",
       "      <td>No</td>\n",
       "      <td>Clothing</td>\n",
       "      <td>57</td>\n",
       "      <td>2</td>\n",
       "      <td>114</td>\n",
       "      <td>Cash</td>\n",
       "      <td>5</td>\n",
       "      <td>25</td>\n",
       "      <td>2</td>\n",
       "    </tr>\n",
       "    <tr>\n",
       "      <th>3</th>\n",
       "      <td>487313402</td>\n",
       "      <td>1/22/2018</td>\n",
       "      <td>13:38</td>\n",
       "      <td>Female</td>\n",
       "      <td>Park lane</td>\n",
       "      <td>Dallas</td>\n",
       "      <td>Yes</td>\n",
       "      <td>Sporting</td>\n",
       "      <td>89</td>\n",
       "      <td>4</td>\n",
       "      <td>356</td>\n",
       "      <td>Gpay</td>\n",
       "      <td>1</td>\n",
       "      <td>22</td>\n",
       "      <td>1</td>\n",
       "    </tr>\n",
       "    <tr>\n",
       "      <th>4</th>\n",
       "      <td>197763430</td>\n",
       "      <td>2/18/2018</td>\n",
       "      <td>15:31</td>\n",
       "      <td>Female</td>\n",
       "      <td>Park lane</td>\n",
       "      <td>Dallas</td>\n",
       "      <td>No</td>\n",
       "      <td>Books</td>\n",
       "      <td>82</td>\n",
       "      <td>5</td>\n",
       "      <td>410</td>\n",
       "      <td>Cash</td>\n",
       "      <td>4</td>\n",
       "      <td>18</td>\n",
       "      <td>2</td>\n",
       "    </tr>\n",
       "    <tr>\n",
       "      <th>...</th>\n",
       "      <td>...</td>\n",
       "      <td>...</td>\n",
       "      <td>...</td>\n",
       "      <td>...</td>\n",
       "      <td>...</td>\n",
       "      <td>...</td>\n",
       "      <td>...</td>\n",
       "      <td>...</td>\n",
       "      <td>...</td>\n",
       "      <td>...</td>\n",
       "      <td>...</td>\n",
       "      <td>...</td>\n",
       "      <td>...</td>\n",
       "      <td>...</td>\n",
       "      <td>...</td>\n",
       "    </tr>\n",
       "    <tr>\n",
       "      <th>995</th>\n",
       "      <td>818829599</td>\n",
       "      <td>3/26/2018</td>\n",
       "      <td>11:19</td>\n",
       "      <td>Male</td>\n",
       "      <td>Park lane</td>\n",
       "      <td>Dallas</td>\n",
       "      <td>No</td>\n",
       "      <td>Groceries</td>\n",
       "      <td>31</td>\n",
       "      <td>4</td>\n",
       "      <td>124</td>\n",
       "      <td>Card</td>\n",
       "      <td>3</td>\n",
       "      <td>26</td>\n",
       "      <td>3</td>\n",
       "    </tr>\n",
       "    <tr>\n",
       "      <th>996</th>\n",
       "      <td>556589713</td>\n",
       "      <td>2/20/2018</td>\n",
       "      <td>17:17</td>\n",
       "      <td>Male</td>\n",
       "      <td>Water tower</td>\n",
       "      <td>Chicago</td>\n",
       "      <td>Yes</td>\n",
       "      <td>Groceries</td>\n",
       "      <td>3</td>\n",
       "      <td>5</td>\n",
       "      <td>15</td>\n",
       "      <td>Gpay</td>\n",
       "      <td>3</td>\n",
       "      <td>20</td>\n",
       "      <td>2</td>\n",
       "    </tr>\n",
       "    <tr>\n",
       "      <th>997</th>\n",
       "      <td>82324424</td>\n",
       "      <td>2/6/2018</td>\n",
       "      <td>11:44</td>\n",
       "      <td>Male</td>\n",
       "      <td>Brookfield</td>\n",
       "      <td>NewYork</td>\n",
       "      <td>No</td>\n",
       "      <td>Clothing</td>\n",
       "      <td>71</td>\n",
       "      <td>5</td>\n",
       "      <td>355</td>\n",
       "      <td>Card</td>\n",
       "      <td>3</td>\n",
       "      <td>6</td>\n",
       "      <td>2</td>\n",
       "    </tr>\n",
       "    <tr>\n",
       "      <th>998</th>\n",
       "      <td>783661702</td>\n",
       "      <td>1/29/2018</td>\n",
       "      <td>15:44</td>\n",
       "      <td>Female</td>\n",
       "      <td>Brookfield</td>\n",
       "      <td>NewYork</td>\n",
       "      <td>No</td>\n",
       "      <td>Clothing</td>\n",
       "      <td>89</td>\n",
       "      <td>7</td>\n",
       "      <td>623</td>\n",
       "      <td>Cash</td>\n",
       "      <td>5</td>\n",
       "      <td>29</td>\n",
       "      <td>1</td>\n",
       "    </tr>\n",
       "    <tr>\n",
       "      <th>999</th>\n",
       "      <td>759171975</td>\n",
       "      <td>1/31/2018</td>\n",
       "      <td>10:13</td>\n",
       "      <td>Female</td>\n",
       "      <td>Water tower</td>\n",
       "      <td>Chicago</td>\n",
       "      <td>Yes</td>\n",
       "      <td>Clothing</td>\n",
       "      <td>31</td>\n",
       "      <td>7</td>\n",
       "      <td>217</td>\n",
       "      <td>Gpay</td>\n",
       "      <td>3</td>\n",
       "      <td>31</td>\n",
       "      <td>1</td>\n",
       "    </tr>\n",
       "  </tbody>\n",
       "</table>\n",
       "<p>1000 rows × 15 columns</p>\n",
       "</div>"
      ],
      "text/plain": [
       "     Invoice ID       Date   Time  Gender     Location     City Member  \\\n",
       "0     460489604  1/25/2018  16:46    Male   Brookfield  NewYork    Yes   \n",
       "1     471006167  3/19/2018  16:48  Female  Water tower  Chicago    Yes   \n",
       "2     411909258  2/25/2018  13:33    Male  Water tower  Chicago     No   \n",
       "3     487313402  1/22/2018  13:38  Female    Park lane   Dallas    Yes   \n",
       "4     197763430  2/18/2018  15:31  Female    Park lane   Dallas     No   \n",
       "..          ...        ...    ...     ...          ...      ...    ...   \n",
       "995   818829599  3/26/2018  11:19    Male    Park lane   Dallas     No   \n",
       "996   556589713  2/20/2018  17:17    Male  Water tower  Chicago    Yes   \n",
       "997    82324424   2/6/2018  11:44    Male   Brookfield  NewYork     No   \n",
       "998   783661702  1/29/2018  15:44  Female   Brookfield  NewYork     No   \n",
       "999   759171975  1/31/2018  10:13  Female  Water tower  Chicago    Yes   \n",
       "\n",
       "      Category  Price  Quantity  Total Payment  Rating  Day  Month  \n",
       "0    Groceries     30         1     30    Cash       2   25      1  \n",
       "1      Fashion     35         5    175    Card       3   19      3  \n",
       "2     Clothing     57         2    114    Cash       5   25      2  \n",
       "3     Sporting     89         4    356    Gpay       1   22      1  \n",
       "4        Books     82         5    410    Cash       4   18      2  \n",
       "..         ...    ...       ...    ...     ...     ...  ...    ...  \n",
       "995  Groceries     31         4    124    Card       3   26      3  \n",
       "996  Groceries      3         5     15    Gpay       3   20      2  \n",
       "997   Clothing     71         5    355    Card       3    6      2  \n",
       "998   Clothing     89         7    623    Cash       5   29      1  \n",
       "999   Clothing     31         7    217    Gpay       3   31      1  \n",
       "\n",
       "[1000 rows x 15 columns]"
      ]
     },
     "execution_count": 149,
     "metadata": {},
     "output_type": "execute_result"
    }
   ],
   "source": [
    "sales"
   ]
  },
  {
   "cell_type": "code",
   "execution_count": 152,
   "id": "cac8654e",
   "metadata": {},
   "outputs": [],
   "source": [
    "sale_month=sales.groupby('Month')['Total'].sum()\n"
   ]
  },
  {
   "cell_type": "code",
   "execution_count": 155,
   "id": "e51a04dd",
   "metadata": {},
   "outputs": [
    {
     "data": {
      "text/plain": [
       "pandas.core.series.Series"
      ]
     },
     "execution_count": 155,
     "metadata": {},
     "output_type": "execute_result"
    },
    {
     "data": {
      "image/png": "[encoded data removed]",
      "text/plain": [
       "<Figure size 432x288 with 1 Axes>"
      ]
     },
     "metadata": {
      "needs_background": "light"
     },
     "output_type": "display_data"
    }
   ],
   "source": [
    "sale_month.plot(kind='barh')\n",
    "type(sale_month)"
   ]
  },
  {
   "cell_type": "code",
   "execution_count": null,
   "id": "c1e9e2a5",
   "metadata": {},
   "outputs": [],
   "source": []
  }
 ],
 "metadata": {
  "kernelspec": {
   "display_name": "Python 3",
   "language": "python",
   "name": "python3"
  },
  "language_info": {
   "codemirror_mode": {
    "name": "ipython",
    "version": 3
   },
   "file_extension": ".py",
   "mimetype": "text/x-python",
   "name": "python",
   "nbconvert_exporter": "python",
   "pygments_lexer": "ipython3",
   "version": "3.8.8"
  }
 },
 "nbformat": 4,
 "nbformat_minor": 5
}
