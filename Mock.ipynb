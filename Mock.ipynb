{
 "cells": [
  {
   "cell_type": "code",
   "execution_count": 165,
   "id": "e5d6a10a",
   "metadata": {},
   "outputs": [],
   "source": [
    "import pandas as pd\n",
    "import seaborn as sb\n",
    "import numpy as np\n",
    "movies=pd.read_csv('Movie_collection.csv')"
   ]
  },
  {
   "cell_type": "code",
   "execution_count": 166,
   "id": "e1a4a905",
   "metadata": {},
   "outputs": [
    {
     "data": {
      "text/html": [
       "<div>\n",
       "<style scoped>\n",
       "    .dataframe tbody tr th:only-of-type {\n",
       "        vertical-align: middle;\n",
       "    }\n",
       "\n",
       "    .dataframe tbody tr th {\n",
       "        vertical-align: top;\n",
       "    }\n",
       "\n",
       "    .dataframe thead th {\n",
       "        text-align: right;\n",
       "    }\n",
       "</style>\n",
       "<table border=\"1\" class=\"dataframe\">\n",
       "  <thead>\n",
       "    <tr style=\"text-align: right;\">\n",
       "      <th></th>\n",
       "      <th>Collection</th>\n",
       "      <th>Marketing expense</th>\n",
       "      <th>Production expense</th>\n",
       "      <th>Multiplex coverage</th>\n",
       "      <th>Budget</th>\n",
       "      <th>Movie_length</th>\n",
       "      <th>Lead_ Actor_Rating</th>\n",
       "      <th>Lead_Actress_rating</th>\n",
       "      <th>Director_rating</th>\n",
       "      <th>Producer_rating</th>\n",
       "      <th>Critic_rating</th>\n",
       "      <th>Trailer_views</th>\n",
       "      <th>3D_available</th>\n",
       "      <th>Time_taken</th>\n",
       "      <th>Twitter_hastags</th>\n",
       "      <th>Genre</th>\n",
       "      <th>Avg_age_actors</th>\n",
       "      <th>MPAA_film_rating</th>\n",
       "      <th>Num_multiplex</th>\n",
       "      <th>Start_Tech_Oscar</th>\n",
       "    </tr>\n",
       "  </thead>\n",
       "  <tbody>\n",
       "    <tr>\n",
       "      <th>0</th>\n",
       "      <td>48000</td>\n",
       "      <td>20.1264</td>\n",
       "      <td>59.62</td>\n",
       "      <td>0.462</td>\n",
       "      <td>36524.125</td>\n",
       "      <td>138.7</td>\n",
       "      <td>7.825</td>\n",
       "      <td>8.095</td>\n",
       "      <td>7.910</td>\n",
       "      <td>7.995</td>\n",
       "      <td>7.94</td>\n",
       "      <td>527367</td>\n",
       "      <td>YES</td>\n",
       "      <td>109.60</td>\n",
       "      <td>223.840</td>\n",
       "      <td>Thriller</td>\n",
       "      <td>23</td>\n",
       "      <td>PG</td>\n",
       "      <td>494</td>\n",
       "      <td>0</td>\n",
       "    </tr>\n",
       "    <tr>\n",
       "      <th>1</th>\n",
       "      <td>43200</td>\n",
       "      <td>20.5462</td>\n",
       "      <td>69.14</td>\n",
       "      <td>0.531</td>\n",
       "      <td>35668.655</td>\n",
       "      <td>152.4</td>\n",
       "      <td>7.505</td>\n",
       "      <td>7.650</td>\n",
       "      <td>7.440</td>\n",
       "      <td>7.470</td>\n",
       "      <td>7.44</td>\n",
       "      <td>494055</td>\n",
       "      <td>NO</td>\n",
       "      <td>146.64</td>\n",
       "      <td>243.456</td>\n",
       "      <td>Drama</td>\n",
       "      <td>42</td>\n",
       "      <td>PG</td>\n",
       "      <td>462</td>\n",
       "      <td>1</td>\n",
       "    </tr>\n",
       "    <tr>\n",
       "      <th>2</th>\n",
       "      <td>69400</td>\n",
       "      <td>20.5458</td>\n",
       "      <td>69.14</td>\n",
       "      <td>0.531</td>\n",
       "      <td>39912.675</td>\n",
       "      <td>134.6</td>\n",
       "      <td>7.485</td>\n",
       "      <td>7.570</td>\n",
       "      <td>7.495</td>\n",
       "      <td>7.515</td>\n",
       "      <td>7.44</td>\n",
       "      <td>547051</td>\n",
       "      <td>NO</td>\n",
       "      <td>147.88</td>\n",
       "      <td>2022.400</td>\n",
       "      <td>Comedy</td>\n",
       "      <td>38</td>\n",
       "      <td>PG</td>\n",
       "      <td>458</td>\n",
       "      <td>0</td>\n",
       "    </tr>\n",
       "    <tr>\n",
       "      <th>3</th>\n",
       "      <td>66800</td>\n",
       "      <td>20.6474</td>\n",
       "      <td>59.36</td>\n",
       "      <td>0.542</td>\n",
       "      <td>38873.890</td>\n",
       "      <td>119.3</td>\n",
       "      <td>6.895</td>\n",
       "      <td>7.035</td>\n",
       "      <td>6.920</td>\n",
       "      <td>7.020</td>\n",
       "      <td>8.26</td>\n",
       "      <td>516279</td>\n",
       "      <td>YES</td>\n",
       "      <td>185.36</td>\n",
       "      <td>225.344</td>\n",
       "      <td>Drama</td>\n",
       "      <td>45</td>\n",
       "      <td>PG</td>\n",
       "      <td>472</td>\n",
       "      <td>0</td>\n",
       "    </tr>\n",
       "    <tr>\n",
       "      <th>4</th>\n",
       "      <td>72400</td>\n",
       "      <td>21.3810</td>\n",
       "      <td>59.36</td>\n",
       "      <td>0.542</td>\n",
       "      <td>39701.585</td>\n",
       "      <td>127.7</td>\n",
       "      <td>6.920</td>\n",
       "      <td>7.070</td>\n",
       "      <td>6.815</td>\n",
       "      <td>7.070</td>\n",
       "      <td>8.26</td>\n",
       "      <td>531448</td>\n",
       "      <td>NO</td>\n",
       "      <td>176.48</td>\n",
       "      <td>225.792</td>\n",
       "      <td>Drama</td>\n",
       "      <td>55</td>\n",
       "      <td>PG</td>\n",
       "      <td>395</td>\n",
       "      <td>0</td>\n",
       "    </tr>\n",
       "  </tbody>\n",
       "</table>\n",
       "</div>"
      ],
      "text/plain": [
       "   Collection  Marketing expense  Production expense  Multiplex coverage  \\\n",
       "0       48000            20.1264               59.62               0.462   \n",
       "1       43200            20.5462               69.14               0.531   \n",
       "2       69400            20.5458               69.14               0.531   \n",
       "3       66800            20.6474               59.36               0.542   \n",
       "4       72400            21.3810               59.36               0.542   \n",
       "\n",
       "      Budget  Movie_length  Lead_ Actor_Rating  Lead_Actress_rating  \\\n",
       "0  36524.125         138.7               7.825                8.095   \n",
       "1  35668.655         152.4               7.505                7.650   \n",
       "2  39912.675         134.6               7.485                7.570   \n",
       "3  38873.890         119.3               6.895                7.035   \n",
       "4  39701.585         127.7               6.920                7.070   \n",
       "\n",
       "   Director_rating  Producer_rating  Critic_rating  Trailer_views  \\\n",
       "0            7.910            7.995           7.94         527367   \n",
       "1            7.440            7.470           7.44         494055   \n",
       "2            7.495            7.515           7.44         547051   \n",
       "3            6.920            7.020           8.26         516279   \n",
       "4            6.815            7.070           8.26         531448   \n",
       "\n",
       "  3D_available  Time_taken  Twitter_hastags     Genre  Avg_age_actors  \\\n",
       "0          YES      109.60          223.840  Thriller              23   \n",
       "1           NO      146.64          243.456     Drama              42   \n",
       "2           NO      147.88         2022.400    Comedy              38   \n",
       "3          YES      185.36          225.344     Drama              45   \n",
       "4           NO      176.48          225.792     Drama              55   \n",
       "\n",
       "  MPAA_film_rating  Num_multiplex  Start_Tech_Oscar  \n",
       "0               PG            494                 0  \n",
       "1               PG            462                 1  \n",
       "2               PG            458                 0  \n",
       "3               PG            472                 0  \n",
       "4               PG            395                 0  "
      ]
     },
     "execution_count": 166,
     "metadata": {},
     "output_type": "execute_result"
    }
   ],
   "source": [
    "movies.head()"
   ]
  },
  {
   "cell_type": "code",
   "execution_count": 167,
   "id": "b05fb173",
   "metadata": {},
   "outputs": [
    {
     "data": {
      "text/html": [
       "<div>\n",
       "<style scoped>\n",
       "    .dataframe tbody tr th:only-of-type {\n",
       "        vertical-align: middle;\n",
       "    }\n",
       "\n",
       "    .dataframe tbody tr th {\n",
       "        vertical-align: top;\n",
       "    }\n",
       "\n",
       "    .dataframe thead th {\n",
       "        text-align: right;\n",
       "    }\n",
       "</style>\n",
       "<table border=\"1\" class=\"dataframe\">\n",
       "  <thead>\n",
       "    <tr style=\"text-align: right;\">\n",
       "      <th></th>\n",
       "      <th>Collection</th>\n",
       "      <th>Marketing expense</th>\n",
       "      <th>Production expense</th>\n",
       "      <th>Multiplex coverage</th>\n",
       "      <th>Budget</th>\n",
       "      <th>Movie_length</th>\n",
       "      <th>Lead_ Actor_Rating</th>\n",
       "      <th>Lead_Actress_rating</th>\n",
       "      <th>Director_rating</th>\n",
       "      <th>Producer_rating</th>\n",
       "      <th>Critic_rating</th>\n",
       "      <th>Trailer_views</th>\n",
       "      <th>Time_taken</th>\n",
       "      <th>Twitter_hastags</th>\n",
       "      <th>Avg_age_actors</th>\n",
       "      <th>Num_multiplex</th>\n",
       "      <th>Start_Tech_Oscar</th>\n",
       "    </tr>\n",
       "  </thead>\n",
       "  <tbody>\n",
       "    <tr>\n",
       "      <th>count</th>\n",
       "      <td>506.000000</td>\n",
       "      <td>506.000000</td>\n",
       "      <td>506.000000</td>\n",
       "      <td>506.000000</td>\n",
       "      <td>506.000000</td>\n",
       "      <td>506.000000</td>\n",
       "      <td>506.000000</td>\n",
       "      <td>506.000000</td>\n",
       "      <td>506.000000</td>\n",
       "      <td>506.000000</td>\n",
       "      <td>506.000000</td>\n",
       "      <td>506.000000</td>\n",
       "      <td>494.000000</td>\n",
       "      <td>506.000000</td>\n",
       "      <td>506.000000</td>\n",
       "      <td>506.000000</td>\n",
       "      <td>506.000000</td>\n",
       "    </tr>\n",
       "    <tr>\n",
       "      <th>mean</th>\n",
       "      <td>45057.707510</td>\n",
       "      <td>92.270471</td>\n",
       "      <td>77.273557</td>\n",
       "      <td>0.445305</td>\n",
       "      <td>34911.144022</td>\n",
       "      <td>142.074901</td>\n",
       "      <td>8.014002</td>\n",
       "      <td>8.185613</td>\n",
       "      <td>8.019664</td>\n",
       "      <td>8.190514</td>\n",
       "      <td>7.810870</td>\n",
       "      <td>449860.715415</td>\n",
       "      <td>157.391498</td>\n",
       "      <td>260.832095</td>\n",
       "      <td>39.181818</td>\n",
       "      <td>545.043478</td>\n",
       "      <td>0.454545</td>\n",
       "    </tr>\n",
       "    <tr>\n",
       "      <th>std</th>\n",
       "      <td>18364.351764</td>\n",
       "      <td>172.030902</td>\n",
       "      <td>13.720706</td>\n",
       "      <td>0.115878</td>\n",
       "      <td>3903.038232</td>\n",
       "      <td>28.148861</td>\n",
       "      <td>1.054266</td>\n",
       "      <td>1.054290</td>\n",
       "      <td>1.059899</td>\n",
       "      <td>1.049601</td>\n",
       "      <td>0.659699</td>\n",
       "      <td>68917.763145</td>\n",
       "      <td>31.295161</td>\n",
       "      <td>104.779133</td>\n",
       "      <td>12.513697</td>\n",
       "      <td>106.332889</td>\n",
       "      <td>0.498422</td>\n",
       "    </tr>\n",
       "    <tr>\n",
       "      <th>min</th>\n",
       "      <td>10000.000000</td>\n",
       "      <td>20.126400</td>\n",
       "      <td>55.920000</td>\n",
       "      <td>0.129000</td>\n",
       "      <td>19781.355000</td>\n",
       "      <td>76.400000</td>\n",
       "      <td>3.840000</td>\n",
       "      <td>4.035000</td>\n",
       "      <td>3.840000</td>\n",
       "      <td>4.030000</td>\n",
       "      <td>6.600000</td>\n",
       "      <td>212912.000000</td>\n",
       "      <td>0.000000</td>\n",
       "      <td>201.152000</td>\n",
       "      <td>3.000000</td>\n",
       "      <td>333.000000</td>\n",
       "      <td>0.000000</td>\n",
       "    </tr>\n",
       "    <tr>\n",
       "      <th>25%</th>\n",
       "      <td>34050.000000</td>\n",
       "      <td>21.640900</td>\n",
       "      <td>65.380000</td>\n",
       "      <td>0.376000</td>\n",
       "      <td>32693.952500</td>\n",
       "      <td>118.525000</td>\n",
       "      <td>7.316250</td>\n",
       "      <td>7.503750</td>\n",
       "      <td>7.296250</td>\n",
       "      <td>7.507500</td>\n",
       "      <td>7.200000</td>\n",
       "      <td>409128.000000</td>\n",
       "      <td>132.300000</td>\n",
       "      <td>223.796000</td>\n",
       "      <td>28.000000</td>\n",
       "      <td>465.000000</td>\n",
       "      <td>0.000000</td>\n",
       "    </tr>\n",
       "    <tr>\n",
       "      <th>50%</th>\n",
       "      <td>42400.000000</td>\n",
       "      <td>25.130200</td>\n",
       "      <td>74.380000</td>\n",
       "      <td>0.462000</td>\n",
       "      <td>34488.217500</td>\n",
       "      <td>151.000000</td>\n",
       "      <td>8.307500</td>\n",
       "      <td>8.495000</td>\n",
       "      <td>8.312500</td>\n",
       "      <td>8.465000</td>\n",
       "      <td>7.960000</td>\n",
       "      <td>462460.000000</td>\n",
       "      <td>160.000000</td>\n",
       "      <td>254.400000</td>\n",
       "      <td>39.000000</td>\n",
       "      <td>535.500000</td>\n",
       "      <td>0.000000</td>\n",
       "    </tr>\n",
       "    <tr>\n",
       "      <th>75%</th>\n",
       "      <td>50000.000000</td>\n",
       "      <td>93.541650</td>\n",
       "      <td>91.200000</td>\n",
       "      <td>0.551000</td>\n",
       "      <td>36793.542500</td>\n",
       "      <td>167.575000</td>\n",
       "      <td>8.865000</td>\n",
       "      <td>9.030000</td>\n",
       "      <td>8.883750</td>\n",
       "      <td>9.030000</td>\n",
       "      <td>8.260000</td>\n",
       "      <td>500247.500000</td>\n",
       "      <td>181.890000</td>\n",
       "      <td>283.416000</td>\n",
       "      <td>50.000000</td>\n",
       "      <td>614.750000</td>\n",
       "      <td>1.000000</td>\n",
       "    </tr>\n",
       "    <tr>\n",
       "      <th>max</th>\n",
       "      <td>100000.000000</td>\n",
       "      <td>1799.524000</td>\n",
       "      <td>110.480000</td>\n",
       "      <td>0.615000</td>\n",
       "      <td>48772.900000</td>\n",
       "      <td>173.500000</td>\n",
       "      <td>9.435000</td>\n",
       "      <td>9.540000</td>\n",
       "      <td>9.425000</td>\n",
       "      <td>9.635000</td>\n",
       "      <td>9.400000</td>\n",
       "      <td>567784.000000</td>\n",
       "      <td>217.520000</td>\n",
       "      <td>2022.400000</td>\n",
       "      <td>60.000000</td>\n",
       "      <td>868.000000</td>\n",
       "      <td>1.000000</td>\n",
       "    </tr>\n",
       "  </tbody>\n",
       "</table>\n",
       "</div>"
      ],
      "text/plain": [
       "          Collection  Marketing expense  Production expense  \\\n",
       "count     506.000000         506.000000          506.000000   \n",
       "mean    45057.707510          92.270471           77.273557   \n",
       "std     18364.351764         172.030902           13.720706   \n",
       "min     10000.000000          20.126400           55.920000   \n",
       "25%     34050.000000          21.640900           65.380000   \n",
       "50%     42400.000000          25.130200           74.380000   \n",
       "75%     50000.000000          93.541650           91.200000   \n",
       "max    100000.000000        1799.524000          110.480000   \n",
       "\n",
       "       Multiplex coverage        Budget  Movie_length  Lead_ Actor_Rating  \\\n",
       "count          506.000000    506.000000    506.000000          506.000000   \n",
       "mean             0.445305  34911.144022    142.074901            8.014002   \n",
       "std              0.115878   3903.038232     28.148861            1.054266   \n",
       "min              0.129000  19781.355000     76.400000            3.840000   \n",
       "25%              0.376000  32693.952500    118.525000            7.316250   \n",
       "50%              0.462000  34488.217500    151.000000            8.307500   \n",
       "75%              0.551000  36793.542500    167.575000            8.865000   \n",
       "max              0.615000  48772.900000    173.500000            9.435000   \n",
       "\n",
       "       Lead_Actress_rating  Director_rating  Producer_rating  Critic_rating  \\\n",
       "count           506.000000       506.000000       506.000000     506.000000   \n",
       "mean              8.185613         8.019664         8.190514       7.810870   \n",
       "std               1.054290         1.059899         1.049601       0.659699   \n",
       "min               4.035000         3.840000         4.030000       6.600000   \n",
       "25%               7.503750         7.296250         7.507500       7.200000   \n",
       "50%               8.495000         8.312500         8.465000       7.960000   \n",
       "75%               9.030000         8.883750         9.030000       8.260000   \n",
       "max               9.540000         9.425000         9.635000       9.400000   \n",
       "\n",
       "       Trailer_views  Time_taken  Twitter_hastags  Avg_age_actors  \\\n",
       "count     506.000000  494.000000       506.000000      506.000000   \n",
       "mean   449860.715415  157.391498       260.832095       39.181818   \n",
       "std     68917.763145   31.295161       104.779133       12.513697   \n",
       "min    212912.000000    0.000000       201.152000        3.000000   \n",
       "25%    409128.000000  132.300000       223.796000       28.000000   \n",
       "50%    462460.000000  160.000000       254.400000       39.000000   \n",
       "75%    500247.500000  181.890000       283.416000       50.000000   \n",
       "max    567784.000000  217.520000      2022.400000       60.000000   \n",
       "\n",
       "       Num_multiplex  Start_Tech_Oscar  \n",
       "count     506.000000        506.000000  \n",
       "mean      545.043478          0.454545  \n",
       "std       106.332889          0.498422  \n",
       "min       333.000000          0.000000  \n",
       "25%       465.000000          0.000000  \n",
       "50%       535.500000          0.000000  \n",
       "75%       614.750000          1.000000  \n",
       "max       868.000000          1.000000  "
      ]
     },
     "execution_count": 167,
     "metadata": {},
     "output_type": "execute_result"
    }
   ],
   "source": [
    "movies.describe()"
   ]
  },
  {
   "cell_type": "code",
   "execution_count": 168,
   "id": "57acda89",
   "metadata": {},
   "outputs": [
    {
     "data": {
      "text/plain": [
       "(506, 20)"
      ]
     },
     "execution_count": 168,
     "metadata": {},
     "output_type": "execute_result"
    }
   ],
   "source": [
    "movies.shape"
   ]
  },
  {
   "cell_type": "code",
   "execution_count": 169,
   "id": "a7fa71a8",
   "metadata": {},
   "outputs": [
    {
     "data": {
      "text/plain": [
       "<AxesSubplot:xlabel='Collection'>"
      ]
     },
     "execution_count": 169,
     "metadata": {},
     "output_type": "execute_result"
    },
    {
     "data": {
      "image/png": "[encoded data removed]",
      "text/plain": [
       "<Figure size 432x288 with 1 Axes>"
      ]
     },
     "metadata": {
      "needs_background": "light"
     },
     "output_type": "display_data"
    }
   ],
   "source": [
    "sb.boxplot(x='Collection',data=movies)"
   ]
  },
  {
   "cell_type": "markdown",
   "id": "13e183cf",
   "metadata": {},
   "source": [
    "Outlier Detection and removal using IQR method\n",
    "collection_q1=movies['Collection'].quantile(0.25)\n",
    "collection_q3=movies['Collection'].quantile(0.75)\n",
    "collection_IQR=collection_q3-collection_q1\n",
    "collection_upper=collection_q3+1.5*collection_IQR\n",
    "collection_lower=collection_q1-1.5*collection_IQR\n",
    "collection_lower\n",
    "movies=movies[~((movies['Collection']<collection_lower) | (movies['Collection']>collection_upper))]"
   ]
  },
  {
   "cell_type": "code",
   "execution_count": 170,
   "id": "1a10fc44",
   "metadata": {},
   "outputs": [],
   "source": [
    "upper=np.percentile(movies.Collection,[90][0])\n",
    "lower=np.percentile(movies.Collection,[1][0])"
   ]
  },
  {
   "cell_type": "code",
   "execution_count": 171,
   "id": "f3197617",
   "metadata": {},
   "outputs": [
    {
     "name": "stderr",
     "output_type": "stream",
     "text": [
      "<ipython-input-171-5159fb2845f8>:1: SettingWithCopyWarning: \n",
      "A value is trying to be set on a copy of a slice from a DataFrame\n",
      "\n",
      "See the caveats in the documentation: https://pandas.pydata.org/pandas-docs/stable/user_guide/indexing.html#returning-a-view-versus-a-copy\n",
      "  movies.Collection[movies.Collection<lower]=lower\n"
     ]
    }
   ],
   "source": [
    "movies.Collection[movies.Collection<lower]=lower"
   ]
  },
  {
   "cell_type": "code",
   "execution_count": 172,
   "id": "62e88719",
   "metadata": {},
   "outputs": [],
   "source": [
    "movies.Collection[movies.Collection>upper]=upper"
   ]
  },
  {
   "cell_type": "markdown",
   "id": "9aebf9b9",
   "metadata": {},
   "source": [
    "\"Collection\" variable outlier treated using Capping method."
   ]
  },
  {
   "cell_type": "code",
   "execution_count": 173,
   "id": "f2721d12",
   "metadata": {},
   "outputs": [
    {
     "data": {
      "text/plain": [
       "<AxesSubplot:xlabel='Collection'>"
      ]
     },
     "execution_count": 173,
     "metadata": {},
     "output_type": "execute_result"
    },
    {
     "data": {
      "image/png": "[encoded data removed]",
      "text/plain": [
       "<Figure size 432x288 with 1 Axes>"
      ]
     },
     "metadata": {
      "needs_background": "light"
     },
     "output_type": "display_data"
    }
   ],
   "source": [
    "sb.boxplot(x='Collection',data=movies)"
   ]
  },
  {
   "cell_type": "code",
   "execution_count": 174,
   "id": "5ca71173",
   "metadata": {
    "scrolled": true
   },
   "outputs": [
    {
     "data": {
      "text/plain": [
       "Collection             False\n",
       "Marketing expense      False\n",
       "Production expense     False\n",
       "Multiplex coverage     False\n",
       "Budget                 False\n",
       "Movie_length           False\n",
       "Lead_ Actor_Rating     False\n",
       "Lead_Actress_rating    False\n",
       "Director_rating        False\n",
       "Producer_rating        False\n",
       "Critic_rating          False\n",
       "Trailer_views          False\n",
       "3D_available           False\n",
       "Time_taken              True\n",
       "Twitter_hastags        False\n",
       "Genre                  False\n",
       "Avg_age_actors         False\n",
       "MPAA_film_rating       False\n",
       "Num_multiplex          False\n",
       "Start_Tech_Oscar       False\n",
       "dtype: bool"
      ]
     },
     "execution_count": 174,
     "metadata": {},
     "output_type": "execute_result"
    }
   ],
   "source": [
    "movies.isnull().any()"
   ]
  },
  {
   "cell_type": "code",
   "execution_count": 175,
   "id": "06c47b23",
   "metadata": {},
   "outputs": [],
   "source": [
    "movies.Time_taken=movies.Time_taken.fillna(movies.Time_taken.median())"
   ]
  },
  {
   "cell_type": "code",
   "execution_count": 176,
   "id": "d14d971d",
   "metadata": {},
   "outputs": [
    {
     "data": {
      "text/plain": [
       "False"
      ]
     },
     "execution_count": 176,
     "metadata": {},
     "output_type": "execute_result"
    }
   ],
   "source": [
    "movies.Time_taken.isnull().any()"
   ]
  },
  {
   "cell_type": "code",
   "execution_count": 177,
   "id": "bdb8a6a2",
   "metadata": {
    "scrolled": true
   },
   "outputs": [
    {
     "data": {
      "text/plain": [
       "<AxesSubplot:xlabel='Time_taken'>"
      ]
     },
     "execution_count": 177,
     "metadata": {},
     "output_type": "execute_result"
    },
    {
     "data": {
      "image/png": "[encoded data removed]",
      "text/plain": [
       "<Figure size 432x288 with 1 Axes>"
      ]
     },
     "metadata": {
      "needs_background": "light"
     },
     "output_type": "display_data"
    }
   ],
   "source": [
    "sb.boxplot(x=\"Time_taken\",data=movies)"
   ]
  },
  {
   "cell_type": "code",
   "execution_count": 178,
   "id": "68b15559",
   "metadata": {},
   "outputs": [
    {
     "name": "stderr",
     "output_type": "stream",
     "text": [
      "<ipython-input-178-79839d35263e>:2: SettingWithCopyWarning: \n",
      "A value is trying to be set on a copy of a slice from a DataFrame\n",
      "\n",
      "See the caveats in the documentation: https://pandas.pydata.org/pandas-docs/stable/user_guide/indexing.html#returning-a-view-versus-a-copy\n",
      "  movies.Time_taken[movies.Time_taken<lower_time]=lower_time\n"
     ]
    }
   ],
   "source": [
    "lower_time=np.percentile(movies.Time_taken,[1][0])\n",
    "movies.Time_taken[movies.Time_taken<lower_time]=lower_time"
   ]
  },
  {
   "cell_type": "code",
   "execution_count": 179,
   "id": "a44215e1",
   "metadata": {},
   "outputs": [
    {
     "data": {
      "text/plain": [
       "<AxesSubplot:xlabel='Time_taken'>"
      ]
     },
     "execution_count": 179,
     "metadata": {},
     "output_type": "execute_result"
    },
    {
     "data": {
      "image/png": "[encoded data removed]",
      "text/plain": [
       "<Figure size 432x288 with 1 Axes>"
      ]
     },
     "metadata": {
      "needs_background": "light"
     },
     "output_type": "display_data"
    }
   ],
   "source": [
    "sb.boxplot(x=\"Time_taken\",data=movies)"
   ]
  },
  {
   "cell_type": "code",
   "execution_count": 180,
   "id": "b4d7ccd5",
   "metadata": {
    "scrolled": true
   },
   "outputs": [
    {
     "data": {
      "text/plain": [
       "<AxesSubplot:xlabel='Marketing expense'>"
      ]
     },
     "execution_count": 180,
     "metadata": {},
     "output_type": "execute_result"
    },
    {
     "data": {
      "image/png": "[encoded data removed]",
      "text/plain": [
       "<Figure size 432x288 with 1 Axes>"
      ]
     },
     "metadata": {
      "needs_background": "light"
     },
     "output_type": "display_data"
    }
   ],
   "source": [
    "sb.boxplot(x='Marketing expense',data=movies)"
   ]
  },
  {
   "cell_type": "code",
   "execution_count": 181,
   "id": "89ec86e7",
   "metadata": {
    "scrolled": true
   },
   "outputs": [
    {
     "data": {
      "text/plain": [
       "count     506.000000\n",
       "mean       92.270471\n",
       "std       172.030902\n",
       "min        20.126400\n",
       "25%        21.640900\n",
       "50%        25.130200\n",
       "75%        93.541650\n",
       "max      1799.524000\n",
       "Name: Marketing expense, dtype: float64"
      ]
     },
     "execution_count": 181,
     "metadata": {},
     "output_type": "execute_result"
    }
   ],
   "source": [
    "movies['Marketing expense'].describe()"
   ]
  },
  {
   "cell_type": "code",
   "execution_count": 182,
   "id": "bd7b5872",
   "metadata": {},
   "outputs": [
    {
     "name": "stderr",
     "output_type": "stream",
     "text": [
      "<ipython-input-182-666844136c6b>:3: SettingWithCopyWarning: \n",
      "A value is trying to be set on a copy of a slice from a DataFrame\n",
      "\n",
      "See the caveats in the documentation: https://pandas.pydata.org/pandas-docs/stable/user_guide/indexing.html#returning-a-view-versus-a-copy\n",
      "  movies['Marketing expense'][movies['Marketing expense']>upper_market]=upper_market\n"
     ]
    }
   ],
   "source": [
    "\n",
    "upper_market=np.percentile(movies['Marketing expense'],[87][0])\n",
    "upper_market\n",
    "movies['Marketing expense'][movies['Marketing expense']>upper_market]=upper_market"
   ]
  },
  {
   "cell_type": "code",
   "execution_count": 183,
   "id": "e49c5879",
   "metadata": {},
   "outputs": [
    {
     "data": {
      "text/plain": [
       "<AxesSubplot:xlabel='Marketing expense'>"
      ]
     },
     "execution_count": 183,
     "metadata": {},
     "output_type": "execute_result"
    },
    {
     "data": {
      "image/png": "[encoded data removed]",
      "text/plain": [
       "<Figure size 432x288 with 1 Axes>"
      ]
     },
     "metadata": {
      "needs_background": "light"
     },
     "output_type": "display_data"
    }
   ],
   "source": [
    "sb.boxplot(x='Marketing expense',data=movies)"
   ]
  },
  {
   "cell_type": "code",
   "execution_count": 184,
   "id": "a952b4c7",
   "metadata": {},
   "outputs": [
    {
     "data": {
      "text/plain": [
       "<seaborn.axisgrid.JointGrid at 0x1f111353f10>"
      ]
     },
     "execution_count": 184,
     "metadata": {},
     "output_type": "execute_result"
    },
    {
     "data": {
      "image/png": "[encoded data removed]",
      "text/plain": [
       "<Figure size 432x432 with 3 Axes>"
      ]
     },
     "metadata": {
      "needs_background": "light"
     },
     "output_type": "display_data"
    }
   ],
   "source": [
    "sb.jointplot(x='Marketing expense',y='Production expense',data=movies)"
   ]
  },
  {
   "cell_type": "code",
   "execution_count": 185,
   "id": "c655da0d",
   "metadata": {},
   "outputs": [
    {
     "data": {
      "text/plain": [
       "<seaborn.axisgrid.JointGrid at 0x1f11127fd30>"
      ]
     },
     "execution_count": 185,
     "metadata": {},
     "output_type": "execute_result"
    },
    {
     "data": {
      "image/png": "[encoded data removed]",
      "text/plain": [
       "<Figure size 432x432 with 3 Axes>"
      ]
     },
     "metadata": {
      "needs_background": "light"
     },
     "output_type": "display_data"
    }
   ],
   "source": [
    "sb.jointplot(x=\"Production expense\",y=\"Multiplex coverage\",data=movies)"
   ]
  },
  {
   "cell_type": "markdown",
   "id": "5591a94b",
   "metadata": {},
   "source": [
    "\"Production expense\" and \"Multiplex coverage\" field has no outliers"
   ]
  },
  {
   "cell_type": "code",
   "execution_count": 186,
   "id": "f0fc68ff",
   "metadata": {
    "scrolled": true
   },
   "outputs": [
    {
     "data": {
      "text/plain": [
       "<AxesSubplot:xlabel='Budget'>"
      ]
     },
     "execution_count": 186,
     "metadata": {},
     "output_type": "execute_result"
    },
    {
     "data": {
      "image/png": "[encoded data removed]",
      "text/plain": [
       "<Figure size 432x288 with 1 Axes>"
      ]
     },
     "metadata": {
      "needs_background": "light"
     },
     "output_type": "display_data"
    }
   ],
   "source": [
    "sb.boxplot(x=\"Budget\",data=movies)"
   ]
  },
  {
   "cell_type": "code",
   "execution_count": 187,
   "id": "1e20dfe5",
   "metadata": {},
   "outputs": [
    {
     "name": "stderr",
     "output_type": "stream",
     "text": [
      "<ipython-input-187-51b2035e5a61>:3: SettingWithCopyWarning: \n",
      "A value is trying to be set on a copy of a slice from a DataFrame\n",
      "\n",
      "See the caveats in the documentation: https://pandas.pydata.org/pandas-docs/stable/user_guide/indexing.html#returning-a-view-versus-a-copy\n",
      "  movies.Budget[(movies.Budget<lower_budget)]=lower_budget\n"
     ]
    }
   ],
   "source": [
    "upper_budget=np.percentile(movies['Budget'],[95][0])\n",
    "lower_budget=np.percentile(movies.Budget,[5][0])\n",
    "movies.Budget[(movies.Budget<lower_budget)]=lower_budget"
   ]
  },
  {
   "cell_type": "code",
   "execution_count": 188,
   "id": "15834ef8",
   "metadata": {
    "scrolled": true
   },
   "outputs": [
    {
     "name": "stderr",
     "output_type": "stream",
     "text": [
      "<ipython-input-188-812ca3c425fa>:1: SettingWithCopyWarning: \n",
      "A value is trying to be set on a copy of a slice from a DataFrame\n",
      "\n",
      "See the caveats in the documentation: https://pandas.pydata.org/pandas-docs/stable/user_guide/indexing.html#returning-a-view-versus-a-copy\n",
      "  movies.Budget[(movies.Budget>upper_budget)]=upper_budget\n"
     ]
    }
   ],
   "source": [
    "movies.Budget[(movies.Budget>upper_budget)]=upper_budget"
   ]
  },
  {
   "cell_type": "code",
   "execution_count": 189,
   "id": "5a23574e",
   "metadata": {},
   "outputs": [
    {
     "data": {
      "text/plain": [
       "<AxesSubplot:xlabel='Budget'>"
      ]
     },
     "execution_count": 189,
     "metadata": {},
     "output_type": "execute_result"
    },
    {
     "data": {
      "image/png": "[encoded data removed]",
      "text/plain": [
       "<Figure size 432x288 with 1 Axes>"
      ]
     },
     "metadata": {
      "needs_background": "light"
     },
     "output_type": "display_data"
    }
   ],
   "source": [
    "sb.boxplot(x=\"Budget\",data=movies)"
   ]
  },
  {
   "cell_type": "code",
   "execution_count": 190,
   "id": "70861536",
   "metadata": {},
   "outputs": [
    {
     "data": {
      "text/html": [
       "<div>\n",
       "<style scoped>\n",
       "    .dataframe tbody tr th:only-of-type {\n",
       "        vertical-align: middle;\n",
       "    }\n",
       "\n",
       "    .dataframe tbody tr th {\n",
       "        vertical-align: top;\n",
       "    }\n",
       "\n",
       "    .dataframe thead th {\n",
       "        text-align: right;\n",
       "    }\n",
       "</style>\n",
       "<table border=\"1\" class=\"dataframe\">\n",
       "  <thead>\n",
       "    <tr style=\"text-align: right;\">\n",
       "      <th></th>\n",
       "      <th>Collection</th>\n",
       "      <th>Marketing expense</th>\n",
       "      <th>Production expense</th>\n",
       "      <th>Multiplex coverage</th>\n",
       "      <th>Budget</th>\n",
       "      <th>Movie_length</th>\n",
       "      <th>Lead_ Actor_Rating</th>\n",
       "      <th>Lead_Actress_rating</th>\n",
       "      <th>Director_rating</th>\n",
       "      <th>Producer_rating</th>\n",
       "      <th>Critic_rating</th>\n",
       "      <th>Trailer_views</th>\n",
       "      <th>Time_taken</th>\n",
       "      <th>Twitter_hastags</th>\n",
       "      <th>Avg_age_actors</th>\n",
       "      <th>Num_multiplex</th>\n",
       "      <th>Start_Tech_Oscar</th>\n",
       "    </tr>\n",
       "  </thead>\n",
       "  <tbody>\n",
       "    <tr>\n",
       "      <th>count</th>\n",
       "      <td>506.000000</td>\n",
       "      <td>506.000000</td>\n",
       "      <td>506.000000</td>\n",
       "      <td>506.000000</td>\n",
       "      <td>506.000000</td>\n",
       "      <td>506.000000</td>\n",
       "      <td>506.000000</td>\n",
       "      <td>506.000000</td>\n",
       "      <td>506.000000</td>\n",
       "      <td>506.000000</td>\n",
       "      <td>506.000000</td>\n",
       "      <td>506.000000</td>\n",
       "      <td>506.000000</td>\n",
       "      <td>506.000000</td>\n",
       "      <td>506.000000</td>\n",
       "      <td>506.000000</td>\n",
       "      <td>506.000000</td>\n",
       "    </tr>\n",
       "    <tr>\n",
       "      <th>mean</th>\n",
       "      <td>43381.462451</td>\n",
       "      <td>64.460837</td>\n",
       "      <td>77.273557</td>\n",
       "      <td>0.445305</td>\n",
       "      <td>34917.862717</td>\n",
       "      <td>142.074901</td>\n",
       "      <td>8.014002</td>\n",
       "      <td>8.185613</td>\n",
       "      <td>8.019664</td>\n",
       "      <td>8.190514</td>\n",
       "      <td>7.810870</td>\n",
       "      <td>449860.715415</td>\n",
       "      <td>157.880119</td>\n",
       "      <td>260.832095</td>\n",
       "      <td>39.181818</td>\n",
       "      <td>545.043478</td>\n",
       "      <td>0.454545</td>\n",
       "    </tr>\n",
       "    <tr>\n",
       "      <th>std</th>\n",
       "      <td>14382.844740</td>\n",
       "      <td>66.184710</td>\n",
       "      <td>13.720706</td>\n",
       "      <td>0.115878</td>\n",
       "      <td>3227.296974</td>\n",
       "      <td>28.148861</td>\n",
       "      <td>1.054266</td>\n",
       "      <td>1.054290</td>\n",
       "      <td>1.059899</td>\n",
       "      <td>1.049601</td>\n",
       "      <td>0.659699</td>\n",
       "      <td>68917.763145</td>\n",
       "      <td>29.454907</td>\n",
       "      <td>104.779133</td>\n",
       "      <td>12.513697</td>\n",
       "      <td>106.332889</td>\n",
       "      <td>0.498422</td>\n",
       "    </tr>\n",
       "    <tr>\n",
       "      <th>min</th>\n",
       "      <td>14020.000000</td>\n",
       "      <td>20.126400</td>\n",
       "      <td>55.920000</td>\n",
       "      <td>0.129000</td>\n",
       "      <td>29519.270000</td>\n",
       "      <td>76.400000</td>\n",
       "      <td>3.840000</td>\n",
       "      <td>4.035000</td>\n",
       "      <td>3.840000</td>\n",
       "      <td>4.030000</td>\n",
       "      <td>6.600000</td>\n",
       "      <td>212912.000000</td>\n",
       "      <td>106.750000</td>\n",
       "      <td>201.152000</td>\n",
       "      <td>3.000000</td>\n",
       "      <td>333.000000</td>\n",
       "      <td>0.000000</td>\n",
       "    </tr>\n",
       "    <tr>\n",
       "      <th>25%</th>\n",
       "      <td>34050.000000</td>\n",
       "      <td>21.640900</td>\n",
       "      <td>65.380000</td>\n",
       "      <td>0.376000</td>\n",
       "      <td>32693.952500</td>\n",
       "      <td>118.525000</td>\n",
       "      <td>7.316250</td>\n",
       "      <td>7.503750</td>\n",
       "      <td>7.296250</td>\n",
       "      <td>7.507500</td>\n",
       "      <td>7.200000</td>\n",
       "      <td>409128.000000</td>\n",
       "      <td>132.690000</td>\n",
       "      <td>223.796000</td>\n",
       "      <td>28.000000</td>\n",
       "      <td>465.000000</td>\n",
       "      <td>0.000000</td>\n",
       "    </tr>\n",
       "    <tr>\n",
       "      <th>50%</th>\n",
       "      <td>42400.000000</td>\n",
       "      <td>25.130200</td>\n",
       "      <td>74.380000</td>\n",
       "      <td>0.462000</td>\n",
       "      <td>34488.217500</td>\n",
       "      <td>151.000000</td>\n",
       "      <td>8.307500</td>\n",
       "      <td>8.495000</td>\n",
       "      <td>8.312500</td>\n",
       "      <td>8.465000</td>\n",
       "      <td>7.960000</td>\n",
       "      <td>462460.000000</td>\n",
       "      <td>160.000000</td>\n",
       "      <td>254.400000</td>\n",
       "      <td>39.000000</td>\n",
       "      <td>535.500000</td>\n",
       "      <td>0.000000</td>\n",
       "    </tr>\n",
       "    <tr>\n",
       "      <th>75%</th>\n",
       "      <td>50000.000000</td>\n",
       "      <td>93.541650</td>\n",
       "      <td>91.200000</td>\n",
       "      <td>0.551000</td>\n",
       "      <td>36793.542500</td>\n",
       "      <td>167.575000</td>\n",
       "      <td>8.865000</td>\n",
       "      <td>9.030000</td>\n",
       "      <td>8.883750</td>\n",
       "      <td>9.030000</td>\n",
       "      <td>8.260000</td>\n",
       "      <td>500247.500000</td>\n",
       "      <td>181.520000</td>\n",
       "      <td>283.416000</td>\n",
       "      <td>50.000000</td>\n",
       "      <td>614.750000</td>\n",
       "      <td>1.000000</td>\n",
       "    </tr>\n",
       "    <tr>\n",
       "      <th>max</th>\n",
       "      <td>69300.000000</td>\n",
       "      <td>201.087620</td>\n",
       "      <td>110.480000</td>\n",
       "      <td>0.615000</td>\n",
       "      <td>42148.562500</td>\n",
       "      <td>173.500000</td>\n",
       "      <td>9.435000</td>\n",
       "      <td>9.540000</td>\n",
       "      <td>9.425000</td>\n",
       "      <td>9.635000</td>\n",
       "      <td>9.400000</td>\n",
       "      <td>567784.000000</td>\n",
       "      <td>217.520000</td>\n",
       "      <td>2022.400000</td>\n",
       "      <td>60.000000</td>\n",
       "      <td>868.000000</td>\n",
       "      <td>1.000000</td>\n",
       "    </tr>\n",
       "  </tbody>\n",
       "</table>\n",
       "</div>"
      ],
      "text/plain": [
       "         Collection  Marketing expense  Production expense  \\\n",
       "count    506.000000         506.000000          506.000000   \n",
       "mean   43381.462451          64.460837           77.273557   \n",
       "std    14382.844740          66.184710           13.720706   \n",
       "min    14020.000000          20.126400           55.920000   \n",
       "25%    34050.000000          21.640900           65.380000   \n",
       "50%    42400.000000          25.130200           74.380000   \n",
       "75%    50000.000000          93.541650           91.200000   \n",
       "max    69300.000000         201.087620          110.480000   \n",
       "\n",
       "       Multiplex coverage        Budget  Movie_length  Lead_ Actor_Rating  \\\n",
       "count          506.000000    506.000000    506.000000          506.000000   \n",
       "mean             0.445305  34917.862717    142.074901            8.014002   \n",
       "std              0.115878   3227.296974     28.148861            1.054266   \n",
       "min              0.129000  29519.270000     76.400000            3.840000   \n",
       "25%              0.376000  32693.952500    118.525000            7.316250   \n",
       "50%              0.462000  34488.217500    151.000000            8.307500   \n",
       "75%              0.551000  36793.542500    167.575000            8.865000   \n",
       "max              0.615000  42148.562500    173.500000            9.435000   \n",
       "\n",
       "       Lead_Actress_rating  Director_rating  Producer_rating  Critic_rating  \\\n",
       "count           506.000000       506.000000       506.000000     506.000000   \n",
       "mean              8.185613         8.019664         8.190514       7.810870   \n",
       "std               1.054290         1.059899         1.049601       0.659699   \n",
       "min               4.035000         3.840000         4.030000       6.600000   \n",
       "25%               7.503750         7.296250         7.507500       7.200000   \n",
       "50%               8.495000         8.312500         8.465000       7.960000   \n",
       "75%               9.030000         8.883750         9.030000       8.260000   \n",
       "max               9.540000         9.425000         9.635000       9.400000   \n",
       "\n",
       "       Trailer_views  Time_taken  Twitter_hastags  Avg_age_actors  \\\n",
       "count     506.000000  506.000000       506.000000      506.000000   \n",
       "mean   449860.715415  157.880119       260.832095       39.181818   \n",
       "std     68917.763145   29.454907       104.779133       12.513697   \n",
       "min    212912.000000  106.750000       201.152000        3.000000   \n",
       "25%    409128.000000  132.690000       223.796000       28.000000   \n",
       "50%    462460.000000  160.000000       254.400000       39.000000   \n",
       "75%    500247.500000  181.520000       283.416000       50.000000   \n",
       "max    567784.000000  217.520000      2022.400000       60.000000   \n",
       "\n",
       "       Num_multiplex  Start_Tech_Oscar  \n",
       "count     506.000000        506.000000  \n",
       "mean      545.043478          0.454545  \n",
       "std       106.332889          0.498422  \n",
       "min       333.000000          0.000000  \n",
       "25%       465.000000          0.000000  \n",
       "50%       535.500000          0.000000  \n",
       "75%       614.750000          1.000000  \n",
       "max       868.000000          1.000000  "
      ]
     },
     "execution_count": 190,
     "metadata": {},
     "output_type": "execute_result"
    }
   ],
   "source": [
    "movies.describe()"
   ]
  },
  {
   "cell_type": "code",
   "execution_count": 191,
   "id": "ebe3aebc",
   "metadata": {
    "scrolled": true
   },
   "outputs": [
    {
     "data": {
      "text/plain": [
       "<seaborn.axisgrid.JointGrid at 0x1f110b82bb0>"
      ]
     },
     "execution_count": 191,
     "metadata": {},
     "output_type": "execute_result"
    },
    {
     "data": {
      "image/png": "[encoded data removed]",
      "text/plain": [
       "<Figure size 432x432 with 3 Axes>"
      ]
     },
     "metadata": {
      "needs_background": "light"
     },
     "output_type": "display_data"
    }
   ],
   "source": [
    "sb.jointplot(x=\"Movie_length\",y=\"Lead_ Actor_Rating\",data=movies)"
   ]
  },
  {
   "cell_type": "code",
   "execution_count": 192,
   "id": "1441762c",
   "metadata": {
    "scrolled": false
   },
   "outputs": [
    {
     "data": {
      "text/plain": [
       "<AxesSubplot:xlabel='Lead_ Actor_Rating'>"
      ]
     },
     "execution_count": 192,
     "metadata": {},
     "output_type": "execute_result"
    },
    {
     "data": {
      "image/png": "[encoded data removed]",
      "text/plain": [
       "<Figure size 432x288 with 1 Axes>"
      ]
     },
     "metadata": {
      "needs_background": "light"
     },
     "output_type": "display_data"
    }
   ],
   "source": [
    "sb.boxplot(x=\"Lead_ Actor_Rating\",data=movies)"
   ]
  },
  {
   "cell_type": "code",
   "execution_count": 193,
   "id": "41861d70",
   "metadata": {},
   "outputs": [
    {
     "name": "stderr",
     "output_type": "stream",
     "text": [
      "<ipython-input-193-2de267d4621d>:3: SettingWithCopyWarning: \n",
      "A value is trying to be set on a copy of a slice from a DataFrame\n",
      "\n",
      "See the caveats in the documentation: https://pandas.pydata.org/pandas-docs/stable/user_guide/indexing.html#returning-a-view-versus-a-copy\n",
      "  movies['Lead_ Actor_Rating'][movies['Lead_ Actor_Rating']<lower_actor_rating]=lower_actor_rating\n"
     ]
    }
   ],
   "source": [
    "lower_actor_rating=np.percentile(movies['Lead_ Actor_Rating'],[1][0])\n",
    "lower_actor_rating\n",
    "movies['Lead_ Actor_Rating'][movies['Lead_ Actor_Rating']<lower_actor_rating]=lower_actor_rating"
   ]
  },
  {
   "cell_type": "code",
   "execution_count": 194,
   "id": "9ebf48ec",
   "metadata": {},
   "outputs": [
    {
     "data": {
      "text/plain": [
       "<AxesSubplot:xlabel='Lead_ Actor_Rating'>"
      ]
     },
     "execution_count": 194,
     "metadata": {},
     "output_type": "execute_result"
    },
    {
     "data": {
      "image/png": "[encoded data removed]",
      "text/plain": [
       "<Figure size 432x288 with 1 Axes>"
      ]
     },
     "metadata": {
      "needs_background": "light"
     },
     "output_type": "display_data"
    }
   ],
   "source": [
    "sb.boxplot(x=\"Lead_ Actor_Rating\",data=movies)"
   ]
  },
  {
   "cell_type": "code",
   "execution_count": 195,
   "id": "7fe58ad4",
   "metadata": {
    "scrolled": true
   },
   "outputs": [
    {
     "data": {
      "text/plain": [
       "<AxesSubplot:xlabel='Lead_Actress_rating'>"
      ]
     },
     "execution_count": 195,
     "metadata": {},
     "output_type": "execute_result"
    },
    {
     "data": {
      "image/png": "[encoded data removed]",
      "text/plain": [
       "<Figure size 432x288 with 1 Axes>"
      ]
     },
     "metadata": {
      "needs_background": "light"
     },
     "output_type": "display_data"
    }
   ],
   "source": [
    "sb.boxplot(x=\"Lead_Actress_rating\",data=movies)"
   ]
  },
  {
   "cell_type": "code",
   "execution_count": 196,
   "id": "fac6ffaf",
   "metadata": {},
   "outputs": [
    {
     "name": "stderr",
     "output_type": "stream",
     "text": [
      "<ipython-input-196-0c10f9a62ce8>:2: SettingWithCopyWarning: \n",
      "A value is trying to be set on a copy of a slice from a DataFrame\n",
      "\n",
      "See the caveats in the documentation: https://pandas.pydata.org/pandas-docs/stable/user_guide/indexing.html#returning-a-view-versus-a-copy\n",
      "  movies.Lead_Actress_rating[movies.Lead_Actress_rating<lower_actress_rating]=lower_actress_rating\n"
     ]
    }
   ],
   "source": [
    "lower_actress_rating=np.percentile(movies.Lead_Actress_rating,[1][0])\n",
    "movies.Lead_Actress_rating[movies.Lead_Actress_rating<lower_actress_rating]=lower_actress_rating"
   ]
  },
  {
   "cell_type": "code",
   "execution_count": 197,
   "id": "a3677578",
   "metadata": {},
   "outputs": [
    {
     "data": {
      "text/plain": [
       "<AxesSubplot:xlabel='Lead_Actress_rating'>"
      ]
     },
     "execution_count": 197,
     "metadata": {},
     "output_type": "execute_result"
    },
    {
     "data": {
      "image/png": "[encoded data removed]",
      "text/plain": [
       "<Figure size 432x288 with 1 Axes>"
      ]
     },
     "metadata": {
      "needs_background": "light"
     },
     "output_type": "display_data"
    }
   ],
   "source": [
    "sb.boxplot(x=\"Lead_Actress_rating\",data=movies)"
   ]
  },
  {
   "cell_type": "code",
   "execution_count": 198,
   "id": "d5ab8f90",
   "metadata": {
    "scrolled": true
   },
   "outputs": [
    {
     "data": {
      "text/plain": [
       "<AxesSubplot:xlabel='Director_rating'>"
      ]
     },
     "execution_count": 198,
     "metadata": {},
     "output_type": "execute_result"
    },
    {
     "data": {
      "image/png": "[encoded data removed]",
      "text/plain": [
       "<Figure size 432x288 with 1 Axes>"
      ]
     },
     "metadata": {
      "needs_background": "light"
     },
     "output_type": "display_data"
    }
   ],
   "source": [
    "sb.boxplot(x=\"Director_rating\",data=movies)"
   ]
  },
  {
   "cell_type": "code",
   "execution_count": 199,
   "id": "1089d675",
   "metadata": {},
   "outputs": [
    {
     "name": "stderr",
     "output_type": "stream",
     "text": [
      "<ipython-input-199-54867b94f114>:2: SettingWithCopyWarning: \n",
      "A value is trying to be set on a copy of a slice from a DataFrame\n",
      "\n",
      "See the caveats in the documentation: https://pandas.pydata.org/pandas-docs/stable/user_guide/indexing.html#returning-a-view-versus-a-copy\n",
      "  movies.Director_rating[movies.Director_rating<lower_Director_rating]=lower_Director_rating\n"
     ]
    }
   ],
   "source": [
    "lower_Director_rating=np.percentile(movies.Director_rating,[1][0])\n",
    "movies.Director_rating[movies.Director_rating<lower_Director_rating]=lower_Director_rating"
   ]
  },
  {
   "cell_type": "code",
   "execution_count": 200,
   "id": "fea616f5",
   "metadata": {},
   "outputs": [
    {
     "data": {
      "text/plain": [
       "<AxesSubplot:xlabel='Director_rating'>"
      ]
     },
     "execution_count": 200,
     "metadata": {},
     "output_type": "execute_result"
    },
    {
     "data": {
      "image/png": "[encoded data removed]",
      "text/plain": [
       "<Figure size 432x288 with 1 Axes>"
      ]
     },
     "metadata": {
      "needs_background": "light"
     },
     "output_type": "display_data"
    }
   ],
   "source": [
    "sb.boxplot(x=\"Director_rating\",data=movies)"
   ]
  },
  {
   "cell_type": "code",
   "execution_count": 201,
   "id": "3c41f133",
   "metadata": {
    "scrolled": true
   },
   "outputs": [
    {
     "data": {
      "text/plain": [
       "<AxesSubplot:xlabel='Producer_rating'>"
      ]
     },
     "execution_count": 201,
     "metadata": {},
     "output_type": "execute_result"
    },
    {
     "data": {
      "image/png": "[encoded data removed]",
      "text/plain": [
       "<Figure size 432x288 with 1 Axes>"
      ]
     },
     "metadata": {
      "needs_background": "light"
     },
     "output_type": "display_data"
    }
   ],
   "source": [
    "sb.boxplot(x=\"Producer_rating\",data=movies)"
   ]
  },
  {
   "cell_type": "code",
   "execution_count": 202,
   "id": "5e5044c8",
   "metadata": {},
   "outputs": [
    {
     "name": "stderr",
     "output_type": "stream",
     "text": [
      "<ipython-input-202-7fe3947f750a>:2: SettingWithCopyWarning: \n",
      "A value is trying to be set on a copy of a slice from a DataFrame\n",
      "\n",
      "See the caveats in the documentation: https://pandas.pydata.org/pandas-docs/stable/user_guide/indexing.html#returning-a-view-versus-a-copy\n",
      "  movies.Producer_rating[movies.Producer_rating<lower_prod_rating]=lower_prod_rating\n"
     ]
    }
   ],
   "source": [
    "lower_prod_rating=np.percentile(movies.Producer_rating,[1][0])\n",
    "movies.Producer_rating[movies.Producer_rating<lower_prod_rating]=lower_prod_rating"
   ]
  },
  {
   "cell_type": "code",
   "execution_count": 203,
   "id": "fc47cdc8",
   "metadata": {},
   "outputs": [
    {
     "data": {
      "text/plain": [
       "<AxesSubplot:xlabel='Producer_rating'>"
      ]
     },
     "execution_count": 203,
     "metadata": {},
     "output_type": "execute_result"
    },
    {
     "data": {
      "image/png": "[encoded data removed]",
      "text/plain": [
       "<Figure size 432x288 with 1 Axes>"
      ]
     },
     "metadata": {
      "needs_background": "light"
     },
     "output_type": "display_data"
    }
   ],
   "source": [
    "sb.boxplot(x=\"Producer_rating\",data=movies)"
   ]
  },
  {
   "cell_type": "code",
   "execution_count": 204,
   "id": "8e4086ab",
   "metadata": {},
   "outputs": [
    {
     "data": {
      "text/plain": [
       "<AxesSubplot:xlabel='Critic_rating'>"
      ]
     },
     "execution_count": 204,
     "metadata": {},
     "output_type": "execute_result"
    },
    {
     "data": {
      "image/png": "[encoded data removed]",
      "text/plain": [
       "<Figure size 432x288 with 1 Axes>"
      ]
     },
     "metadata": {
      "needs_background": "light"
     },
     "output_type": "display_data"
    }
   ],
   "source": [
    "sb.boxplot(x=\"Critic_rating\",data=movies)"
   ]
  },
  {
   "cell_type": "code",
   "execution_count": 205,
   "id": "6c10338d",
   "metadata": {
    "scrolled": true
   },
   "outputs": [
    {
     "data": {
      "text/plain": [
       "<AxesSubplot:xlabel='Trailer_views'>"
      ]
     },
     "execution_count": 205,
     "metadata": {},
     "output_type": "execute_result"
    },
    {
     "data": {
      "image/png": "[encoded data removed]",
      "text/plain": [
       "<Figure size 432x288 with 1 Axes>"
      ]
     },
     "metadata": {
      "needs_background": "light"
     },
     "output_type": "display_data"
    }
   ],
   "source": [
    "sb.boxplot(x=\"Trailer_views\",data=movies)"
   ]
  },
  {
   "cell_type": "code",
   "execution_count": 206,
   "id": "048e0f24",
   "metadata": {
    "scrolled": true
   },
   "outputs": [
    {
     "name": "stderr",
     "output_type": "stream",
     "text": [
      "<ipython-input-206-7eecd7ffea46>:2: SettingWithCopyWarning: \n",
      "A value is trying to be set on a copy of a slice from a DataFrame\n",
      "\n",
      "See the caveats in the documentation: https://pandas.pydata.org/pandas-docs/stable/user_guide/indexing.html#returning-a-view-versus-a-copy\n",
      "  movies.Trailer_views[movies.Trailer_views<lower_views]=lower_views\n"
     ]
    }
   ],
   "source": [
    "lower_views=np.percentile(movies.Trailer_views,[5][0])\n",
    "movies.Trailer_views[movies.Trailer_views<lower_views]=lower_views"
   ]
  },
  {
   "cell_type": "code",
   "execution_count": 207,
   "id": "38b44fe8",
   "metadata": {},
   "outputs": [
    {
     "data": {
      "text/plain": [
       "<AxesSubplot:xlabel='Trailer_views'>"
      ]
     },
     "execution_count": 207,
     "metadata": {},
     "output_type": "execute_result"
    },
    {
     "data": {
      "image/png": "[encoded data removed]",
      "text/plain": [
       "<Figure size 432x288 with 1 Axes>"
      ]
     },
     "metadata": {
      "needs_background": "light"
     },
     "output_type": "display_data"
    }
   ],
   "source": [
    "sb.boxplot(x=\"Trailer_views\",data=movies)"
   ]
  },
  {
   "cell_type": "code",
   "execution_count": 208,
   "id": "2262b269",
   "metadata": {
    "scrolled": false
   },
   "outputs": [
    {
     "data": {
      "text/plain": [
       "<seaborn.axisgrid.JointGrid at 0x1f113ccf100>"
      ]
     },
     "execution_count": 208,
     "metadata": {},
     "output_type": "execute_result"
    },
    {
     "data": {
      "image/png": "[encoded data removed]",
      "text/plain": [
       "<Figure size 432x432 with 3 Axes>"
      ]
     },
     "metadata": {
      "needs_background": "light"
     },
     "output_type": "display_data"
    }
   ],
   "source": [
    "sb.jointplot(x=\"Trailer_views\",y=\"Time_taken\",data=movies)"
   ]
  },
  {
   "cell_type": "code",
   "execution_count": 209,
   "id": "ee20c6a9",
   "metadata": {
    "scrolled": true
   },
   "outputs": [
    {
     "data": {
      "text/plain": [
       "<seaborn.axisgrid.JointGrid at 0x1f113deffd0>"
      ]
     },
     "execution_count": 209,
     "metadata": {},
     "output_type": "execute_result"
    },
    {
     "data": {
      "image/png": "[encoded data removed]",
      "text/plain": [
       "<Figure size 432x432 with 3 Axes>"
      ]
     },
     "metadata": {
      "needs_background": "light"
     },
     "output_type": "display_data"
    }
   ],
   "source": [
    "sb.jointplot(x=\"Twitter_hastags\",y=\"Avg_age_actors\",data=movies)"
   ]
  },
  {
   "cell_type": "code",
   "execution_count": 210,
   "id": "356eff95",
   "metadata": {
    "scrolled": true
   },
   "outputs": [
    {
     "data": {
      "text/plain": [
       "<AxesSubplot:xlabel='Twitter_hastags'>"
      ]
     },
     "execution_count": 210,
     "metadata": {},
     "output_type": "execute_result"
    },
    {
     "data": {
      "image/png": "[encoded data removed]",
      "text/plain": [
       "<Figure size 432x288 with 1 Axes>"
      ]
     },
     "metadata": {
      "needs_background": "light"
     },
     "output_type": "display_data"
    }
   ],
   "source": [
    "sb.boxplot(x=\"Twitter_hastags\",data=movies)"
   ]
  },
  {
   "cell_type": "code",
   "execution_count": 211,
   "id": "e0213f21",
   "metadata": {},
   "outputs": [
    {
     "name": "stderr",
     "output_type": "stream",
     "text": [
      "<ipython-input-211-41c9606c85de>:2: SettingWithCopyWarning: \n",
      "A value is trying to be set on a copy of a slice from a DataFrame\n",
      "\n",
      "See the caveats in the documentation: https://pandas.pydata.org/pandas-docs/stable/user_guide/indexing.html#returning-a-view-versus-a-copy\n",
      "  movies.Twitter_hastags[movies.Twitter_hastags>upper_tweet]=upper_tweet\n"
     ]
    }
   ],
   "source": [
    "upper_tweet=np.percentile(movies.Twitter_hastags,[99][0])\n",
    "movies.Twitter_hastags[movies.Twitter_hastags>upper_tweet]=upper_tweet"
   ]
  },
  {
   "cell_type": "code",
   "execution_count": 212,
   "id": "e0342bf8",
   "metadata": {
    "scrolled": true
   },
   "outputs": [
    {
     "data": {
      "text/plain": [
       "<AxesSubplot:xlabel='Twitter_hastags'>"
      ]
     },
     "execution_count": 212,
     "metadata": {},
     "output_type": "execute_result"
    },
    {
     "data": {
      "image/png": "[encoded data removed]",
      "text/plain": [
       "<Figure size 432x288 with 1 Axes>"
      ]
     },
     "metadata": {
      "needs_background": "light"
     },
     "output_type": "display_data"
    }
   ],
   "source": [
    "sb.boxplot(x=\"Twitter_hastags\",data=movies)"
   ]
  },
  {
   "cell_type": "code",
   "execution_count": 213,
   "id": "9586dce7",
   "metadata": {},
   "outputs": [
    {
     "data": {
      "text/plain": [
       "<AxesSubplot:xlabel='Avg_age_actors'>"
      ]
     },
     "execution_count": 213,
     "metadata": {},
     "output_type": "execute_result"
    },
    {
     "data": {
      "image/png": "[encoded data removed]",
      "text/plain": [
       "<Figure size 432x288 with 1 Axes>"
      ]
     },
     "metadata": {
      "needs_background": "light"
     },
     "output_type": "display_data"
    }
   ],
   "source": [
    "sb.boxplot(x=\"Avg_age_actors\",data=movies)"
   ]
  },
  {
   "cell_type": "code",
   "execution_count": 214,
   "id": "7bde2f53",
   "metadata": {
    "scrolled": false
   },
   "outputs": [
    {
     "data": {
      "text/plain": [
       "<AxesSubplot:xlabel='Num_multiplex'>"
      ]
     },
     "execution_count": 214,
     "metadata": {},
     "output_type": "execute_result"
    },
    {
     "data": {
      "image/png": "[encoded data removed]",
      "text/plain": [
       "<Figure size 432x288 with 1 Axes>"
      ]
     },
     "metadata": {
      "needs_background": "light"
     },
     "output_type": "display_data"
    }
   ],
   "source": [
    "sb.boxplot(x=\"Num_multiplex\",data=movies)"
   ]
  },
  {
   "cell_type": "code",
   "execution_count": 215,
   "id": "64c146b8",
   "metadata": {
    "scrolled": true
   },
   "outputs": [
    {
     "name": "stderr",
     "output_type": "stream",
     "text": [
      "<ipython-input-215-608bf595a1af>:2: SettingWithCopyWarning: \n",
      "A value is trying to be set on a copy of a slice from a DataFrame\n",
      "\n",
      "See the caveats in the documentation: https://pandas.pydata.org/pandas-docs/stable/user_guide/indexing.html#returning-a-view-versus-a-copy\n",
      "  movies.Num_multiplex[movies.Num_multiplex>upper_multiplex]=upper_multiplex\n"
     ]
    }
   ],
   "source": [
    "upper_multiplex=np.percentile(movies.Num_multiplex,[95][0])\n",
    "movies.Num_multiplex[movies.Num_multiplex>upper_multiplex]=upper_multiplex"
   ]
  },
  {
   "cell_type": "code",
   "execution_count": 216,
   "id": "cce8678c",
   "metadata": {
    "scrolled": true
   },
   "outputs": [
    {
     "data": {
      "text/plain": [
       "<AxesSubplot:xlabel='Num_multiplex'>"
      ]
     },
     "execution_count": 216,
     "metadata": {},
     "output_type": "execute_result"
    },
    {
     "data": {
      "image/png": "[encoded data removed]",
      "text/plain": [
       "<Figure size 432x288 with 1 Axes>"
      ]
     },
     "metadata": {
      "needs_background": "light"
     },
     "output_type": "display_data"
    }
   ],
   "source": [
    "sb.boxplot(x=\"Num_multiplex\",data=movies)"
   ]
  },
  {
   "cell_type": "code",
   "execution_count": 217,
   "id": "1430050d",
   "metadata": {},
   "outputs": [
    {
     "data": {
      "text/plain": [
       "<AxesSubplot:xlabel='Start_Tech_Oscar', ylabel='count'>"
      ]
     },
     "execution_count": 217,
     "metadata": {},
     "output_type": "execute_result"
    },
    {
     "data": {
      "image/png": "[encoded data removed]",
      "text/plain": [
       "<Figure size 432x288 with 1 Axes>"
      ]
     },
     "metadata": {
      "needs_background": "light"
     },
     "output_type": "display_data"
    }
   ],
   "source": [
    "sb.countplot(x=\"Start_Tech_Oscar\",data=movies)"
   ]
  },
  {
   "cell_type": "code",
   "execution_count": 218,
   "id": "f6a335ca",
   "metadata": {},
   "outputs": [
    {
     "data": {
      "text/plain": [
       "<AxesSubplot:xlabel='Genre', ylabel='count'>"
      ]
     },
     "execution_count": 218,
     "metadata": {},
     "output_type": "execute_result"
    },
    {
     "data": {
      "image/png": "[encoded data removed]",
      "text/plain": [
       "<Figure size 432x288 with 1 Axes>"
      ]
     },
     "metadata": {
      "needs_background": "light"
     },
     "output_type": "display_data"
    }
   ],
   "source": [
    "sb.countplot(x=\"Genre\",data=movies)"
   ]
  },
  {
   "cell_type": "code",
   "execution_count": 219,
   "id": "50a7f002",
   "metadata": {},
   "outputs": [
    {
     "data": {
      "text/plain": [
       "<AxesSubplot:xlabel='MPAA_film_rating', ylabel='count'>"
      ]
     },
     "execution_count": 219,
     "metadata": {},
     "output_type": "execute_result"
    },
    {
     "data": {
      "image/png": "[encoded data removed]",
      "text/plain": [
       "<Figure size 432x288 with 1 Axes>"
      ]
     },
     "metadata": {
      "needs_background": "light"
     },
     "output_type": "display_data"
    }
   ],
   "source": [
    "sb.countplot(x=\"MPAA_film_rating\",data=movies)"
   ]
  },
  {
   "cell_type": "code",
   "execution_count": 220,
   "id": "e77e6ea2",
   "metadata": {},
   "outputs": [
    {
     "data": {
      "text/plain": [
       "<AxesSubplot:xlabel='count', ylabel='3D_available'>"
      ]
     },
     "execution_count": 220,
     "metadata": {},
     "output_type": "execute_result"
    },
    {
     "data": {
      "image/png": "[encoded data removed]",
      "text/plain": [
       "<Figure size 432x288 with 1 Axes>"
      ]
     },
     "metadata": {
      "needs_background": "light"
     },
     "output_type": "display_data"
    }
   ],
   "source": [
    "sb.countplot(y=\"3D_available\",data=movies)"
   ]
  },
  {
   "cell_type": "code",
   "execution_count": 221,
   "id": "a9f5c454",
   "metadata": {
    "scrolled": true
   },
   "outputs": [
    {
     "name": "stdout",
     "output_type": "stream",
     "text": [
      "<class 'pandas.core.frame.DataFrame'>\n",
      "RangeIndex: 506 entries, 0 to 505\n",
      "Data columns (total 20 columns):\n",
      " #   Column               Non-Null Count  Dtype  \n",
      "---  ------               --------------  -----  \n",
      " 0   Collection           506 non-null    int64  \n",
      " 1   Marketing expense    506 non-null    float64\n",
      " 2   Production expense   506 non-null    float64\n",
      " 3   Multiplex coverage   506 non-null    float64\n",
      " 4   Budget               506 non-null    float64\n",
      " 5   Movie_length         506 non-null    float64\n",
      " 6   Lead_ Actor_Rating   506 non-null    float64\n",
      " 7   Lead_Actress_rating  506 non-null    float64\n",
      " 8   Director_rating      506 non-null    float64\n",
      " 9   Producer_rating      506 non-null    float64\n",
      " 10  Critic_rating        506 non-null    float64\n",
      " 11  Trailer_views        506 non-null    float64\n",
      " 12  3D_available         506 non-null    object \n",
      " 13  Time_taken           506 non-null    float64\n",
      " 14  Twitter_hastags      506 non-null    float64\n",
      " 15  Genre                506 non-null    object \n",
      " 16  Avg_age_actors       506 non-null    int64  \n",
      " 17  MPAA_film_rating     506 non-null    object \n",
      " 18  Num_multiplex        506 non-null    float64\n",
      " 19  Start_Tech_Oscar     506 non-null    int64  \n",
      "dtypes: float64(14), int64(3), object(3)\n",
      "memory usage: 79.2+ KB\n"
     ]
    }
   ],
   "source": [
    "movies.info()"
   ]
  },
  {
   "cell_type": "markdown",
   "id": "735cd3a7",
   "metadata": {},
   "source": [
    "Observation\n",
    "•Column with Outliers:\n",
    "    1.\tCOLLECTION\n",
    "    2.\tMARKETING EXPENSE\n",
    "    3.\tBUDGET\n",
    "    4.\tLEAD_ACTOR_RATING\n",
    "    5.\tLEAD_ACTRESS_RATING\n",
    "    6.\tDIRECTOR _RATING\n",
    "    7.\tPRODUCER_RATING\n",
    "    8.\tTIME_TAKEN \n",
    "    9.\tTRAILER_VIEWS\n",
    "    10.\tAVG_AGE_ACTOR\n",
    "    11.\tTWITTER_HASTAGS\n",
    "    12.\tNUM_MULTIPLEX\n",
    "\n",
    "\n",
    "•\t“Time_taken” variable contains NULL value.\n",
    "•\t“Genre”: highest occurred value ‘Thriller’ , lowest : ’Action’\n",
    "•\t“MPAA_film_rating” variable has only one value “PG”\n",
    "•\tMost of the film have 3D option\n"
   ]
  },
  {
   "cell_type": "markdown",
   "id": "ceeb0999",
   "metadata": {},
   "source": [
    "OUTLIER  TREATMENT USING CAPPING COMPLETED , DATA IS NOW READY FOR FUTHER PROCESSING "
   ]
  },
  {
   "cell_type": "code",
   "execution_count": 222,
   "id": "9d994138",
   "metadata": {},
   "outputs": [],
   "source": [
    "movies=pd.get_dummies(movies)"
   ]
  },
  {
   "cell_type": "code",
   "execution_count": 223,
   "id": "11866c74",
   "metadata": {},
   "outputs": [
    {
     "data": {
      "text/html": [
       "<div>\n",
       "<style scoped>\n",
       "    .dataframe tbody tr th:only-of-type {\n",
       "        vertical-align: middle;\n",
       "    }\n",
       "\n",
       "    .dataframe tbody tr th {\n",
       "        vertical-align: top;\n",
       "    }\n",
       "\n",
       "    .dataframe thead th {\n",
       "        text-align: right;\n",
       "    }\n",
       "</style>\n",
       "<table border=\"1\" class=\"dataframe\">\n",
       "  <thead>\n",
       "    <tr style=\"text-align: right;\">\n",
       "      <th></th>\n",
       "      <th>Collection</th>\n",
       "      <th>Marketing expense</th>\n",
       "      <th>Production expense</th>\n",
       "      <th>Multiplex coverage</th>\n",
       "      <th>Budget</th>\n",
       "      <th>Movie_length</th>\n",
       "      <th>Lead_ Actor_Rating</th>\n",
       "      <th>Lead_Actress_rating</th>\n",
       "      <th>Director_rating</th>\n",
       "      <th>Producer_rating</th>\n",
       "      <th>...</th>\n",
       "      <th>Avg_age_actors</th>\n",
       "      <th>Num_multiplex</th>\n",
       "      <th>Start_Tech_Oscar</th>\n",
       "      <th>3D_available_NO</th>\n",
       "      <th>3D_available_YES</th>\n",
       "      <th>Genre_Action</th>\n",
       "      <th>Genre_Comedy</th>\n",
       "      <th>Genre_Drama</th>\n",
       "      <th>Genre_Thriller</th>\n",
       "      <th>MPAA_film_rating_PG</th>\n",
       "    </tr>\n",
       "  </thead>\n",
       "  <tbody>\n",
       "    <tr>\n",
       "      <th>0</th>\n",
       "      <td>48000</td>\n",
       "      <td>20.1264</td>\n",
       "      <td>59.62</td>\n",
       "      <td>0.462</td>\n",
       "      <td>36524.125</td>\n",
       "      <td>138.7</td>\n",
       "      <td>7.825</td>\n",
       "      <td>8.095</td>\n",
       "      <td>7.910</td>\n",
       "      <td>7.995</td>\n",
       "      <td>...</td>\n",
       "      <td>23</td>\n",
       "      <td>494.0</td>\n",
       "      <td>0</td>\n",
       "      <td>0</td>\n",
       "      <td>1</td>\n",
       "      <td>0</td>\n",
       "      <td>0</td>\n",
       "      <td>0</td>\n",
       "      <td>1</td>\n",
       "      <td>1</td>\n",
       "    </tr>\n",
       "    <tr>\n",
       "      <th>1</th>\n",
       "      <td>43200</td>\n",
       "      <td>20.5462</td>\n",
       "      <td>69.14</td>\n",
       "      <td>0.531</td>\n",
       "      <td>35668.655</td>\n",
       "      <td>152.4</td>\n",
       "      <td>7.505</td>\n",
       "      <td>7.650</td>\n",
       "      <td>7.440</td>\n",
       "      <td>7.470</td>\n",
       "      <td>...</td>\n",
       "      <td>42</td>\n",
       "      <td>462.0</td>\n",
       "      <td>1</td>\n",
       "      <td>1</td>\n",
       "      <td>0</td>\n",
       "      <td>0</td>\n",
       "      <td>0</td>\n",
       "      <td>1</td>\n",
       "      <td>0</td>\n",
       "      <td>1</td>\n",
       "    </tr>\n",
       "    <tr>\n",
       "      <th>2</th>\n",
       "      <td>69300</td>\n",
       "      <td>20.5458</td>\n",
       "      <td>69.14</td>\n",
       "      <td>0.531</td>\n",
       "      <td>39912.675</td>\n",
       "      <td>134.6</td>\n",
       "      <td>7.485</td>\n",
       "      <td>7.570</td>\n",
       "      <td>7.495</td>\n",
       "      <td>7.515</td>\n",
       "      <td>...</td>\n",
       "      <td>38</td>\n",
       "      <td>458.0</td>\n",
       "      <td>0</td>\n",
       "      <td>1</td>\n",
       "      <td>0</td>\n",
       "      <td>0</td>\n",
       "      <td>1</td>\n",
       "      <td>0</td>\n",
       "      <td>0</td>\n",
       "      <td>1</td>\n",
       "    </tr>\n",
       "    <tr>\n",
       "      <th>3</th>\n",
       "      <td>66800</td>\n",
       "      <td>20.6474</td>\n",
       "      <td>59.36</td>\n",
       "      <td>0.542</td>\n",
       "      <td>38873.890</td>\n",
       "      <td>119.3</td>\n",
       "      <td>6.895</td>\n",
       "      <td>7.035</td>\n",
       "      <td>6.920</td>\n",
       "      <td>7.020</td>\n",
       "      <td>...</td>\n",
       "      <td>45</td>\n",
       "      <td>472.0</td>\n",
       "      <td>0</td>\n",
       "      <td>0</td>\n",
       "      <td>1</td>\n",
       "      <td>0</td>\n",
       "      <td>0</td>\n",
       "      <td>1</td>\n",
       "      <td>0</td>\n",
       "      <td>1</td>\n",
       "    </tr>\n",
       "    <tr>\n",
       "      <th>4</th>\n",
       "      <td>69300</td>\n",
       "      <td>21.3810</td>\n",
       "      <td>59.36</td>\n",
       "      <td>0.542</td>\n",
       "      <td>39701.585</td>\n",
       "      <td>127.7</td>\n",
       "      <td>6.920</td>\n",
       "      <td>7.070</td>\n",
       "      <td>6.815</td>\n",
       "      <td>7.070</td>\n",
       "      <td>...</td>\n",
       "      <td>55</td>\n",
       "      <td>395.0</td>\n",
       "      <td>0</td>\n",
       "      <td>1</td>\n",
       "      <td>0</td>\n",
       "      <td>0</td>\n",
       "      <td>0</td>\n",
       "      <td>1</td>\n",
       "      <td>0</td>\n",
       "      <td>1</td>\n",
       "    </tr>\n",
       "  </tbody>\n",
       "</table>\n",
       "<p>5 rows × 24 columns</p>\n",
       "</div>"
      ],
      "text/plain": [
       "   Collection  Marketing expense  Production expense  Multiplex coverage  \\\n",
       "0       48000            20.1264               59.62               0.462   \n",
       "1       43200            20.5462               69.14               0.531   \n",
       "2       69300            20.5458               69.14               0.531   \n",
       "3       66800            20.6474               59.36               0.542   \n",
       "4       69300            21.3810               59.36               0.542   \n",
       "\n",
       "      Budget  Movie_length  Lead_ Actor_Rating  Lead_Actress_rating  \\\n",
       "0  36524.125         138.7               7.825                8.095   \n",
       "1  35668.655         152.4               7.505                7.650   \n",
       "2  39912.675         134.6               7.485                7.570   \n",
       "3  38873.890         119.3               6.895                7.035   \n",
       "4  39701.585         127.7               6.920                7.070   \n",
       "\n",
       "   Director_rating  Producer_rating  ...  Avg_age_actors  Num_multiplex  \\\n",
       "0            7.910            7.995  ...              23          494.0   \n",
       "1            7.440            7.470  ...              42          462.0   \n",
       "2            7.495            7.515  ...              38          458.0   \n",
       "3            6.920            7.020  ...              45          472.0   \n",
       "4            6.815            7.070  ...              55          395.0   \n",
       "\n",
       "   Start_Tech_Oscar  3D_available_NO  3D_available_YES  Genre_Action  \\\n",
       "0                 0                0                 1             0   \n",
       "1                 1                1                 0             0   \n",
       "2                 0                1                 0             0   \n",
       "3                 0                0                 1             0   \n",
       "4                 0                1                 0             0   \n",
       "\n",
       "   Genre_Comedy  Genre_Drama  Genre_Thriller  MPAA_film_rating_PG  \n",
       "0             0            0               1                    1  \n",
       "1             0            1               0                    1  \n",
       "2             1            0               0                    1  \n",
       "3             0            1               0                    1  \n",
       "4             0            1               0                    1  \n",
       "\n",
       "[5 rows x 24 columns]"
      ]
     },
     "execution_count": 223,
     "metadata": {},
     "output_type": "execute_result"
    }
   ],
   "source": [
    "movies.head()"
   ]
  },
  {
   "cell_type": "code",
   "execution_count": 224,
   "id": "a3d39f9b",
   "metadata": {},
   "outputs": [],
   "source": [
    "movies.drop(['3D_available_NO','MPAA_film_rating_PG'],axis=1,inplace=True)"
   ]
  },
  {
   "cell_type": "code",
   "execution_count": 225,
   "id": "913332d1",
   "metadata": {},
   "outputs": [
    {
     "data": {
      "text/html": [
       "<div>\n",
       "<style scoped>\n",
       "    .dataframe tbody tr th:only-of-type {\n",
       "        vertical-align: middle;\n",
       "    }\n",
       "\n",
       "    .dataframe tbody tr th {\n",
       "        vertical-align: top;\n",
       "    }\n",
       "\n",
       "    .dataframe thead th {\n",
       "        text-align: right;\n",
       "    }\n",
       "</style>\n",
       "<table border=\"1\" class=\"dataframe\">\n",
       "  <thead>\n",
       "    <tr style=\"text-align: right;\">\n",
       "      <th></th>\n",
       "      <th>Collection</th>\n",
       "      <th>Marketing expense</th>\n",
       "      <th>Production expense</th>\n",
       "      <th>Multiplex coverage</th>\n",
       "      <th>Budget</th>\n",
       "      <th>Movie_length</th>\n",
       "      <th>Lead_ Actor_Rating</th>\n",
       "      <th>Lead_Actress_rating</th>\n",
       "      <th>Director_rating</th>\n",
       "      <th>Producer_rating</th>\n",
       "      <th>...</th>\n",
       "      <th>Time_taken</th>\n",
       "      <th>Twitter_hastags</th>\n",
       "      <th>Avg_age_actors</th>\n",
       "      <th>Num_multiplex</th>\n",
       "      <th>Start_Tech_Oscar</th>\n",
       "      <th>3D_available_YES</th>\n",
       "      <th>Genre_Action</th>\n",
       "      <th>Genre_Comedy</th>\n",
       "      <th>Genre_Drama</th>\n",
       "      <th>Genre_Thriller</th>\n",
       "    </tr>\n",
       "  </thead>\n",
       "  <tbody>\n",
       "    <tr>\n",
       "      <th>0</th>\n",
       "      <td>48000</td>\n",
       "      <td>20.1264</td>\n",
       "      <td>59.62</td>\n",
       "      <td>0.462</td>\n",
       "      <td>36524.125</td>\n",
       "      <td>138.7</td>\n",
       "      <td>7.825</td>\n",
       "      <td>8.095</td>\n",
       "      <td>7.910</td>\n",
       "      <td>7.995</td>\n",
       "      <td>...</td>\n",
       "      <td>109.60</td>\n",
       "      <td>223.8400</td>\n",
       "      <td>23</td>\n",
       "      <td>494.0</td>\n",
       "      <td>0</td>\n",
       "      <td>1</td>\n",
       "      <td>0</td>\n",
       "      <td>0</td>\n",
       "      <td>0</td>\n",
       "      <td>1</td>\n",
       "    </tr>\n",
       "    <tr>\n",
       "      <th>1</th>\n",
       "      <td>43200</td>\n",
       "      <td>20.5462</td>\n",
       "      <td>69.14</td>\n",
       "      <td>0.531</td>\n",
       "      <td>35668.655</td>\n",
       "      <td>152.4</td>\n",
       "      <td>7.505</td>\n",
       "      <td>7.650</td>\n",
       "      <td>7.440</td>\n",
       "      <td>7.470</td>\n",
       "      <td>...</td>\n",
       "      <td>146.64</td>\n",
       "      <td>243.4560</td>\n",
       "      <td>42</td>\n",
       "      <td>462.0</td>\n",
       "      <td>1</td>\n",
       "      <td>0</td>\n",
       "      <td>0</td>\n",
       "      <td>0</td>\n",
       "      <td>1</td>\n",
       "      <td>0</td>\n",
       "    </tr>\n",
       "    <tr>\n",
       "      <th>2</th>\n",
       "      <td>69300</td>\n",
       "      <td>20.5458</td>\n",
       "      <td>69.14</td>\n",
       "      <td>0.531</td>\n",
       "      <td>39912.675</td>\n",
       "      <td>134.6</td>\n",
       "      <td>7.485</td>\n",
       "      <td>7.570</td>\n",
       "      <td>7.495</td>\n",
       "      <td>7.515</td>\n",
       "      <td>...</td>\n",
       "      <td>147.88</td>\n",
       "      <td>307.9904</td>\n",
       "      <td>38</td>\n",
       "      <td>458.0</td>\n",
       "      <td>0</td>\n",
       "      <td>0</td>\n",
       "      <td>0</td>\n",
       "      <td>1</td>\n",
       "      <td>0</td>\n",
       "      <td>0</td>\n",
       "    </tr>\n",
       "    <tr>\n",
       "      <th>3</th>\n",
       "      <td>66800</td>\n",
       "      <td>20.6474</td>\n",
       "      <td>59.36</td>\n",
       "      <td>0.542</td>\n",
       "      <td>38873.890</td>\n",
       "      <td>119.3</td>\n",
       "      <td>6.895</td>\n",
       "      <td>7.035</td>\n",
       "      <td>6.920</td>\n",
       "      <td>7.020</td>\n",
       "      <td>...</td>\n",
       "      <td>185.36</td>\n",
       "      <td>225.3440</td>\n",
       "      <td>45</td>\n",
       "      <td>472.0</td>\n",
       "      <td>0</td>\n",
       "      <td>1</td>\n",
       "      <td>0</td>\n",
       "      <td>0</td>\n",
       "      <td>1</td>\n",
       "      <td>0</td>\n",
       "    </tr>\n",
       "    <tr>\n",
       "      <th>4</th>\n",
       "      <td>69300</td>\n",
       "      <td>21.3810</td>\n",
       "      <td>59.36</td>\n",
       "      <td>0.542</td>\n",
       "      <td>39701.585</td>\n",
       "      <td>127.7</td>\n",
       "      <td>6.920</td>\n",
       "      <td>7.070</td>\n",
       "      <td>6.815</td>\n",
       "      <td>7.070</td>\n",
       "      <td>...</td>\n",
       "      <td>176.48</td>\n",
       "      <td>225.7920</td>\n",
       "      <td>55</td>\n",
       "      <td>395.0</td>\n",
       "      <td>0</td>\n",
       "      <td>0</td>\n",
       "      <td>0</td>\n",
       "      <td>0</td>\n",
       "      <td>1</td>\n",
       "      <td>0</td>\n",
       "    </tr>\n",
       "  </tbody>\n",
       "</table>\n",
       "<p>5 rows × 22 columns</p>\n",
       "</div>"
      ],
      "text/plain": [
       "   Collection  Marketing expense  Production expense  Multiplex coverage  \\\n",
       "0       48000            20.1264               59.62               0.462   \n",
       "1       43200            20.5462               69.14               0.531   \n",
       "2       69300            20.5458               69.14               0.531   \n",
       "3       66800            20.6474               59.36               0.542   \n",
       "4       69300            21.3810               59.36               0.542   \n",
       "\n",
       "      Budget  Movie_length  Lead_ Actor_Rating  Lead_Actress_rating  \\\n",
       "0  36524.125         138.7               7.825                8.095   \n",
       "1  35668.655         152.4               7.505                7.650   \n",
       "2  39912.675         134.6               7.485                7.570   \n",
       "3  38873.890         119.3               6.895                7.035   \n",
       "4  39701.585         127.7               6.920                7.070   \n",
       "\n",
       "   Director_rating  Producer_rating  ...  Time_taken  Twitter_hastags  \\\n",
       "0            7.910            7.995  ...      109.60         223.8400   \n",
       "1            7.440            7.470  ...      146.64         243.4560   \n",
       "2            7.495            7.515  ...      147.88         307.9904   \n",
       "3            6.920            7.020  ...      185.36         225.3440   \n",
       "4            6.815            7.070  ...      176.48         225.7920   \n",
       "\n",
       "   Avg_age_actors  Num_multiplex  Start_Tech_Oscar  3D_available_YES  \\\n",
       "0              23          494.0                 0                 1   \n",
       "1              42          462.0                 1                 0   \n",
       "2              38          458.0                 0                 0   \n",
       "3              45          472.0                 0                 1   \n",
       "4              55          395.0                 0                 0   \n",
       "\n",
       "   Genre_Action  Genre_Comedy  Genre_Drama  Genre_Thriller  \n",
       "0             0             0            0               1  \n",
       "1             0             0            1               0  \n",
       "2             0             1            0               0  \n",
       "3             0             0            1               0  \n",
       "4             0             0            1               0  \n",
       "\n",
       "[5 rows x 22 columns]"
      ]
     },
     "execution_count": 225,
     "metadata": {},
     "output_type": "execute_result"
    }
   ],
   "source": [
    "movies.head()"
   ]
  },
  {
   "cell_type": "code",
   "execution_count": 226,
   "id": "0413e92f",
   "metadata": {},
   "outputs": [
    {
     "data": {
      "text/html": [
       "<div>\n",
       "<style scoped>\n",
       "    .dataframe tbody tr th:only-of-type {\n",
       "        vertical-align: middle;\n",
       "    }\n",
       "\n",
       "    .dataframe tbody tr th {\n",
       "        vertical-align: top;\n",
       "    }\n",
       "\n",
       "    .dataframe thead th {\n",
       "        text-align: right;\n",
       "    }\n",
       "</style>\n",
       "<table border=\"1\" class=\"dataframe\">\n",
       "  <thead>\n",
       "    <tr style=\"text-align: right;\">\n",
       "      <th></th>\n",
       "      <th>Collection</th>\n",
       "      <th>Marketing expense</th>\n",
       "      <th>Production expense</th>\n",
       "      <th>Multiplex coverage</th>\n",
       "      <th>Budget</th>\n",
       "      <th>Movie_length</th>\n",
       "      <th>Lead_ Actor_Rating</th>\n",
       "      <th>Lead_Actress_rating</th>\n",
       "      <th>Director_rating</th>\n",
       "      <th>Producer_rating</th>\n",
       "      <th>...</th>\n",
       "      <th>Trailer_views</th>\n",
       "      <th>Time_taken</th>\n",
       "      <th>Twitter_hastags</th>\n",
       "      <th>Avg_age_actors</th>\n",
       "      <th>Num_multiplex</th>\n",
       "      <th>3D_available_YES</th>\n",
       "      <th>Genre_Action</th>\n",
       "      <th>Genre_Comedy</th>\n",
       "      <th>Genre_Drama</th>\n",
       "      <th>Genre_Thriller</th>\n",
       "    </tr>\n",
       "    <tr>\n",
       "      <th>Start_Tech_Oscar</th>\n",
       "      <th></th>\n",
       "      <th></th>\n",
       "      <th></th>\n",
       "      <th></th>\n",
       "      <th></th>\n",
       "      <th></th>\n",
       "      <th></th>\n",
       "      <th></th>\n",
       "      <th></th>\n",
       "      <th></th>\n",
       "      <th></th>\n",
       "      <th></th>\n",
       "      <th></th>\n",
       "      <th></th>\n",
       "      <th></th>\n",
       "      <th></th>\n",
       "      <th></th>\n",
       "      <th></th>\n",
       "      <th></th>\n",
       "      <th></th>\n",
       "      <th></th>\n",
       "    </tr>\n",
       "  </thead>\n",
       "  <tbody>\n",
       "    <tr>\n",
       "      <th>0</th>\n",
       "      <td>44740.724638</td>\n",
       "      <td>65.830833</td>\n",
       "      <td>76.968188</td>\n",
       "      <td>0.444880</td>\n",
       "      <td>34849.73529</td>\n",
       "      <td>142.493116</td>\n",
       "      <td>7.995498</td>\n",
       "      <td>8.161732</td>\n",
       "      <td>7.999828</td>\n",
       "      <td>8.163455</td>\n",
       "      <td>...</td>\n",
       "      <td>447916.211957</td>\n",
       "      <td>156.045942</td>\n",
       "      <td>257.247559</td>\n",
       "      <td>39.644928</td>\n",
       "      <td>542.48279</td>\n",
       "      <td>0.583333</td>\n",
       "      <td>0.141304</td>\n",
       "      <td>0.315217</td>\n",
       "      <td>0.213768</td>\n",
       "      <td>0.32971</td>\n",
       "    </tr>\n",
       "    <tr>\n",
       "      <th>1</th>\n",
       "      <td>41750.347826</td>\n",
       "      <td>62.816843</td>\n",
       "      <td>77.640000</td>\n",
       "      <td>0.445814</td>\n",
       "      <td>34999.61563</td>\n",
       "      <td>141.573043</td>\n",
       "      <td>8.054739</td>\n",
       "      <td>8.232174</td>\n",
       "      <td>8.061152</td>\n",
       "      <td>8.240609</td>\n",
       "      <td>...</td>\n",
       "      <td>455858.095652</td>\n",
       "      <td>160.081130</td>\n",
       "      <td>251.964591</td>\n",
       "      <td>38.626087</td>\n",
       "      <td>543.83587</td>\n",
       "      <td>0.513043</td>\n",
       "      <td>0.139130</td>\n",
       "      <td>0.295652</td>\n",
       "      <td>0.165217</td>\n",
       "      <td>0.40000</td>\n",
       "    </tr>\n",
       "  </tbody>\n",
       "</table>\n",
       "<p>2 rows × 21 columns</p>\n",
       "</div>"
      ],
      "text/plain": [
       "                    Collection  Marketing expense  Production expense  \\\n",
       "Start_Tech_Oscar                                                        \n",
       "0                 44740.724638          65.830833           76.968188   \n",
       "1                 41750.347826          62.816843           77.640000   \n",
       "\n",
       "                  Multiplex coverage       Budget  Movie_length  \\\n",
       "Start_Tech_Oscar                                                  \n",
       "0                           0.444880  34849.73529    142.493116   \n",
       "1                           0.445814  34999.61563    141.573043   \n",
       "\n",
       "                  Lead_ Actor_Rating  Lead_Actress_rating  Director_rating  \\\n",
       "Start_Tech_Oscar                                                             \n",
       "0                           7.995498             8.161732         7.999828   \n",
       "1                           8.054739             8.232174         8.061152   \n",
       "\n",
       "                  Producer_rating  ...  Trailer_views  Time_taken  \\\n",
       "Start_Tech_Oscar                   ...                              \n",
       "0                        8.163455  ...  447916.211957  156.045942   \n",
       "1                        8.240609  ...  455858.095652  160.081130   \n",
       "\n",
       "                  Twitter_hastags  Avg_age_actors  Num_multiplex  \\\n",
       "Start_Tech_Oscar                                                   \n",
       "0                      257.247559       39.644928      542.48279   \n",
       "1                      251.964591       38.626087      543.83587   \n",
       "\n",
       "                  3D_available_YES  Genre_Action  Genre_Comedy  Genre_Drama  \\\n",
       "Start_Tech_Oscar                                                              \n",
       "0                         0.583333      0.141304      0.315217     0.213768   \n",
       "1                         0.513043      0.139130      0.295652     0.165217   \n",
       "\n",
       "                  Genre_Thriller  \n",
       "Start_Tech_Oscar                  \n",
       "0                        0.32971  \n",
       "1                        0.40000  \n",
       "\n",
       "[2 rows x 21 columns]"
      ]
     },
     "execution_count": 226,
     "metadata": {},
     "output_type": "execute_result"
    }
   ],
   "source": [
    "movies.groupby(['Start_Tech_Oscar']).mean()"
   ]
  },
  {
   "cell_type": "code",
   "execution_count": 227,
   "id": "da43afc8",
   "metadata": {},
   "outputs": [
    {
     "data": {
      "text/plain": [
       "<AxesSubplot:xlabel='Budget', ylabel='Start_Tech_Oscar'>"
      ]
     },
     "execution_count": 227,
     "metadata": {},
     "output_type": "execute_result"
    },
    {
     "data": {
      "image/png": "[encoded data removed]",
      "text/plain": [
       "<Figure size 432x288 with 1 Axes>"
      ]
     },
     "metadata": {
      "needs_background": "light"
     },
     "output_type": "display_data"
    }
   ],
   "source": [
    "sb.scatterplot(x=movies.Budget,y=movies.Start_Tech_Oscar)"
   ]
  },
  {
   "cell_type": "code",
   "execution_count": 228,
   "id": "ccbab541",
   "metadata": {},
   "outputs": [],
   "source": [
    "dummy_Set=movies.drop(['Production expense','Multiplex coverage','Movie_length','Lead_ Actor_Rating','Lead_Actress_rating','Producer_rating','Avg_age_actors'],axis=1)"
   ]
  },
  {
   "cell_type": "code",
   "execution_count": 229,
   "id": "f35e8b0e",
   "metadata": {},
   "outputs": [
    {
     "data": {
      "text/html": [
       "<div>\n",
       "<style scoped>\n",
       "    .dataframe tbody tr th:only-of-type {\n",
       "        vertical-align: middle;\n",
       "    }\n",
       "\n",
       "    .dataframe tbody tr th {\n",
       "        vertical-align: top;\n",
       "    }\n",
       "\n",
       "    .dataframe thead th {\n",
       "        text-align: right;\n",
       "    }\n",
       "</style>\n",
       "<table border=\"1\" class=\"dataframe\">\n",
       "  <thead>\n",
       "    <tr style=\"text-align: right;\">\n",
       "      <th></th>\n",
       "      <th>Collection</th>\n",
       "      <th>Marketing expense</th>\n",
       "      <th>Budget</th>\n",
       "      <th>Director_rating</th>\n",
       "      <th>Critic_rating</th>\n",
       "      <th>Trailer_views</th>\n",
       "      <th>Time_taken</th>\n",
       "      <th>Twitter_hastags</th>\n",
       "      <th>Num_multiplex</th>\n",
       "      <th>3D_available_YES</th>\n",
       "      <th>Genre_Action</th>\n",
       "      <th>Genre_Comedy</th>\n",
       "      <th>Genre_Drama</th>\n",
       "      <th>Genre_Thriller</th>\n",
       "    </tr>\n",
       "    <tr>\n",
       "      <th>Start_Tech_Oscar</th>\n",
       "      <th></th>\n",
       "      <th></th>\n",
       "      <th></th>\n",
       "      <th></th>\n",
       "      <th></th>\n",
       "      <th></th>\n",
       "      <th></th>\n",
       "      <th></th>\n",
       "      <th></th>\n",
       "      <th></th>\n",
       "      <th></th>\n",
       "      <th></th>\n",
       "      <th></th>\n",
       "      <th></th>\n",
       "    </tr>\n",
       "  </thead>\n",
       "  <tbody>\n",
       "    <tr>\n",
       "      <th>0</th>\n",
       "      <td>44740.724638</td>\n",
       "      <td>65.830833</td>\n",
       "      <td>34849.73529</td>\n",
       "      <td>7.999828</td>\n",
       "      <td>7.810217</td>\n",
       "      <td>447916.211957</td>\n",
       "      <td>156.045942</td>\n",
       "      <td>257.247559</td>\n",
       "      <td>542.48279</td>\n",
       "      <td>0.583333</td>\n",
       "      <td>0.141304</td>\n",
       "      <td>0.315217</td>\n",
       "      <td>0.213768</td>\n",
       "      <td>0.32971</td>\n",
       "    </tr>\n",
       "    <tr>\n",
       "      <th>1</th>\n",
       "      <td>41750.347826</td>\n",
       "      <td>62.816843</td>\n",
       "      <td>34999.61563</td>\n",
       "      <td>8.061152</td>\n",
       "      <td>7.811652</td>\n",
       "      <td>455858.095652</td>\n",
       "      <td>160.081130</td>\n",
       "      <td>251.964591</td>\n",
       "      <td>543.83587</td>\n",
       "      <td>0.513043</td>\n",
       "      <td>0.139130</td>\n",
       "      <td>0.295652</td>\n",
       "      <td>0.165217</td>\n",
       "      <td>0.40000</td>\n",
       "    </tr>\n",
       "  </tbody>\n",
       "</table>\n",
       "</div>"
      ],
      "text/plain": [
       "                    Collection  Marketing expense       Budget  \\\n",
       "Start_Tech_Oscar                                                 \n",
       "0                 44740.724638          65.830833  34849.73529   \n",
       "1                 41750.347826          62.816843  34999.61563   \n",
       "\n",
       "                  Director_rating  Critic_rating  Trailer_views  Time_taken  \\\n",
       "Start_Tech_Oscar                                                              \n",
       "0                        7.999828       7.810217  447916.211957  156.045942   \n",
       "1                        8.061152       7.811652  455858.095652  160.081130   \n",
       "\n",
       "                  Twitter_hastags  Num_multiplex  3D_available_YES  \\\n",
       "Start_Tech_Oscar                                                     \n",
       "0                      257.247559      542.48279          0.583333   \n",
       "1                      251.964591      543.83587          0.513043   \n",
       "\n",
       "                  Genre_Action  Genre_Comedy  Genre_Drama  Genre_Thriller  \n",
       "Start_Tech_Oscar                                                           \n",
       "0                     0.141304      0.315217     0.213768         0.32971  \n",
       "1                     0.139130      0.295652     0.165217         0.40000  "
      ]
     },
     "execution_count": 229,
     "metadata": {},
     "output_type": "execute_result"
    }
   ],
   "source": [
    "dummy_Set.groupby(['Start_Tech_Oscar']).mean()"
   ]
  },
  {
   "cell_type": "markdown",
   "id": "93ce0816",
   "metadata": {},
   "source": [
    "# Classification Model"
   ]
  },
  {
   "cell_type": "code",
   "execution_count": 230,
   "id": "7270f42d",
   "metadata": {},
   "outputs": [],
   "source": [
    "X=movies[['Budget']]\n",
    "y=movies['Start_Tech_Oscar']"
   ]
  },
  {
   "cell_type": "code",
   "execution_count": 231,
   "id": "4ecf65e3",
   "metadata": {},
   "outputs": [
    {
     "data": {
      "text/plain": [
       "LogisticRegression()"
      ]
     },
     "execution_count": 231,
     "metadata": {},
     "output_type": "execute_result"
    }
   ],
   "source": [
    "from sklearn.linear_model import LogisticRegression\n",
    "\n",
    "classifier_model=LogisticRegression()\n",
    "classifier_model.fit(X,y)"
   ]
  },
  {
   "cell_type": "code",
   "execution_count": 232,
   "id": "28fa09e2",
   "metadata": {},
   "outputs": [
    {
     "data": {
      "text/plain": [
       "array([[-5.05578871e-06]])"
      ]
     },
     "execution_count": 232,
     "metadata": {},
     "output_type": "execute_result"
    }
   ],
   "source": [
    "classifier_model.coef_"
   ]
  },
  {
   "cell_type": "code",
   "execution_count": 233,
   "id": "5d2a6374",
   "metadata": {},
   "outputs": [
    {
     "data": {
      "text/plain": [
       "array([-1.57690073e-10])"
      ]
     },
     "execution_count": 233,
     "metadata": {},
     "output_type": "execute_result"
    }
   ],
   "source": [
    "classifier_model.intercept_"
   ]
  },
  {
   "cell_type": "code",
   "execution_count": 234,
   "id": "4cacf20a",
   "metadata": {},
   "outputs": [],
   "source": [
    "import statsmodels.api as sn"
   ]
  },
  {
   "cell_type": "code",
   "execution_count": 235,
   "id": "70236601",
   "metadata": {},
   "outputs": [],
   "source": [
    "X_const=sn.add_constant(X)"
   ]
  },
  {
   "cell_type": "code",
   "execution_count": 236,
   "id": "a6bb71b1",
   "metadata": {},
   "outputs": [
    {
     "data": {
      "text/html": [
       "<div>\n",
       "<style scoped>\n",
       "    .dataframe tbody tr th:only-of-type {\n",
       "        vertical-align: middle;\n",
       "    }\n",
       "\n",
       "    .dataframe tbody tr th {\n",
       "        vertical-align: top;\n",
       "    }\n",
       "\n",
       "    .dataframe thead th {\n",
       "        text-align: right;\n",
       "    }\n",
       "</style>\n",
       "<table border=\"1\" class=\"dataframe\">\n",
       "  <thead>\n",
       "    <tr style=\"text-align: right;\">\n",
       "      <th></th>\n",
       "      <th>const</th>\n",
       "      <th>Budget</th>\n",
       "    </tr>\n",
       "  </thead>\n",
       "  <tbody>\n",
       "    <tr>\n",
       "      <th>0</th>\n",
       "      <td>1.0</td>\n",
       "      <td>36524.125</td>\n",
       "    </tr>\n",
       "    <tr>\n",
       "      <th>1</th>\n",
       "      <td>1.0</td>\n",
       "      <td>35668.655</td>\n",
       "    </tr>\n",
       "    <tr>\n",
       "      <th>2</th>\n",
       "      <td>1.0</td>\n",
       "      <td>39912.675</td>\n",
       "    </tr>\n",
       "    <tr>\n",
       "      <th>3</th>\n",
       "      <td>1.0</td>\n",
       "      <td>38873.890</td>\n",
       "    </tr>\n",
       "    <tr>\n",
       "      <th>4</th>\n",
       "      <td>1.0</td>\n",
       "      <td>39701.585</td>\n",
       "    </tr>\n",
       "  </tbody>\n",
       "</table>\n",
       "</div>"
      ],
      "text/plain": [
       "   const     Budget\n",
       "0    1.0  36524.125\n",
       "1    1.0  35668.655\n",
       "2    1.0  39912.675\n",
       "3    1.0  38873.890\n",
       "4    1.0  39701.585"
      ]
     },
     "execution_count": 236,
     "metadata": {},
     "output_type": "execute_result"
    }
   ],
   "source": [
    "X_const.head()"
   ]
  },
  {
   "cell_type": "code",
   "execution_count": 237,
   "id": "6cfb2303",
   "metadata": {},
   "outputs": [],
   "source": [
    "import statsmodels.discrete.discrete_model as sm"
   ]
  },
  {
   "cell_type": "code",
   "execution_count": 238,
   "id": "8df97003",
   "metadata": {},
   "outputs": [
    {
     "name": "stdout",
     "output_type": "stream",
     "text": [
      "Optimization terminated successfully.\n",
      "         Current function value: 0.688741\n",
      "         Iterations 4\n"
     ]
    }
   ],
   "source": [
    "logit=sm.Logit(y,X_const).fit()"
   ]
  },
  {
   "cell_type": "code",
   "execution_count": 239,
   "id": "69529907",
   "metadata": {},
   "outputs": [
    {
     "data": {
      "text/html": [
       "<table class=\"simpletable\">\n",
       "<caption>Logit Regression Results</caption>\n",
       "<tr>\n",
       "  <th>Dep. Variable:</th>   <td>Start_Tech_Oscar</td> <th>  No. Observations:  </th>  <td>   506</td>  \n",
       "</tr>\n",
       "<tr>\n",
       "  <th>Model:</th>                 <td>Logit</td>      <th>  Df Residuals:      </th>  <td>   504</td>  \n",
       "</tr>\n",
       "<tr>\n",
       "  <th>Method:</th>                 <td>MLE</td>       <th>  Df Model:          </th>  <td>     1</td>  \n",
       "</tr>\n",
       "<tr>\n",
       "  <th>Date:</th>            <td>Mon, 29 Nov 2021</td> <th>  Pseudo R-squ.:     </th> <td>0.0003886</td>\n",
       "</tr>\n",
       "<tr>\n",
       "  <th>Time:</th>                <td>15:57:05</td>     <th>  Log-Likelihood:    </th> <td> -348.50</td> \n",
       "</tr>\n",
       "<tr>\n",
       "  <th>converged:</th>             <td>True</td>       <th>  LL-Null:           </th> <td> -348.64</td> \n",
       "</tr>\n",
       "<tr>\n",
       "  <th>Covariance Type:</th>     <td>nonrobust</td>    <th>  LLR p-value:       </th>  <td>0.6027</td>  \n",
       "</tr>\n",
       "</table>\n",
       "<table class=\"simpletable\">\n",
       "<tr>\n",
       "     <td></td>       <th>coef</th>     <th>std err</th>      <th>z</th>      <th>P>|z|</th>  <th>[0.025</th>    <th>0.975]</th>  \n",
       "</tr>\n",
       "<tr>\n",
       "  <th>const</th>  <td>   -0.6856</td> <td>    0.971</td> <td>   -0.706</td> <td> 0.480</td> <td>   -2.589</td> <td>    1.218</td>\n",
       "</tr>\n",
       "<tr>\n",
       "  <th>Budget</th> <td> 1.441e-05</td> <td> 2.77e-05</td> <td>    0.521</td> <td> 0.603</td> <td>-3.98e-05</td> <td> 6.87e-05</td>\n",
       "</tr>\n",
       "</table>"
      ],
      "text/plain": [
       "<class 'statsmodels.iolib.summary.Summary'>\n",
       "\"\"\"\n",
       "                           Logit Regression Results                           \n",
       "==============================================================================\n",
       "Dep. Variable:       Start_Tech_Oscar   No. Observations:                  506\n",
       "Model:                          Logit   Df Residuals:                      504\n",
       "Method:                           MLE   Df Model:                            1\n",
       "Date:                Mon, 29 Nov 2021   Pseudo R-squ.:               0.0003886\n",
       "Time:                        15:57:05   Log-Likelihood:                -348.50\n",
       "converged:                       True   LL-Null:                       -348.64\n",
       "Covariance Type:            nonrobust   LLR p-value:                    0.6027\n",
       "==============================================================================\n",
       "                 coef    std err          z      P>|z|      [0.025      0.975]\n",
       "------------------------------------------------------------------------------\n",
       "const         -0.6856      0.971     -0.706      0.480      -2.589       1.218\n",
       "Budget      1.441e-05   2.77e-05      0.521      0.603   -3.98e-05    6.87e-05\n",
       "==============================================================================\n",
       "\"\"\""
      ]
     },
     "execution_count": 239,
     "metadata": {},
     "output_type": "execute_result"
    }
   ],
   "source": [
    "logit.summary()"
   ]
  },
  {
   "cell_type": "markdown",
   "id": "cf23a4b1",
   "metadata": {},
   "source": [
    "# Multiple"
   ]
  },
  {
   "cell_type": "code",
   "execution_count": 240,
   "id": "5fc22d6b",
   "metadata": {},
   "outputs": [],
   "source": [
    "X=movies.loc[:,movies.columns!='Start_Tech_Oscar']"
   ]
  },
  {
   "cell_type": "code",
   "execution_count": 241,
   "id": "7d69e39c",
   "metadata": {},
   "outputs": [
    {
     "data": {
      "text/html": [
       "<div>\n",
       "<style scoped>\n",
       "    .dataframe tbody tr th:only-of-type {\n",
       "        vertical-align: middle;\n",
       "    }\n",
       "\n",
       "    .dataframe tbody tr th {\n",
       "        vertical-align: top;\n",
       "    }\n",
       "\n",
       "    .dataframe thead th {\n",
       "        text-align: right;\n",
       "    }\n",
       "</style>\n",
       "<table border=\"1\" class=\"dataframe\">\n",
       "  <thead>\n",
       "    <tr style=\"text-align: right;\">\n",
       "      <th></th>\n",
       "      <th>Collection</th>\n",
       "      <th>Marketing expense</th>\n",
       "      <th>Production expense</th>\n",
       "      <th>Multiplex coverage</th>\n",
       "      <th>Budget</th>\n",
       "      <th>Movie_length</th>\n",
       "      <th>Lead_ Actor_Rating</th>\n",
       "      <th>Lead_Actress_rating</th>\n",
       "      <th>Director_rating</th>\n",
       "      <th>Producer_rating</th>\n",
       "      <th>...</th>\n",
       "      <th>Trailer_views</th>\n",
       "      <th>Time_taken</th>\n",
       "      <th>Twitter_hastags</th>\n",
       "      <th>Avg_age_actors</th>\n",
       "      <th>Num_multiplex</th>\n",
       "      <th>3D_available_YES</th>\n",
       "      <th>Genre_Action</th>\n",
       "      <th>Genre_Comedy</th>\n",
       "      <th>Genre_Drama</th>\n",
       "      <th>Genre_Thriller</th>\n",
       "    </tr>\n",
       "  </thead>\n",
       "  <tbody>\n",
       "    <tr>\n",
       "      <th>0</th>\n",
       "      <td>48000</td>\n",
       "      <td>20.1264</td>\n",
       "      <td>59.62</td>\n",
       "      <td>0.462</td>\n",
       "      <td>36524.125</td>\n",
       "      <td>138.7</td>\n",
       "      <td>7.825</td>\n",
       "      <td>8.095</td>\n",
       "      <td>7.910</td>\n",
       "      <td>7.995</td>\n",
       "      <td>...</td>\n",
       "      <td>527367.0</td>\n",
       "      <td>109.60</td>\n",
       "      <td>223.8400</td>\n",
       "      <td>23</td>\n",
       "      <td>494.0</td>\n",
       "      <td>1</td>\n",
       "      <td>0</td>\n",
       "      <td>0</td>\n",
       "      <td>0</td>\n",
       "      <td>1</td>\n",
       "    </tr>\n",
       "    <tr>\n",
       "      <th>1</th>\n",
       "      <td>43200</td>\n",
       "      <td>20.5462</td>\n",
       "      <td>69.14</td>\n",
       "      <td>0.531</td>\n",
       "      <td>35668.655</td>\n",
       "      <td>152.4</td>\n",
       "      <td>7.505</td>\n",
       "      <td>7.650</td>\n",
       "      <td>7.440</td>\n",
       "      <td>7.470</td>\n",
       "      <td>...</td>\n",
       "      <td>494055.0</td>\n",
       "      <td>146.64</td>\n",
       "      <td>243.4560</td>\n",
       "      <td>42</td>\n",
       "      <td>462.0</td>\n",
       "      <td>0</td>\n",
       "      <td>0</td>\n",
       "      <td>0</td>\n",
       "      <td>1</td>\n",
       "      <td>0</td>\n",
       "    </tr>\n",
       "    <tr>\n",
       "      <th>2</th>\n",
       "      <td>69300</td>\n",
       "      <td>20.5458</td>\n",
       "      <td>69.14</td>\n",
       "      <td>0.531</td>\n",
       "      <td>39912.675</td>\n",
       "      <td>134.6</td>\n",
       "      <td>7.485</td>\n",
       "      <td>7.570</td>\n",
       "      <td>7.495</td>\n",
       "      <td>7.515</td>\n",
       "      <td>...</td>\n",
       "      <td>547051.0</td>\n",
       "      <td>147.88</td>\n",
       "      <td>307.9904</td>\n",
       "      <td>38</td>\n",
       "      <td>458.0</td>\n",
       "      <td>0</td>\n",
       "      <td>0</td>\n",
       "      <td>1</td>\n",
       "      <td>0</td>\n",
       "      <td>0</td>\n",
       "    </tr>\n",
       "    <tr>\n",
       "      <th>3</th>\n",
       "      <td>66800</td>\n",
       "      <td>20.6474</td>\n",
       "      <td>59.36</td>\n",
       "      <td>0.542</td>\n",
       "      <td>38873.890</td>\n",
       "      <td>119.3</td>\n",
       "      <td>6.895</td>\n",
       "      <td>7.035</td>\n",
       "      <td>6.920</td>\n",
       "      <td>7.020</td>\n",
       "      <td>...</td>\n",
       "      <td>516279.0</td>\n",
       "      <td>185.36</td>\n",
       "      <td>225.3440</td>\n",
       "      <td>45</td>\n",
       "      <td>472.0</td>\n",
       "      <td>1</td>\n",
       "      <td>0</td>\n",
       "      <td>0</td>\n",
       "      <td>1</td>\n",
       "      <td>0</td>\n",
       "    </tr>\n",
       "    <tr>\n",
       "      <th>4</th>\n",
       "      <td>69300</td>\n",
       "      <td>21.3810</td>\n",
       "      <td>59.36</td>\n",
       "      <td>0.542</td>\n",
       "      <td>39701.585</td>\n",
       "      <td>127.7</td>\n",
       "      <td>6.920</td>\n",
       "      <td>7.070</td>\n",
       "      <td>6.815</td>\n",
       "      <td>7.070</td>\n",
       "      <td>...</td>\n",
       "      <td>531448.0</td>\n",
       "      <td>176.48</td>\n",
       "      <td>225.7920</td>\n",
       "      <td>55</td>\n",
       "      <td>395.0</td>\n",
       "      <td>0</td>\n",
       "      <td>0</td>\n",
       "      <td>0</td>\n",
       "      <td>1</td>\n",
       "      <td>0</td>\n",
       "    </tr>\n",
       "    <tr>\n",
       "      <th>...</th>\n",
       "      <td>...</td>\n",
       "      <td>...</td>\n",
       "      <td>...</td>\n",
       "      <td>...</td>\n",
       "      <td>...</td>\n",
       "      <td>...</td>\n",
       "      <td>...</td>\n",
       "      <td>...</td>\n",
       "      <td>...</td>\n",
       "      <td>...</td>\n",
       "      <td>...</td>\n",
       "      <td>...</td>\n",
       "      <td>...</td>\n",
       "      <td>...</td>\n",
       "      <td>...</td>\n",
       "      <td>...</td>\n",
       "      <td>...</td>\n",
       "      <td>...</td>\n",
       "      <td>...</td>\n",
       "      <td>...</td>\n",
       "      <td>...</td>\n",
       "    </tr>\n",
       "    <tr>\n",
       "      <th>501</th>\n",
       "      <td>44800</td>\n",
       "      <td>21.2526</td>\n",
       "      <td>78.86</td>\n",
       "      <td>0.427</td>\n",
       "      <td>36624.115</td>\n",
       "      <td>142.6</td>\n",
       "      <td>8.680</td>\n",
       "      <td>8.775</td>\n",
       "      <td>8.620</td>\n",
       "      <td>8.970</td>\n",
       "      <td>...</td>\n",
       "      <td>492480.0</td>\n",
       "      <td>186.96</td>\n",
       "      <td>243.5840</td>\n",
       "      <td>27</td>\n",
       "      <td>561.0</td>\n",
       "      <td>0</td>\n",
       "      <td>1</td>\n",
       "      <td>0</td>\n",
       "      <td>0</td>\n",
       "      <td>0</td>\n",
       "    </tr>\n",
       "    <tr>\n",
       "      <th>502</th>\n",
       "      <td>41200</td>\n",
       "      <td>20.9054</td>\n",
       "      <td>78.86</td>\n",
       "      <td>0.427</td>\n",
       "      <td>33996.600</td>\n",
       "      <td>150.2</td>\n",
       "      <td>8.780</td>\n",
       "      <td>8.945</td>\n",
       "      <td>8.770</td>\n",
       "      <td>8.930</td>\n",
       "      <td>...</td>\n",
       "      <td>482875.0</td>\n",
       "      <td>132.24</td>\n",
       "      <td>263.2960</td>\n",
       "      <td>20</td>\n",
       "      <td>600.0</td>\n",
       "      <td>1</td>\n",
       "      <td>1</td>\n",
       "      <td>0</td>\n",
       "      <td>0</td>\n",
       "      <td>0</td>\n",
       "    </tr>\n",
       "    <tr>\n",
       "      <th>503</th>\n",
       "      <td>47800</td>\n",
       "      <td>21.2152</td>\n",
       "      <td>78.86</td>\n",
       "      <td>0.427</td>\n",
       "      <td>38751.680</td>\n",
       "      <td>164.5</td>\n",
       "      <td>8.830</td>\n",
       "      <td>8.970</td>\n",
       "      <td>8.855</td>\n",
       "      <td>9.010</td>\n",
       "      <td>...</td>\n",
       "      <td>532239.0</td>\n",
       "      <td>109.56</td>\n",
       "      <td>243.8240</td>\n",
       "      <td>31</td>\n",
       "      <td>576.0</td>\n",
       "      <td>0</td>\n",
       "      <td>0</td>\n",
       "      <td>1</td>\n",
       "      <td>0</td>\n",
       "      <td>0</td>\n",
       "    </tr>\n",
       "    <tr>\n",
       "      <th>504</th>\n",
       "      <td>44000</td>\n",
       "      <td>22.1918</td>\n",
       "      <td>78.86</td>\n",
       "      <td>0.427</td>\n",
       "      <td>37740.670</td>\n",
       "      <td>162.8</td>\n",
       "      <td>8.730</td>\n",
       "      <td>8.845</td>\n",
       "      <td>8.800</td>\n",
       "      <td>8.845</td>\n",
       "      <td>...</td>\n",
       "      <td>496077.0</td>\n",
       "      <td>158.80</td>\n",
       "      <td>303.5200</td>\n",
       "      <td>47</td>\n",
       "      <td>607.0</td>\n",
       "      <td>1</td>\n",
       "      <td>0</td>\n",
       "      <td>1</td>\n",
       "      <td>0</td>\n",
       "      <td>0</td>\n",
       "    </tr>\n",
       "    <tr>\n",
       "      <th>505</th>\n",
       "      <td>38000</td>\n",
       "      <td>20.9482</td>\n",
       "      <td>78.86</td>\n",
       "      <td>0.427</td>\n",
       "      <td>33496.650</td>\n",
       "      <td>154.3</td>\n",
       "      <td>8.640</td>\n",
       "      <td>8.880</td>\n",
       "      <td>8.680</td>\n",
       "      <td>8.790</td>\n",
       "      <td>...</td>\n",
       "      <td>518438.0</td>\n",
       "      <td>205.60</td>\n",
       "      <td>203.0400</td>\n",
       "      <td>45</td>\n",
       "      <td>604.0</td>\n",
       "      <td>1</td>\n",
       "      <td>0</td>\n",
       "      <td>1</td>\n",
       "      <td>0</td>\n",
       "      <td>0</td>\n",
       "    </tr>\n",
       "  </tbody>\n",
       "</table>\n",
       "<p>506 rows × 21 columns</p>\n",
       "</div>"
      ],
      "text/plain": [
       "     Collection  Marketing expense  Production expense  Multiplex coverage  \\\n",
       "0         48000            20.1264               59.62               0.462   \n",
       "1         43200            20.5462               69.14               0.531   \n",
       "2         69300            20.5458               69.14               0.531   \n",
       "3         66800            20.6474               59.36               0.542   \n",
       "4         69300            21.3810               59.36               0.542   \n",
       "..          ...                ...                 ...                 ...   \n",
       "501       44800            21.2526               78.86               0.427   \n",
       "502       41200            20.9054               78.86               0.427   \n",
       "503       47800            21.2152               78.86               0.427   \n",
       "504       44000            22.1918               78.86               0.427   \n",
       "505       38000            20.9482               78.86               0.427   \n",
       "\n",
       "        Budget  Movie_length  Lead_ Actor_Rating  Lead_Actress_rating  \\\n",
       "0    36524.125         138.7               7.825                8.095   \n",
       "1    35668.655         152.4               7.505                7.650   \n",
       "2    39912.675         134.6               7.485                7.570   \n",
       "3    38873.890         119.3               6.895                7.035   \n",
       "4    39701.585         127.7               6.920                7.070   \n",
       "..         ...           ...                 ...                  ...   \n",
       "501  36624.115         142.6               8.680                8.775   \n",
       "502  33996.600         150.2               8.780                8.945   \n",
       "503  38751.680         164.5               8.830                8.970   \n",
       "504  37740.670         162.8               8.730                8.845   \n",
       "505  33496.650         154.3               8.640                8.880   \n",
       "\n",
       "     Director_rating  Producer_rating  ...  Trailer_views  Time_taken  \\\n",
       "0              7.910            7.995  ...       527367.0      109.60   \n",
       "1              7.440            7.470  ...       494055.0      146.64   \n",
       "2              7.495            7.515  ...       547051.0      147.88   \n",
       "3              6.920            7.020  ...       516279.0      185.36   \n",
       "4              6.815            7.070  ...       531448.0      176.48   \n",
       "..               ...              ...  ...            ...         ...   \n",
       "501            8.620            8.970  ...       492480.0      186.96   \n",
       "502            8.770            8.930  ...       482875.0      132.24   \n",
       "503            8.855            9.010  ...       532239.0      109.56   \n",
       "504            8.800            8.845  ...       496077.0      158.80   \n",
       "505            8.680            8.790  ...       518438.0      205.60   \n",
       "\n",
       "     Twitter_hastags  Avg_age_actors  Num_multiplex  3D_available_YES  \\\n",
       "0           223.8400              23          494.0                 1   \n",
       "1           243.4560              42          462.0                 0   \n",
       "2           307.9904              38          458.0                 0   \n",
       "3           225.3440              45          472.0                 1   \n",
       "4           225.7920              55          395.0                 0   \n",
       "..               ...             ...            ...               ...   \n",
       "501         243.5840              27          561.0                 0   \n",
       "502         263.2960              20          600.0                 1   \n",
       "503         243.8240              31          576.0                 0   \n",
       "504         303.5200              47          607.0                 1   \n",
       "505         203.0400              45          604.0                 1   \n",
       "\n",
       "     Genre_Action  Genre_Comedy  Genre_Drama  Genre_Thriller  \n",
       "0               0             0            0               1  \n",
       "1               0             0            1               0  \n",
       "2               0             1            0               0  \n",
       "3               0             0            1               0  \n",
       "4               0             0            1               0  \n",
       "..            ...           ...          ...             ...  \n",
       "501             1             0            0               0  \n",
       "502             1             0            0               0  \n",
       "503             0             1            0               0  \n",
       "504             0             1            0               0  \n",
       "505             0             1            0               0  \n",
       "\n",
       "[506 rows x 21 columns]"
      ]
     },
     "execution_count": 241,
     "metadata": {},
     "output_type": "execute_result"
    }
   ],
   "source": [
    "X"
   ]
  },
  {
   "cell_type": "code",
   "execution_count": 242,
   "id": "ecff4b9c",
   "metadata": {},
   "outputs": [],
   "source": [
    "y=movies['Start_Tech_Oscar']"
   ]
  },
  {
   "cell_type": "code",
   "execution_count": 243,
   "id": "c07a8212",
   "metadata": {},
   "outputs": [
    {
     "data": {
      "text/plain": [
       "0      0\n",
       "1      1\n",
       "2      0\n",
       "3      0\n",
       "4      0\n",
       "      ..\n",
       "501    1\n",
       "502    1\n",
       "503    1\n",
       "504    1\n",
       "505    1\n",
       "Name: Start_Tech_Oscar, Length: 506, dtype: int64"
      ]
     },
     "execution_count": 243,
     "metadata": {},
     "output_type": "execute_result"
    }
   ],
   "source": [
    "y"
   ]
  },
  {
   "cell_type": "code",
   "execution_count": 244,
   "id": "66689857",
   "metadata": {},
   "outputs": [],
   "source": [
    "multiple_regressior=LogisticRegression()"
   ]
  },
  {
   "cell_type": "code",
   "execution_count": 245,
   "id": "b3957710",
   "metadata": {},
   "outputs": [
    {
     "name": "stderr",
     "output_type": "stream",
     "text": [
      "C:\\Users\\Zen\\anaconda3\\lib\\site-packages\\sklearn\\linear_model\\_logistic.py:763: ConvergenceWarning: lbfgs failed to converge (status=1):\n",
      "STOP: TOTAL NO. of ITERATIONS REACHED LIMIT.\n",
      "\n",
      "Increase the number of iterations (max_iter) or scale the data as shown in:\n",
      "    https://scikit-learn.org/stable/modules/preprocessing.html\n",
      "Please also refer to the documentation for alternative solver options:\n",
      "    https://scikit-learn.org/stable/modules/linear_model.html#logistic-regression\n",
      "  n_iter_i = _check_optimize_result(\n"
     ]
    },
    {
     "data": {
      "text/plain": [
       "LogisticRegression()"
      ]
     },
     "execution_count": 245,
     "metadata": {},
     "output_type": "execute_result"
    }
   ],
   "source": [
    "multiple_regressior.fit(X,y)"
   ]
  },
  {
   "cell_type": "code",
   "execution_count": 246,
   "id": "0a46ae6e",
   "metadata": {},
   "outputs": [
    {
     "data": {
      "text/plain": [
       "array([[-6.74686570e-05, -2.23726628e-03, -1.33735408e-03,\n",
       "        -3.17974130e-05,  5.33068628e-05, -3.66992841e-03,\n",
       "         1.07553552e-04,  1.25018449e-04,  1.16871186e-04,\n",
       "         1.38165819e-04, -1.61253543e-04,  7.76563242e-06,\n",
       "         3.19334960e-03, -8.16329050e-03, -3.22578804e-03,\n",
       "        -2.90687657e-04, -1.18724825e-04, -1.35313539e-05,\n",
       "        -6.31556267e-05, -9.54241353e-05,  1.33101648e-04]])"
      ]
     },
     "execution_count": 246,
     "metadata": {},
     "output_type": "execute_result"
    }
   ],
   "source": [
    "multiple_regressior.coef_"
   ]
  },
  {
   "cell_type": "code",
   "execution_count": 247,
   "id": "c0221505",
   "metadata": {},
   "outputs": [
    {
     "data": {
      "text/plain": [
       "array([-3.9009675e-05])"
      ]
     },
     "execution_count": 247,
     "metadata": {},
     "output_type": "execute_result"
    }
   ],
   "source": [
    "multiple_regressior.intercept_"
   ]
  },
  {
   "cell_type": "code",
   "execution_count": 248,
   "id": "13db96f7",
   "metadata": {},
   "outputs": [
    {
     "name": "stdout",
     "output_type": "stream",
     "text": [
      "Optimization terminated successfully.\n",
      "         Current function value: 0.614285\n",
      "         Iterations 6\n"
     ]
    }
   ],
   "source": [
    "X_const=sn.add_constant(X)\n",
    "logit=sm.Logit(y,X_const).fit()"
   ]
  },
  {
   "cell_type": "code",
   "execution_count": 249,
   "id": "9f194470",
   "metadata": {},
   "outputs": [
    {
     "data": {
      "text/html": [
       "<table class=\"simpletable\">\n",
       "<caption>Logit Regression Results</caption>\n",
       "<tr>\n",
       "  <th>Dep. Variable:</th>   <td>Start_Tech_Oscar</td> <th>  No. Observations:  </th>  <td>   506</td>  \n",
       "</tr>\n",
       "<tr>\n",
       "  <th>Model:</th>                 <td>Logit</td>      <th>  Df Residuals:      </th>  <td>   485</td>  \n",
       "</tr>\n",
       "<tr>\n",
       "  <th>Method:</th>                 <td>MLE</td>       <th>  Df Model:          </th>  <td>    20</td>  \n",
       "</tr>\n",
       "<tr>\n",
       "  <th>Date:</th>            <td>Mon, 29 Nov 2021</td> <th>  Pseudo R-squ.:     </th>  <td>0.1085</td>  \n",
       "</tr>\n",
       "<tr>\n",
       "  <th>Time:</th>                <td>15:57:05</td>     <th>  Log-Likelihood:    </th> <td> -310.83</td> \n",
       "</tr>\n",
       "<tr>\n",
       "  <th>converged:</th>             <td>True</td>       <th>  LL-Null:           </th> <td> -348.64</td> \n",
       "</tr>\n",
       "<tr>\n",
       "  <th>Covariance Type:</th>     <td>nonrobust</td>    <th>  LLR p-value:       </th> <td>2.146e-08</td>\n",
       "</tr>\n",
       "</table>\n",
       "<table class=\"simpletable\">\n",
       "<tr>\n",
       "           <td></td>              <th>coef</th>     <th>std err</th>      <th>z</th>      <th>P>|z|</th>  <th>[0.025</th>    <th>0.975]</th>  \n",
       "</tr>\n",
       "<tr>\n",
       "  <th>const</th>               <td>  -12.2972</td> <td> 4.82e+06</td> <td>-2.55e-06</td> <td> 1.000</td> <td>-9.45e+06</td> <td> 9.45e+06</td>\n",
       "</tr>\n",
       "<tr>\n",
       "  <th>Collection</th>          <td>   -0.0001</td> <td> 1.66e-05</td> <td>   -6.454</td> <td> 0.000</td> <td>   -0.000</td> <td>-7.48e-05</td>\n",
       "</tr>\n",
       "<tr>\n",
       "  <th>Marketing expense</th>   <td>   -0.0051</td> <td>    0.002</td> <td>   -2.082</td> <td> 0.037</td> <td>   -0.010</td> <td>   -0.000</td>\n",
       "</tr>\n",
       "<tr>\n",
       "  <th>Production expense</th>  <td>   -0.0006</td> <td>    0.013</td> <td>   -0.048</td> <td> 0.961</td> <td>   -0.025</td> <td>    0.024</td>\n",
       "</tr>\n",
       "<tr>\n",
       "  <th>Multiplex coverage</th>  <td>    3.2077</td> <td>    2.393</td> <td>    1.341</td> <td> 0.180</td> <td>   -1.482</td> <td>    7.897</td>\n",
       "</tr>\n",
       "<tr>\n",
       "  <th>Budget</th>              <td>    0.0002</td> <td> 5.08e-05</td> <td>    3.152</td> <td> 0.002</td> <td> 6.06e-05</td> <td>    0.000</td>\n",
       "</tr>\n",
       "<tr>\n",
       "  <th>Movie_length</th>        <td>   -0.0072</td> <td>    0.006</td> <td>   -1.162</td> <td> 0.245</td> <td>   -0.019</td> <td>    0.005</td>\n",
       "</tr>\n",
       "<tr>\n",
       "  <th>Lead_ Actor_Rating</th>  <td>   -2.1221</td> <td>    1.637</td> <td>   -1.296</td> <td> 0.195</td> <td>   -5.331</td> <td>    1.086</td>\n",
       "</tr>\n",
       "<tr>\n",
       "  <th>Lead_Actress_rating</th> <td>    2.4511</td> <td>    1.750</td> <td>    1.400</td> <td> 0.161</td> <td>   -0.979</td> <td>    5.881</td>\n",
       "</tr>\n",
       "<tr>\n",
       "  <th>Director_rating</th>     <td>   -1.4867</td> <td>    1.708</td> <td>   -0.870</td> <td> 0.384</td> <td>   -4.834</td> <td>    1.861</td>\n",
       "</tr>\n",
       "<tr>\n",
       "  <th>Producer_rating</th>     <td>    1.7355</td> <td>    0.921</td> <td>    1.885</td> <td> 0.059</td> <td>   -0.069</td> <td>    3.540</td>\n",
       "</tr>\n",
       "<tr>\n",
       "  <th>Critic_rating</th>       <td>    0.2278</td> <td>    0.161</td> <td>    1.411</td> <td> 0.158</td> <td>   -0.089</td> <td>    0.544</td>\n",
       "</tr>\n",
       "<tr>\n",
       "  <th>Trailer_views</th>       <td> 1.334e-05</td> <td> 3.13e-06</td> <td>    4.263</td> <td> 0.000</td> <td> 7.21e-06</td> <td> 1.95e-05</td>\n",
       "</tr>\n",
       "<tr>\n",
       "  <th>Time_taken</th>          <td>    0.0066</td> <td>    0.003</td> <td>    1.971</td> <td> 0.049</td> <td> 3.82e-05</td> <td>    0.013</td>\n",
       "</tr>\n",
       "<tr>\n",
       "  <th>Twitter_hastags</th>     <td>   -0.0032</td> <td>    0.003</td> <td>   -1.119</td> <td> 0.263</td> <td>   -0.009</td> <td>    0.002</td>\n",
       "</tr>\n",
       "<tr>\n",
       "  <th>Avg_age_actors</th>      <td>   -0.0038</td> <td>    0.008</td> <td>   -0.475</td> <td> 0.634</td> <td>   -0.019</td> <td>    0.012</td>\n",
       "</tr>\n",
       "<tr>\n",
       "  <th>Num_multiplex</th>       <td>    0.0020</td> <td>    0.002</td> <td>    0.850</td> <td> 0.395</td> <td>   -0.003</td> <td>    0.007</td>\n",
       "</tr>\n",
       "<tr>\n",
       "  <th>3D_available_YES</th>    <td>   -0.2810</td> <td>    0.201</td> <td>   -1.396</td> <td> 0.163</td> <td>   -0.675</td> <td>    0.113</td>\n",
       "</tr>\n",
       "<tr>\n",
       "  <th>Genre_Action</th>        <td>   -3.1368</td> <td> 4.82e+06</td> <td>-6.51e-07</td> <td> 1.000</td> <td>-9.45e+06</td> <td> 9.45e+06</td>\n",
       "</tr>\n",
       "<tr>\n",
       "  <th>Genre_Comedy</th>        <td>   -3.1277</td> <td> 4.82e+06</td> <td>-6.49e-07</td> <td> 1.000</td> <td>-9.45e+06</td> <td> 9.45e+06</td>\n",
       "</tr>\n",
       "<tr>\n",
       "  <th>Genre_Drama</th>         <td>   -3.2180</td> <td> 4.82e+06</td> <td>-6.67e-07</td> <td> 1.000</td> <td>-9.45e+06</td> <td> 9.45e+06</td>\n",
       "</tr>\n",
       "<tr>\n",
       "  <th>Genre_Thriller</th>      <td>   -2.8147</td> <td> 4.82e+06</td> <td>-5.84e-07</td> <td> 1.000</td> <td>-9.45e+06</td> <td> 9.45e+06</td>\n",
       "</tr>\n",
       "</table>"
      ],
      "text/plain": [
       "<class 'statsmodels.iolib.summary.Summary'>\n",
       "\"\"\"\n",
       "                           Logit Regression Results                           \n",
       "==============================================================================\n",
       "Dep. Variable:       Start_Tech_Oscar   No. Observations:                  506\n",
       "Model:                          Logit   Df Residuals:                      485\n",
       "Method:                           MLE   Df Model:                           20\n",
       "Date:                Mon, 29 Nov 2021   Pseudo R-squ.:                  0.1085\n",
       "Time:                        15:57:05   Log-Likelihood:                -310.83\n",
       "converged:                       True   LL-Null:                       -348.64\n",
       "Covariance Type:            nonrobust   LLR p-value:                 2.146e-08\n",
       "=======================================================================================\n",
       "                          coef    std err          z      P>|z|      [0.025      0.975]\n",
       "---------------------------------------------------------------------------------------\n",
       "const                 -12.2972   4.82e+06  -2.55e-06      1.000   -9.45e+06    9.45e+06\n",
       "Collection             -0.0001   1.66e-05     -6.454      0.000      -0.000   -7.48e-05\n",
       "Marketing expense      -0.0051      0.002     -2.082      0.037      -0.010      -0.000\n",
       "Production expense     -0.0006      0.013     -0.048      0.961      -0.025       0.024\n",
       "Multiplex coverage      3.2077      2.393      1.341      0.180      -1.482       7.897\n",
       "Budget                  0.0002   5.08e-05      3.152      0.002    6.06e-05       0.000\n",
       "Movie_length           -0.0072      0.006     -1.162      0.245      -0.019       0.005\n",
       "Lead_ Actor_Rating     -2.1221      1.637     -1.296      0.195      -5.331       1.086\n",
       "Lead_Actress_rating     2.4511      1.750      1.400      0.161      -0.979       5.881\n",
       "Director_rating        -1.4867      1.708     -0.870      0.384      -4.834       1.861\n",
       "Producer_rating         1.7355      0.921      1.885      0.059      -0.069       3.540\n",
       "Critic_rating           0.2278      0.161      1.411      0.158      -0.089       0.544\n",
       "Trailer_views        1.334e-05   3.13e-06      4.263      0.000    7.21e-06    1.95e-05\n",
       "Time_taken              0.0066      0.003      1.971      0.049    3.82e-05       0.013\n",
       "Twitter_hastags        -0.0032      0.003     -1.119      0.263      -0.009       0.002\n",
       "Avg_age_actors         -0.0038      0.008     -0.475      0.634      -0.019       0.012\n",
       "Num_multiplex           0.0020      0.002      0.850      0.395      -0.003       0.007\n",
       "3D_available_YES       -0.2810      0.201     -1.396      0.163      -0.675       0.113\n",
       "Genre_Action           -3.1368   4.82e+06  -6.51e-07      1.000   -9.45e+06    9.45e+06\n",
       "Genre_Comedy           -3.1277   4.82e+06  -6.49e-07      1.000   -9.45e+06    9.45e+06\n",
       "Genre_Drama            -3.2180   4.82e+06  -6.67e-07      1.000   -9.45e+06    9.45e+06\n",
       "Genre_Thriller         -2.8147   4.82e+06  -5.84e-07      1.000   -9.45e+06    9.45e+06\n",
       "=======================================================================================\n",
       "\"\"\""
      ]
     },
     "execution_count": 249,
     "metadata": {},
     "output_type": "execute_result"
    }
   ],
   "source": [
    "logit.summary()"
   ]
  },
  {
   "cell_type": "code",
   "execution_count": 250,
   "id": "e0481cae",
   "metadata": {},
   "outputs": [
    {
     "data": {
      "text/plain": [
       "array([[0.38283333, 0.61716667],\n",
       "       [0.41603719, 0.58396281],\n",
       "       [0.77338343, 0.22661657],\n",
       "       ...,\n",
       "       [0.42256096, 0.57743904],\n",
       "       [0.53810666, 0.46189334],\n",
       "       [0.22961779, 0.77038221]])"
      ]
     },
     "execution_count": 250,
     "metadata": {},
     "output_type": "execute_result"
    }
   ],
   "source": [
    "multiple_regressior.predict_proba(X)"
   ]
  },
  {
   "cell_type": "code",
   "execution_count": 251,
   "id": "29f5f946",
   "metadata": {},
   "outputs": [],
   "source": [
    "y_predict=multiple_regressior.predict(X)"
   ]
  },
  {
   "cell_type": "code",
   "execution_count": 252,
   "id": "6e243752",
   "metadata": {},
   "outputs": [
    {
     "data": {
      "text/plain": [
       "array([1, 1, 0, 0, 0, 0, 0, 0, 0, 0, 1, 1, 0, 0, 1, 1, 1, 1, 1, 1, 0, 0,\n",
       "       0, 0, 1, 1, 1, 1, 0, 1, 1, 1, 0, 1, 1, 1, 0, 1, 1, 0, 0, 1, 0, 0,\n",
       "       1, 1, 1, 0, 0, 0, 1, 1, 0, 1, 0, 0, 0, 0, 0, 1, 1, 0, 1, 0, 0, 1,\n",
       "       1, 1, 1, 1, 1, 1, 1, 1, 1, 1, 1, 1, 0, 0, 0, 1, 1, 1, 0, 0, 0, 1,\n",
       "       1, 0, 0, 1, 0, 0, 0, 0, 1, 0, 1, 0, 0, 1, 1, 0, 1, 0, 0, 0, 1, 0,\n",
       "       1, 0, 0, 1, 1, 1, 0, 0, 0, 1, 1, 1, 0, 0, 0, 0, 0, 0, 1, 1, 1, 1,\n",
       "       0, 1, 1, 1, 1, 1, 0, 1, 1, 0, 0, 0, 0, 0, 1, 0, 0, 0, 0, 0, 1, 0,\n",
       "       0, 1, 1, 0, 0, 0, 0, 0, 0, 0, 0, 0, 0, 1, 0, 0, 1, 1, 0, 1, 0, 0,\n",
       "       0, 0, 0, 0, 0, 0, 0, 0, 0, 0, 0, 0, 1, 0, 0, 0, 0, 0, 0, 0, 0, 0,\n",
       "       0, 0, 0, 1, 0, 0, 0, 0, 0, 0, 0, 0, 0, 0, 0, 1, 0, 0, 0, 0, 0, 0,\n",
       "       0, 0, 0, 0, 0, 0, 0, 0, 0, 0, 1, 0, 0, 0, 0, 0, 0, 0, 1, 0, 1, 1,\n",
       "       1, 1, 1, 1, 0, 1, 0, 1, 1, 1, 1, 0, 1, 0, 0, 0, 0, 0, 0, 0, 0, 0,\n",
       "       0, 0, 0, 0, 0, 0, 0, 1, 1, 0, 0, 0, 0, 0, 0, 0, 0, 0, 0, 0, 0, 1,\n",
       "       1, 1, 1, 0, 1, 0, 1, 0, 1, 1, 1, 0, 1, 1, 1, 1, 1, 0, 0, 0, 0, 0,\n",
       "       1, 1, 1, 0, 1, 0, 0, 1, 0, 0, 1, 1, 1, 0, 1, 0, 0, 1, 1, 0, 1, 0,\n",
       "       1, 1, 1, 1, 1, 1, 1, 1, 1, 1, 1, 0, 1, 0, 1, 1, 1, 1, 1, 1, 1, 1,\n",
       "       1, 0, 1, 1, 0, 0, 0, 0, 0, 0, 0, 0, 1, 0, 0, 0, 0, 0, 0, 0, 0, 0,\n",
       "       0, 1, 0, 0, 0, 1, 1, 1, 1, 0, 0, 1, 0, 0, 0, 0, 1, 0, 0, 1, 0, 0,\n",
       "       1, 1, 1, 0, 1, 1, 0, 0, 1, 1, 0, 0, 0, 0, 1, 0, 0, 0, 0, 1, 1, 0,\n",
       "       1, 1, 0, 1, 0, 0, 1, 0, 1, 1, 1, 1, 1, 0, 1, 1, 1, 0, 1, 1, 0, 0,\n",
       "       1, 0, 0, 0, 0, 0, 0, 1, 1, 1, 1, 1, 0, 1, 0, 1, 0, 1, 0, 0, 1, 1,\n",
       "       0, 0, 0, 0, 0, 0, 0, 0, 0, 0, 0, 0, 1, 1, 0, 0, 0, 0, 0, 0, 1, 0,\n",
       "       0, 0, 0, 1, 0, 1, 1, 0, 0, 0, 0, 0, 0, 0, 0, 0, 1, 1, 1, 1, 0, 1],\n",
       "      dtype=int64)"
      ]
     },
     "execution_count": 252,
     "metadata": {},
     "output_type": "execute_result"
    }
   ],
   "source": [
    "y_predict"
   ]
  },
  {
   "cell_type": "code",
   "execution_count": 253,
   "id": "8f890165",
   "metadata": {},
   "outputs": [],
   "source": [
    "from sklearn.metrics import confusion_matrix ,accuracy_score"
   ]
  },
  {
   "cell_type": "code",
   "execution_count": 254,
   "id": "c1e38767",
   "metadata": {},
   "outputs": [
    {
     "data": {
      "text/plain": [
       "array([[190,  86],\n",
       "       [110, 120]], dtype=int64)"
      ]
     },
     "execution_count": 254,
     "metadata": {},
     "output_type": "execute_result"
    }
   ],
   "source": [
    "confusion_matrix(y,y_predict)"
   ]
  },
  {
   "cell_type": "markdown",
   "id": "fe7e682f",
   "metadata": {},
   "source": [
    "# LDA "
   ]
  },
  {
   "cell_type": "code",
   "execution_count": 255,
   "id": "d88f7527",
   "metadata": {},
   "outputs": [
    {
     "data": {
      "text/html": [
       "<div>\n",
       "<style scoped>\n",
       "    .dataframe tbody tr th:only-of-type {\n",
       "        vertical-align: middle;\n",
       "    }\n",
       "\n",
       "    .dataframe tbody tr th {\n",
       "        vertical-align: top;\n",
       "    }\n",
       "\n",
       "    .dataframe thead th {\n",
       "        text-align: right;\n",
       "    }\n",
       "</style>\n",
       "<table border=\"1\" class=\"dataframe\">\n",
       "  <thead>\n",
       "    <tr style=\"text-align: right;\">\n",
       "      <th></th>\n",
       "      <th>Collection</th>\n",
       "      <th>Marketing expense</th>\n",
       "      <th>Production expense</th>\n",
       "      <th>Multiplex coverage</th>\n",
       "      <th>Budget</th>\n",
       "      <th>Movie_length</th>\n",
       "      <th>Lead_ Actor_Rating</th>\n",
       "      <th>Lead_Actress_rating</th>\n",
       "      <th>Director_rating</th>\n",
       "      <th>Producer_rating</th>\n",
       "      <th>...</th>\n",
       "      <th>Trailer_views</th>\n",
       "      <th>Time_taken</th>\n",
       "      <th>Twitter_hastags</th>\n",
       "      <th>Avg_age_actors</th>\n",
       "      <th>Num_multiplex</th>\n",
       "      <th>3D_available_YES</th>\n",
       "      <th>Genre_Action</th>\n",
       "      <th>Genre_Comedy</th>\n",
       "      <th>Genre_Drama</th>\n",
       "      <th>Genre_Thriller</th>\n",
       "    </tr>\n",
       "  </thead>\n",
       "  <tbody>\n",
       "    <tr>\n",
       "      <th>0</th>\n",
       "      <td>48000</td>\n",
       "      <td>20.1264</td>\n",
       "      <td>59.62</td>\n",
       "      <td>0.462</td>\n",
       "      <td>36524.125</td>\n",
       "      <td>138.7</td>\n",
       "      <td>7.825</td>\n",
       "      <td>8.095</td>\n",
       "      <td>7.910</td>\n",
       "      <td>7.995</td>\n",
       "      <td>...</td>\n",
       "      <td>527367.0</td>\n",
       "      <td>109.60</td>\n",
       "      <td>223.8400</td>\n",
       "      <td>23</td>\n",
       "      <td>494.0</td>\n",
       "      <td>1</td>\n",
       "      <td>0</td>\n",
       "      <td>0</td>\n",
       "      <td>0</td>\n",
       "      <td>1</td>\n",
       "    </tr>\n",
       "    <tr>\n",
       "      <th>1</th>\n",
       "      <td>43200</td>\n",
       "      <td>20.5462</td>\n",
       "      <td>69.14</td>\n",
       "      <td>0.531</td>\n",
       "      <td>35668.655</td>\n",
       "      <td>152.4</td>\n",
       "      <td>7.505</td>\n",
       "      <td>7.650</td>\n",
       "      <td>7.440</td>\n",
       "      <td>7.470</td>\n",
       "      <td>...</td>\n",
       "      <td>494055.0</td>\n",
       "      <td>146.64</td>\n",
       "      <td>243.4560</td>\n",
       "      <td>42</td>\n",
       "      <td>462.0</td>\n",
       "      <td>0</td>\n",
       "      <td>0</td>\n",
       "      <td>0</td>\n",
       "      <td>1</td>\n",
       "      <td>0</td>\n",
       "    </tr>\n",
       "    <tr>\n",
       "      <th>2</th>\n",
       "      <td>69300</td>\n",
       "      <td>20.5458</td>\n",
       "      <td>69.14</td>\n",
       "      <td>0.531</td>\n",
       "      <td>39912.675</td>\n",
       "      <td>134.6</td>\n",
       "      <td>7.485</td>\n",
       "      <td>7.570</td>\n",
       "      <td>7.495</td>\n",
       "      <td>7.515</td>\n",
       "      <td>...</td>\n",
       "      <td>547051.0</td>\n",
       "      <td>147.88</td>\n",
       "      <td>307.9904</td>\n",
       "      <td>38</td>\n",
       "      <td>458.0</td>\n",
       "      <td>0</td>\n",
       "      <td>0</td>\n",
       "      <td>1</td>\n",
       "      <td>0</td>\n",
       "      <td>0</td>\n",
       "    </tr>\n",
       "    <tr>\n",
       "      <th>3</th>\n",
       "      <td>66800</td>\n",
       "      <td>20.6474</td>\n",
       "      <td>59.36</td>\n",
       "      <td>0.542</td>\n",
       "      <td>38873.890</td>\n",
       "      <td>119.3</td>\n",
       "      <td>6.895</td>\n",
       "      <td>7.035</td>\n",
       "      <td>6.920</td>\n",
       "      <td>7.020</td>\n",
       "      <td>...</td>\n",
       "      <td>516279.0</td>\n",
       "      <td>185.36</td>\n",
       "      <td>225.3440</td>\n",
       "      <td>45</td>\n",
       "      <td>472.0</td>\n",
       "      <td>1</td>\n",
       "      <td>0</td>\n",
       "      <td>0</td>\n",
       "      <td>1</td>\n",
       "      <td>0</td>\n",
       "    </tr>\n",
       "    <tr>\n",
       "      <th>4</th>\n",
       "      <td>69300</td>\n",
       "      <td>21.3810</td>\n",
       "      <td>59.36</td>\n",
       "      <td>0.542</td>\n",
       "      <td>39701.585</td>\n",
       "      <td>127.7</td>\n",
       "      <td>6.920</td>\n",
       "      <td>7.070</td>\n",
       "      <td>6.815</td>\n",
       "      <td>7.070</td>\n",
       "      <td>...</td>\n",
       "      <td>531448.0</td>\n",
       "      <td>176.48</td>\n",
       "      <td>225.7920</td>\n",
       "      <td>55</td>\n",
       "      <td>395.0</td>\n",
       "      <td>0</td>\n",
       "      <td>0</td>\n",
       "      <td>0</td>\n",
       "      <td>1</td>\n",
       "      <td>0</td>\n",
       "    </tr>\n",
       "  </tbody>\n",
       "</table>\n",
       "<p>5 rows × 21 columns</p>\n",
       "</div>"
      ],
      "text/plain": [
       "   Collection  Marketing expense  Production expense  Multiplex coverage  \\\n",
       "0       48000            20.1264               59.62               0.462   \n",
       "1       43200            20.5462               69.14               0.531   \n",
       "2       69300            20.5458               69.14               0.531   \n",
       "3       66800            20.6474               59.36               0.542   \n",
       "4       69300            21.3810               59.36               0.542   \n",
       "\n",
       "      Budget  Movie_length  Lead_ Actor_Rating  Lead_Actress_rating  \\\n",
       "0  36524.125         138.7               7.825                8.095   \n",
       "1  35668.655         152.4               7.505                7.650   \n",
       "2  39912.675         134.6               7.485                7.570   \n",
       "3  38873.890         119.3               6.895                7.035   \n",
       "4  39701.585         127.7               6.920                7.070   \n",
       "\n",
       "   Director_rating  Producer_rating  ...  Trailer_views  Time_taken  \\\n",
       "0            7.910            7.995  ...       527367.0      109.60   \n",
       "1            7.440            7.470  ...       494055.0      146.64   \n",
       "2            7.495            7.515  ...       547051.0      147.88   \n",
       "3            6.920            7.020  ...       516279.0      185.36   \n",
       "4            6.815            7.070  ...       531448.0      176.48   \n",
       "\n",
       "   Twitter_hastags  Avg_age_actors  Num_multiplex  3D_available_YES  \\\n",
       "0         223.8400              23          494.0                 1   \n",
       "1         243.4560              42          462.0                 0   \n",
       "2         307.9904              38          458.0                 0   \n",
       "3         225.3440              45          472.0                 1   \n",
       "4         225.7920              55          395.0                 0   \n",
       "\n",
       "   Genre_Action  Genre_Comedy  Genre_Drama  Genre_Thriller  \n",
       "0             0             0            0               1  \n",
       "1             0             0            1               0  \n",
       "2             0             1            0               0  \n",
       "3             0             0            1               0  \n",
       "4             0             0            1               0  \n",
       "\n",
       "[5 rows x 21 columns]"
      ]
     },
     "execution_count": 255,
     "metadata": {},
     "output_type": "execute_result"
    }
   ],
   "source": [
    "X.head()"
   ]
  },
  {
   "cell_type": "code",
   "execution_count": 256,
   "id": "dc44bc30",
   "metadata": {},
   "outputs": [
    {
     "data": {
      "text/plain": [
       "0    0\n",
       "1    1\n",
       "2    0\n",
       "3    0\n",
       "4    0\n",
       "Name: Start_Tech_Oscar, dtype: int64"
      ]
     },
     "execution_count": 256,
     "metadata": {},
     "output_type": "execute_result"
    }
   ],
   "source": [
    "y.head()"
   ]
  },
  {
   "cell_type": "code",
   "execution_count": 257,
   "id": "9a8038e7",
   "metadata": {},
   "outputs": [],
   "source": [
    "from sklearn.discriminant_analysis import LinearDiscriminantAnalysis"
   ]
  },
  {
   "cell_type": "code",
   "execution_count": 258,
   "id": "b81eb7ec",
   "metadata": {},
   "outputs": [],
   "source": [
    "LDA=LinearDiscriminantAnalysis()"
   ]
  },
  {
   "cell_type": "code",
   "execution_count": 259,
   "id": "3a37e9a0",
   "metadata": {},
   "outputs": [
    {
     "data": {
      "text/plain": [
       "LinearDiscriminantAnalysis()"
      ]
     },
     "execution_count": 259,
     "metadata": {},
     "output_type": "execute_result"
    }
   ],
   "source": [
    "LDA.fit(X,y)"
   ]
  },
  {
   "cell_type": "code",
   "execution_count": 260,
   "id": "7f6f35b3",
   "metadata": {},
   "outputs": [],
   "source": [
    "predicted=LDA.predict(X)"
   ]
  },
  {
   "cell_type": "code",
   "execution_count": 261,
   "id": "ac7c6220",
   "metadata": {},
   "outputs": [
    {
     "data": {
      "text/plain": [
       "array([1, 0, 0, 0, 0, 0, 0, 0, 0, 0, 0, 1, 0, 0, 1, 1, 1, 0, 0, 1, 0, 1,\n",
       "       0, 0, 1, 1, 0, 0, 1, 1, 0, 1, 0, 0, 1, 1, 1, 1, 1, 0, 0, 1, 1, 0,\n",
       "       1, 1, 1, 0, 0, 0, 0, 1, 1, 1, 0, 0, 0, 0, 0, 0, 0, 0, 0, 0, 0, 1,\n",
       "       1, 0, 1, 0, 1, 1, 1, 0, 1, 1, 1, 1, 0, 1, 0, 1, 1, 0, 0, 1, 0, 1,\n",
       "       1, 1, 0, 1, 1, 1, 1, 1, 1, 0, 1, 1, 0, 1, 1, 1, 1, 0, 0, 0, 1, 1,\n",
       "       1, 1, 0, 1, 1, 1, 1, 1, 0, 1, 1, 1, 0, 0, 1, 0, 0, 0, 1, 1, 1, 0,\n",
       "       0, 1, 1, 1, 1, 1, 1, 1, 1, 0, 0, 0, 0, 0, 0, 0, 0, 0, 0, 1, 1, 0,\n",
       "       1, 1, 1, 0, 1, 0, 0, 0, 0, 1, 0, 0, 0, 0, 1, 0, 1, 1, 0, 1, 1, 0,\n",
       "       0, 0, 1, 0, 0, 0, 0, 0, 0, 0, 0, 0, 1, 1, 0, 0, 0, 0, 1, 0, 0, 0,\n",
       "       0, 0, 0, 0, 1, 1, 0, 1, 0, 0, 0, 0, 0, 0, 0, 0, 0, 0, 0, 0, 0, 0,\n",
       "       1, 0, 0, 0, 0, 0, 0, 0, 1, 0, 1, 1, 0, 0, 1, 0, 0, 1, 1, 0, 0, 0,\n",
       "       0, 0, 0, 0, 0, 1, 0, 1, 0, 1, 0, 0, 0, 0, 1, 1, 0, 0, 0, 0, 0, 0,\n",
       "       0, 0, 0, 0, 1, 1, 0, 1, 1, 0, 1, 0, 0, 0, 0, 0, 0, 0, 0, 1, 0, 0,\n",
       "       0, 0, 1, 0, 1, 0, 1, 1, 0, 1, 1, 0, 1, 0, 1, 1, 1, 0, 0, 0, 1, 1,\n",
       "       1, 1, 1, 1, 1, 1, 1, 1, 0, 0, 1, 1, 1, 1, 1, 0, 1, 1, 1, 0, 1, 1,\n",
       "       1, 0, 1, 1, 0, 0, 1, 1, 1, 0, 1, 0, 1, 0, 1, 1, 0, 0, 0, 0, 1, 0,\n",
       "       1, 0, 0, 0, 0, 0, 0, 0, 0, 0, 0, 0, 1, 0, 0, 0, 0, 0, 0, 0, 0, 0,\n",
       "       0, 1, 1, 1, 0, 1, 1, 1, 1, 0, 0, 0, 0, 0, 0, 0, 1, 0, 0, 1, 1, 1,\n",
       "       1, 1, 0, 1, 1, 1, 0, 1, 0, 0, 0, 0, 0, 0, 1, 0, 0, 0, 0, 0, 1, 0,\n",
       "       1, 1, 0, 1, 0, 0, 1, 0, 1, 1, 1, 1, 1, 0, 1, 1, 1, 0, 1, 0, 0, 0,\n",
       "       1, 0, 0, 1, 0, 0, 1, 1, 0, 1, 1, 1, 0, 1, 0, 1, 0, 0, 1, 0, 1, 1,\n",
       "       1, 0, 0, 0, 0, 0, 0, 0, 0, 0, 0, 0, 0, 1, 0, 0, 0, 0, 0, 0, 1, 1,\n",
       "       0, 0, 0, 0, 1, 1, 1, 1, 0, 0, 0, 0, 0, 0, 0, 0, 1, 1, 1, 1, 1, 1],\n",
       "      dtype=int64)"
      ]
     },
     "execution_count": 261,
     "metadata": {},
     "output_type": "execute_result"
    }
   ],
   "source": [
    "predicted"
   ]
  },
  {
   "cell_type": "code",
   "execution_count": 262,
   "id": "69481428",
   "metadata": {},
   "outputs": [
    {
     "data": {
      "text/plain": [
       "array([[193,  83],\n",
       "       [ 97, 133]], dtype=int64)"
      ]
     },
     "execution_count": 262,
     "metadata": {},
     "output_type": "execute_result"
    }
   ],
   "source": [
    "confusion_matrix(y,predicted)"
   ]
  },
  {
   "cell_type": "markdown",
   "id": "2e6c1bf1",
   "metadata": {},
   "source": [
    "# Train Split DataSet"
   ]
  },
  {
   "cell_type": "code",
   "execution_count": 263,
   "id": "9f94a182",
   "metadata": {},
   "outputs": [],
   "source": [
    "from sklearn.model_selection import train_test_split"
   ]
  },
  {
   "cell_type": "code",
   "execution_count": 264,
   "id": "8de7b99a",
   "metadata": {},
   "outputs": [],
   "source": [
    "X_train,X_test,y_train,y_test=train_test_split(X,y,test_size=0.2,random_state=42)"
   ]
  },
  {
   "cell_type": "code",
   "execution_count": 265,
   "id": "96cfeedc",
   "metadata": {},
   "outputs": [],
   "source": [
    "Logistic_rgx=LogisticRegression()"
   ]
  },
  {
   "cell_type": "code",
   "execution_count": 266,
   "id": "5b6d291e",
   "metadata": {},
   "outputs": [
    {
     "data": {
      "text/plain": [
       "LogisticRegression()"
      ]
     },
     "execution_count": 266,
     "metadata": {},
     "output_type": "execute_result"
    }
   ],
   "source": [
    "Logistic_rgx.fit(X_train,y_train)"
   ]
  },
  {
   "cell_type": "code",
   "execution_count": 267,
   "id": "9a9cb944",
   "metadata": {},
   "outputs": [],
   "source": [
    "y_test_result=Logistic_rgx.predict(X_test)"
   ]
  },
  {
   "cell_type": "code",
   "execution_count": 268,
   "id": "75cc4172",
   "metadata": {},
   "outputs": [
    {
     "data": {
      "text/plain": [
       "array([[36, 24],\n",
       "       [18, 24]], dtype=int64)"
      ]
     },
     "execution_count": 268,
     "metadata": {},
     "output_type": "execute_result"
    }
   ],
   "source": [
    "confusion_matrix(y_test,y_test_result)"
   ]
  },
  {
   "cell_type": "code",
   "execution_count": 269,
   "id": "e612d2cb",
   "metadata": {},
   "outputs": [
    {
     "data": {
      "text/plain": [
       "0.5882352941176471"
      ]
     },
     "execution_count": 269,
     "metadata": {},
     "output_type": "execute_result"
    }
   ],
   "source": [
    "Logistic_rgx.score(X_test,y_test)"
   ]
  },
  {
   "cell_type": "markdown",
   "id": "6c41ba24",
   "metadata": {},
   "source": [
    "# KNN Algorithm"
   ]
  },
  {
   "cell_type": "code",
   "execution_count": 270,
   "id": "d963675e",
   "metadata": {},
   "outputs": [],
   "source": [
    "from sklearn import preprocessing"
   ]
  },
  {
   "cell_type": "code",
   "execution_count": 271,
   "id": "78c6e8dd",
   "metadata": {},
   "outputs": [],
   "source": [
    "scaled=preprocessing.StandardScaler().fit(X_train)"
   ]
  },
  {
   "cell_type": "code",
   "execution_count": 272,
   "id": "7683b07b",
   "metadata": {},
   "outputs": [],
   "source": [
    "X_train_knn=scaled.transform(X_train)"
   ]
  },
  {
   "cell_type": "code",
   "execution_count": 273,
   "id": "28aaf101",
   "metadata": {},
   "outputs": [
    {
     "data": {
      "text/plain": [
       "array([[-1.36213663,  2.08575877,  1.03323679, ..., -0.66547513,\n",
       "         1.98162289, -0.74420841],\n",
       "       [-0.27747882, -0.47718231, -0.41315956, ..., -0.66547513,\n",
       "        -0.50463688,  1.34370962],\n",
       "       [-0.34612805, -0.65745212, -0.71521823, ...,  1.50268577,\n",
       "        -0.50463688, -0.74420841],\n",
       "       ...,\n",
       "       [ 0.35409408, -0.66342837, -1.30336132, ...,  1.50268577,\n",
       "        -0.50463688, -0.74420841],\n",
       "       [-1.16991879,  2.08575877,  1.03323679, ..., -0.66547513,\n",
       "        -0.50463688, -0.74420841],\n",
       "       [-0.45596682, -0.59841956, -0.35216694, ..., -0.66547513,\n",
       "        -0.50463688, -0.74420841]])"
      ]
     },
     "execution_count": 273,
     "metadata": {},
     "output_type": "execute_result"
    }
   ],
   "source": [
    "X_train_knn"
   ]
  },
  {
   "cell_type": "code",
   "execution_count": 274,
   "id": "ed5f8b2c",
   "metadata": {},
   "outputs": [],
   "source": [
    "scaled=preprocessing.StandardScaler().fit(X_test)"
   ]
  },
  {
   "cell_type": "code",
   "execution_count": 275,
   "id": "17ae9937",
   "metadata": {},
   "outputs": [],
   "source": [
    "X_test_knn=scaled.transform(X_test)"
   ]
  },
  {
   "cell_type": "code",
   "execution_count": 276,
   "id": "c508bac0",
   "metadata": {},
   "outputs": [
    {
     "data": {
      "text/plain": [
       "array([[ 0.42106523, -0.66297032, -1.14921855, ...,  1.51338117,\n",
       "        -0.4152274 , -0.78679579],\n",
       "       [ 1.73443409, -0.6734444 , -0.79642905, ..., -0.66077206,\n",
       "        -0.4152274 ,  1.27097782],\n",
       "       [-1.07139937, -0.65883286,  2.39213032, ...,  1.51338117,\n",
       "        -0.4152274 , -0.78679579],\n",
       "       ...,\n",
       "       [-0.53411211,  1.99336716,  0.95107489, ...,  1.51338117,\n",
       "        -0.4152274 , -0.78679579],\n",
       "       [ 0.25689413, -0.67479589, -1.08344424, ..., -0.66077206,\n",
       "        -0.4152274 ,  1.27097782],\n",
       "       [ 0.09272302, -0.66198042,  0.16327799, ...,  1.51338117,\n",
       "        -0.4152274 , -0.78679579]])"
      ]
     },
     "execution_count": 276,
     "metadata": {},
     "output_type": "execute_result"
    }
   ],
   "source": [
    "X_test_knn"
   ]
  },
  {
   "cell_type": "markdown",
   "id": "7a0f0f64",
   "metadata": {},
   "source": [
    "# KNN with n=1"
   ]
  },
  {
   "cell_type": "code",
   "execution_count": 277,
   "id": "84943867",
   "metadata": {},
   "outputs": [],
   "source": [
    "from sklearn.neighbors import KNeighborsClassifier"
   ]
  },
  {
   "cell_type": "code",
   "execution_count": 278,
   "id": "d4ba7ad5",
   "metadata": {},
   "outputs": [],
   "source": [
    "KNN_OBJ_1=KNeighborsClassifier(n_neighbors=1)"
   ]
  },
  {
   "cell_type": "code",
   "execution_count": 279,
   "id": "c7eff404",
   "metadata": {},
   "outputs": [
    {
     "data": {
      "text/plain": [
       "KNeighborsClassifier(n_neighbors=1)"
      ]
     },
     "execution_count": 279,
     "metadata": {},
     "output_type": "execute_result"
    }
   ],
   "source": [
    "KNN_OBJ_1.fit(X_train_knn,y_train)"
   ]
  },
  {
   "cell_type": "code",
   "execution_count": 280,
   "id": "c9a1ef51",
   "metadata": {},
   "outputs": [
    {
     "data": {
      "text/plain": [
       "array([[37, 23],\n",
       "       [16, 26]], dtype=int64)"
      ]
     },
     "execution_count": 280,
     "metadata": {},
     "output_type": "execute_result"
    }
   ],
   "source": [
    "confusion_matrix(y_test,KNN_OBJ_1.predict(X_test_knn))"
   ]
  },
  {
   "cell_type": "code",
   "execution_count": 286,
   "id": "27e7f13a",
   "metadata": {},
   "outputs": [
    {
     "data": {
      "text/plain": [
       "61.76470588235294"
      ]
     },
     "execution_count": 286,
     "metadata": {},
     "output_type": "execute_result"
    }
   ],
   "source": [
    "accuracy_score(y_test,KNN_OBJ_1.predict(X_test_knn))*100"
   ]
  },
  {
   "cell_type": "markdown",
   "id": "bedf3f5c",
   "metadata": {},
   "source": [
    "Find the best n value for KNN"
   ]
  },
  {
   "cell_type": "code",
   "execution_count": 282,
   "id": "362c718e",
   "metadata": {},
   "outputs": [],
   "source": [
    "from sklearn.model_selection import GridSearchCV"
   ]
  },
  {
   "cell_type": "code",
   "execution_count": 283,
   "id": "10eefeb5",
   "metadata": {},
   "outputs": [],
   "source": [
    "n={'n_neighbors':[1,2,3,4,5,6,7,8,9,10]}\n",
    "GridCV=GridSearchCV(KNeighborsClassifier(),n)"
   ]
  },
  {
   "cell_type": "code",
   "execution_count": 284,
   "id": "24f8a491",
   "metadata": {},
   "outputs": [
    {
     "data": {
      "text/plain": [
       "GridSearchCV(estimator=KNeighborsClassifier(),\n",
       "             param_grid={'n_neighbors': [1, 2, 3, 4, 5, 6, 7, 8, 9, 10]})"
      ]
     },
     "execution_count": 284,
     "metadata": {},
     "output_type": "execute_result"
    }
   ],
   "source": [
    "GridCV.fit(X_train_knn,y_train)"
   ]
  },
  {
   "cell_type": "code",
   "execution_count": 285,
   "id": "1dc5b821",
   "metadata": {},
   "outputs": [
    {
     "data": {
      "text/plain": [
       "{'n_neighbors': 1}"
      ]
     },
     "execution_count": 285,
     "metadata": {},
     "output_type": "execute_result"
    }
   ],
   "source": [
    "GridCV.best_params_"
   ]
  },
  {
   "cell_type": "markdown",
   "id": "36317779",
   "metadata": {},
   "source": [
    "Conclusion\n",
    "KNN Classifier classify efficiently when n=1"
   ]
  }
 ],
 "metadata": {
  "kernelspec": {
   "display_name": "Python 3",
   "language": "python",
   "name": "python3"
  },
  "language_info": {
   "codemirror_mode": {
    "name": "ipython",
    "version": 3
   },
   "file_extension": ".py",
   "mimetype": "text/x-python",
   "name": "python",
   "nbconvert_exporter": "python",
   "pygments_lexer": "ipython3",
   "version": "3.8.8"
  }
 },
 "nbformat": 4,
 "nbformat_minor": 5
}
